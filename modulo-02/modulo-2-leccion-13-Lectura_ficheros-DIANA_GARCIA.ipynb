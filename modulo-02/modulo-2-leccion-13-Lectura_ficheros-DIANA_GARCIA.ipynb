{
 "cells": [
  {
   "cell_type": "markdown",
   "metadata": {},
   "source": [
    "EJERCICIOS DE LECTURA DE FICHEROS"
   ]
  },
  {
   "cell_type": "markdown",
   "metadata": {},
   "source": [
    "1. Actualiza el json de personal, añadiendo un año más a la edad y experiencia de cada registro de personal."
   ]
  },
  {
   "cell_type": "code",
   "execution_count": 1,
   "metadata": {},
   "outputs": [],
   "source": [
    "import json\n",
    "\n",
    "import pandas as pd"
   ]
  },
  {
   "cell_type": "code",
   "execution_count": 2,
   "metadata": {},
   "outputs": [],
   "source": [
    "with open(\"personal.json\", \"r\") as fichero:\n",
    "\n",
    "    personal = json.load(fichero)"
   ]
  },
  {
   "cell_type": "code",
   "execution_count": 3,
   "metadata": {},
   "outputs": [
    {
     "data": {
      "text/plain": [
       "dict"
      ]
     },
     "execution_count": 3,
     "metadata": {},
     "output_type": "execute_result"
    }
   ],
   "source": [
    "type(personal)"
   ]
  },
  {
   "cell_type": "code",
   "execution_count": 4,
   "metadata": {},
   "outputs": [
    {
     "data": {
      "text/plain": [
       "{'workers': [{'nombre': 'Ana',\n",
       "   'edad': 35,\n",
       "   'experiencia': 6,\n",
       "   'nivel': 'Senior',\n",
       "   'salario': '50.000',\n",
       "   'mascota': 'gatos'},\n",
       "  {'nombre': 'Eva',\n",
       "   'edad': 38,\n",
       "   'experiencia': 3,\n",
       "   'nivel': 'Mid',\n",
       "   'salario': '25.000'},\n",
       "  {'nombre': 'Marta',\n",
       "   'edad': 28,\n",
       "   'experiencia': 2,\n",
       "   'nivel': 'Mid',\n",
       "   'salario': '25.000'},\n",
       "  {'nombre': 'Paula',\n",
       "   'edad': 31,\n",
       "   'experiencia': 4,\n",
       "   'nivel': 'Senior',\n",
       "   'salario': '50.000'}]}"
      ]
     },
     "execution_count": 4,
     "metadata": {},
     "output_type": "execute_result"
    }
   ],
   "source": [
    "personal"
   ]
  },
  {
   "cell_type": "code",
   "execution_count": 5,
   "metadata": {},
   "outputs": [
    {
     "name": "stdout",
     "output_type": "stream",
     "text": [
      "{'nombre': 'Ana', 'edad': 35, 'experiencia': 6, 'nivel': 'Senior', 'salario': '50.000', 'mascota': 'gatos'}\n",
      "{'nombre': 'Eva', 'edad': 38, 'experiencia': 3, 'nivel': 'Mid', 'salario': '25.000'}\n",
      "{'nombre': 'Marta', 'edad': 28, 'experiencia': 2, 'nivel': 'Mid', 'salario': '25.000'}\n",
      "{'nombre': 'Paula', 'edad': 31, 'experiencia': 4, 'nivel': 'Senior', 'salario': '50.000'}\n"
     ]
    }
   ],
   "source": [
    "for person in personal['workers']:\n",
    "    print(person)"
   ]
  },
  {
   "cell_type": "code",
   "execution_count": 6,
   "metadata": {},
   "outputs": [
    {
     "data": {
      "text/plain": [
       "{'workers': [{'nombre': 'Ana',\n",
       "   'edad': 36,\n",
       "   'experiencia': 7,\n",
       "   'nivel': 'Senior',\n",
       "   'salario': '50.000',\n",
       "   'mascota': 'gatos'},\n",
       "  {'nombre': 'Eva',\n",
       "   'edad': 39,\n",
       "   'experiencia': 4,\n",
       "   'nivel': 'Mid',\n",
       "   'salario': '25.000'},\n",
       "  {'nombre': 'Marta',\n",
       "   'edad': 29,\n",
       "   'experiencia': 3,\n",
       "   'nivel': 'Mid',\n",
       "   'salario': '25.000'},\n",
       "  {'nombre': 'Paula',\n",
       "   'edad': 32,\n",
       "   'experiencia': 5,\n",
       "   'nivel': 'Senior',\n",
       "   'salario': '50.000'}]}"
      ]
     },
     "execution_count": 6,
     "metadata": {},
     "output_type": "execute_result"
    }
   ],
   "source": [
    "for worker in personal[\"workers\"]:\n",
    "    worker[\"edad\"] += 1\n",
    "    worker[\"experiencia\"] +=1\n",
    "\n",
    "personal"
   ]
  },
  {
   "cell_type": "markdown",
   "metadata": {},
   "source": [
    "2. Cambia el nivel en función de la experiencia: Junior = 1 año, Mid = 2 o 3 años, Senior más de 4 años."
   ]
  },
  {
   "cell_type": "code",
   "execution_count": 7,
   "metadata": {},
   "outputs": [
    {
     "data": {
      "text/plain": [
       "{'workers': [{'nombre': 'Ana',\n",
       "   'edad': 36,\n",
       "   'experiencia': 7,\n",
       "   'nivel': 'Senior',\n",
       "   'salario': '50.000',\n",
       "   'mascota': 'gatos'},\n",
       "  {'nombre': 'Eva',\n",
       "   'edad': 39,\n",
       "   'experiencia': 4,\n",
       "   'nivel': 'Senior',\n",
       "   'salario': '25.000'},\n",
       "  {'nombre': 'Marta',\n",
       "   'edad': 29,\n",
       "   'experiencia': 3,\n",
       "   'nivel': 'Mid',\n",
       "   'salario': '25.000'},\n",
       "  {'nombre': 'Paula',\n",
       "   'edad': 32,\n",
       "   'experiencia': 5,\n",
       "   'nivel': 'Senior',\n",
       "   'salario': '50.000'}]}"
      ]
     },
     "execution_count": 7,
     "metadata": {},
     "output_type": "execute_result"
    }
   ],
   "source": [
    "for worker in personal[\"workers\"]:\n",
    "    if worker[\"experiencia\"] >= 4:\n",
    "        worker[\"nivel\"] = \"Senior\"\n",
    "        \n",
    "    elif worker[\"experiencia\"] >= 2:\n",
    "        worker[\"nivel\"] = \"Mid\"\n",
    "        \n",
    "    else:\n",
    "        worker[\"nivel\"] = \"Junior\"\n",
    "\n",
    "personal   "
   ]
  },
  {
   "cell_type": "markdown",
   "metadata": {},
   "source": [
    "3. Cambia el salario en base al nivel: Junior = 25.000, Mid = 35.000, Senior = 50.000."
   ]
  },
  {
   "cell_type": "code",
   "execution_count": 8,
   "metadata": {},
   "outputs": [
    {
     "data": {
      "text/plain": [
       "{'workers': [{'nombre': 'Ana',\n",
       "   'edad': 36,\n",
       "   'experiencia': 7,\n",
       "   'nivel': 'Senior',\n",
       "   'salario': '50.000',\n",
       "   'mascota': 'gatos'},\n",
       "  {'nombre': 'Eva',\n",
       "   'edad': 39,\n",
       "   'experiencia': 4,\n",
       "   'nivel': 'Senior',\n",
       "   'salario': '50.000'},\n",
       "  {'nombre': 'Marta',\n",
       "   'edad': 29,\n",
       "   'experiencia': 3,\n",
       "   'nivel': 'Mid',\n",
       "   'salario': '25.000'},\n",
       "  {'nombre': 'Paula',\n",
       "   'edad': 32,\n",
       "   'experiencia': 5,\n",
       "   'nivel': 'Senior',\n",
       "   'salario': '50.000'}]}"
      ]
     },
     "execution_count": 8,
     "metadata": {},
     "output_type": "execute_result"
    }
   ],
   "source": [
    "for worker in personal[\"workers\"]:\n",
    "    if worker[\"nivel\"] == \"Senior\":\n",
    "        worker[\"salario\"] = \"50.000\"\n",
    "        \n",
    "    elif worker[\"experiencia\"] == \"Mid\":\n",
    "        worker[\"salario\"] = \"35.000\"\n",
    "        \n",
    "    else:\n",
    "        worker[\"salario\"] = \"25.000\"\n",
    "\n",
    "personal   "
   ]
  },
  {
   "cell_type": "markdown",
   "metadata": {},
   "source": [
    "4. Guarda el json con el nombre \"personal_actualizado.json\"."
   ]
  },
  {
   "cell_type": "code",
   "execution_count": 9,
   "metadata": {},
   "outputs": [],
   "source": [
    "with open(\"personal.json\", \"w\") as personal_actualizado:\n",
    "    json.dump(personal, personal_actualizado)"
   ]
  },
  {
   "cell_type": "markdown",
   "metadata": {},
   "source": [
    "5. Abre el json con Pandas."
   ]
  },
  {
   "cell_type": "code",
   "execution_count": 10,
   "metadata": {},
   "outputs": [
    {
     "data": {
      "text/html": [
       "<div>\n",
       "<style scoped>\n",
       "    .dataframe tbody tr th:only-of-type {\n",
       "        vertical-align: middle;\n",
       "    }\n",
       "\n",
       "    .dataframe tbody tr th {\n",
       "        vertical-align: top;\n",
       "    }\n",
       "\n",
       "    .dataframe thead th {\n",
       "        text-align: right;\n",
       "    }\n",
       "</style>\n",
       "<table border=\"1\" class=\"dataframe\">\n",
       "  <thead>\n",
       "    <tr style=\"text-align: right;\">\n",
       "      <th></th>\n",
       "      <th>workers</th>\n",
       "    </tr>\n",
       "  </thead>\n",
       "  <tbody>\n",
       "    <tr>\n",
       "      <th>0</th>\n",
       "      <td>{'nombre': 'Ana', 'edad': 35, 'experiencia': 6...</td>\n",
       "    </tr>\n",
       "    <tr>\n",
       "      <th>1</th>\n",
       "      <td>{'nombre': 'Eva', 'edad': 38, 'experiencia': 3...</td>\n",
       "    </tr>\n",
       "    <tr>\n",
       "      <th>2</th>\n",
       "      <td>{'nombre': 'Marta', 'edad': 28, 'experiencia':...</td>\n",
       "    </tr>\n",
       "    <tr>\n",
       "      <th>3</th>\n",
       "      <td>{'nombre': 'Paula', 'edad': 31, 'experiencia':...</td>\n",
       "    </tr>\n",
       "  </tbody>\n",
       "</table>\n",
       "</div>"
      ],
      "text/plain": [
       "                                             workers\n",
       "0  {'nombre': 'Ana', 'edad': 35, 'experiencia': 6...\n",
       "1  {'nombre': 'Eva', 'edad': 38, 'experiencia': 3...\n",
       "2  {'nombre': 'Marta', 'edad': 28, 'experiencia':...\n",
       "3  {'nombre': 'Paula', 'edad': 31, 'experiencia':..."
      ]
     },
     "execution_count": 10,
     "metadata": {},
     "output_type": "execute_result"
    }
   ],
   "source": [
    "df = pd.read_json(\"personal_actualizado.json\")\n",
    "\n",
    "df"
   ]
  }
 ],
 "metadata": {
  "kernelspec": {
   "display_name": "base",
   "language": "python",
   "name": "python3"
  },
  "language_info": {
   "codemirror_mode": {
    "name": "ipython",
    "version": 3
   },
   "file_extension": ".py",
   "mimetype": "text/x-python",
   "name": "python",
   "nbconvert_exporter": "python",
   "pygments_lexer": "ipython3",
   "version": "3.9.7"
  }
 },
 "nbformat": 4,
 "nbformat_minor": 2
}
