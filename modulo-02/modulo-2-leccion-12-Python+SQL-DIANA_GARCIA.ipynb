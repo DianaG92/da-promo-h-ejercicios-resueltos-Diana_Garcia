{
 "cells": [
  {
   "cell_type": "markdown",
   "metadata": {},
   "source": [
    "EJERCICIOS DE PYTHON + SQL"
   ]
  },
  {
   "cell_type": "markdown",
   "metadata": {},
   "source": [
    "1. Haz las importaciones necesarias para establecer la conexión y trabaar con Pandas.Establece la conexión usando mysql.connector utilizando try/except por si la conexión devielve un error."
   ]
  },
  {
   "cell_type": "code",
   "execution_count": 11,
   "metadata": {},
   "outputs": [
    {
     "name": "stdout",
     "output_type": "stream",
     "text": [
      "Requirement already satisfied: mysql-connector in /home/admin_diana/anaconda3/lib/python3.9/site-packages (2.2.9)\n"
     ]
    },
    {
     "name": "stdout",
     "output_type": "stream",
     "text": [
      "Requirement already satisfied: mysql-connector-python in /home/admin_diana/anaconda3/lib/python3.9/site-packages (8.4.0)\n"
     ]
    }
   ],
   "source": [
    "!pip install mysql-connector\n",
    "\n",
    "!pip install mysql-connector-python"
   ]
  },
  {
   "cell_type": "code",
   "execution_count": 3,
   "metadata": {},
   "outputs": [],
   "source": [
    "import mysql.connector\n",
    "from mysql.connector import errorcode\n",
    "\n",
    "import pandas as pd\n",
    "import numpy as np"
   ]
  },
  {
   "cell_type": "code",
   "execution_count": 24,
   "metadata": {},
   "outputs": [
    {
     "name": "stdout",
     "output_type": "stream",
     "text": [
      "Conexión establecida correctamente.\n"
     ]
    }
   ],
   "source": [
    "try:\n",
    "    conexion = mysql.connector.connect(\n",
    "        user = 'root',\n",
    "        host = '127.0.0.1', \n",
    "        password = 'AlumnaAdalab',\n",
    "        database = 'alumnas_promo_h'\n",
    "    )\n",
    "    print(\"Conexión establecida correctamente.\")\n",
    "    \n",
    "except mysql.connector.Error as error:\n",
    "    print(\"Error al conectar a la base de datos:\", error)"
   ]
  },
  {
   "cell_type": "markdown",
   "metadata": {},
   "source": [
    "2. Crea un nuevo \"schema\" llamado \"alumnas-promo-X\""
   ]
  },
  {
   "cell_type": "code",
   "execution_count": 25,
   "metadata": {},
   "outputs": [
    {
     "name": "stdout",
     "output_type": "stream",
     "text": [
      "Schema 'alumnas_promo_H' creado correctamente.\n"
     ]
    }
   ],
   "source": [
    "mycursor = conexion.cursor()\n",
    "try:\n",
    "    mycursor.execute(\"CREATE SCHEMA IF NOT EXISTS alumnas_promo_H\")\n",
    "    print(\"Schema 'alumnas_promo_H' creado correctamente.\")\n",
    "    \n",
    "except mysql.connector.Error as error:\n",
    "    print(\"Error al crear el schema:\", error)"
   ]
  },
  {
   "cell_type": "markdown",
   "metadata": {},
   "source": [
    "3. Crea una tabla con la información de las alumnas de la promo. Debe incluir: id_alumna, nombre, apellidos, ciudad y teléfono."
   ]
  },
  {
   "cell_type": "code",
   "execution_count": 7,
   "metadata": {},
   "outputs": [
    {
     "name": "stdout",
     "output_type": "stream",
     "text": [
      "Tabla 'alumnas' creada correctamente.\n"
     ]
    }
   ],
   "source": [
    "try:\n",
    "    mycursor.execute(\"CREATE TABLE alumnas (id_alumna INT AUTO_INCREMENT PRIMARY KEY, nombre VARCHAR(20), apellidos VARCHAR(50), ciudad VARCHAR(20), telefono INT(10))\")\n",
    "    print(\"Tabla 'alumnas' creada correctamente.\")\n",
    "    \n",
    "except mysql.connector.Error as error:\n",
    "    print(\"Error al crear la tabla:\", error)"
   ]
  },
  {
   "cell_type": "markdown",
   "metadata": {},
   "source": [
    "4. Inserta por lo menos 10 datos en la tabla creada en el ejercicio anterior (pueden ser inventados)."
   ]
  },
  {
   "cell_type": "code",
   "execution_count": 8,
   "metadata": {},
   "outputs": [
    {
     "name": "stdout",
     "output_type": "stream",
     "text": [
      "Datos insertados correctamente.\n"
     ]
    }
   ],
   "source": [
    "query = \"INSERT INTO alumnas (id_alumna, nombre, apellidos, ciudad, telefono) VALUES (%s, %s, %s, %s, %s)\"\n",
    "\n",
    "values = [\n",
    "    (1, 'María', 'García Pérez', 'Madrid', '123456789'),\n",
    "    (2, 'Ana', 'Martínez López', 'Barcelona', '987654321'),\n",
    "    (3, 'Laura', 'Fernández Ruiz', 'Sevilla', '567890123'),\n",
    "    (4, 'Sofía', 'Rodríguez García', 'Valencia', '456789012'),\n",
    "    (5, 'Lucía', 'Gómez Sánchez', 'Bilbao', '789012345'),\n",
    "    (6, 'Elena', 'Pérez Martínez', 'Málaga', '234567890'),\n",
    "    (7, 'Clara', 'Sánchez Gómez', 'Zaragoza', '890123456'),\n",
    "    (8, 'Marina', 'López Pérez', 'Alicante', '345678901'),\n",
    "    (9, 'Paula', 'Ruiz Rodríguez', 'Murcia', '678901234'),\n",
    "    (10, 'Julia', 'García Martínez', 'Granada', '901234567')\n",
    "]\n",
    "\n",
    "try:\n",
    "    mycursor.executemany(query, values)\n",
    "    conexion.commit()\n",
    "    print(\"Datos insertados correctamente.\")\n",
    "    \n",
    "except mysql.connector.Error as error:\n",
    "    conexion.rollback()\n",
    "    print(\"Error al insertar datos:\", error)\n",
    "\n",
    "mycursor.close()\n",
    "conexion.close()"
   ]
  },
  {
   "cell_type": "markdown",
   "metadata": {},
   "source": [
    "5. Haz una consulta que devuelva todos los registros de la tabla \"alumnas\" y conviértelo en Dataframe (no te olvides del nombre de las columnas)."
   ]
  },
  {
   "cell_type": "code",
   "execution_count": 31,
   "metadata": {},
   "outputs": [
    {
     "name": "stdout",
     "output_type": "stream",
     "text": [
      "Consulta realizada y DataFrame creado correctamente.\n"
     ]
    }
   ],
   "source": [
    "try:\n",
    "    mycursor.execute(\"SELECT * FROM alumnas\")\n",
    "    resultados = mycursor.fetchall()\n",
    "    columnas = [i[0] for i in mycursor.description]\n",
    "    \n",
    "    df = pd.DataFrame(resultados, columns = columnas)\n",
    "\n",
    "    print(\"Consulta realizada y DataFrame creado correctamente.\")\n",
    "    \n",
    "except mysql.connector.Error as error:\n",
    "    print(\"Error al realizar la consulta:\", error)"
   ]
  },
  {
   "cell_type": "code",
   "execution_count": 41,
   "metadata": {},
   "outputs": [
    {
     "data": {
      "text/plain": [
       "Index(['id_alumna', 'nombre', 'apellidos', 'ciudad', 'telefono'], dtype='object')"
      ]
     },
     "execution_count": 41,
     "metadata": {},
     "output_type": "execute_result"
    }
   ],
   "source": [
    "df.columns"
   ]
  },
  {
   "cell_type": "code",
   "execution_count": 34,
   "metadata": {},
   "outputs": [
    {
     "data": {
      "text/html": [
       "<div>\n",
       "<style scoped>\n",
       "    .dataframe tbody tr th:only-of-type {\n",
       "        vertical-align: middle;\n",
       "    }\n",
       "\n",
       "    .dataframe tbody tr th {\n",
       "        vertical-align: top;\n",
       "    }\n",
       "\n",
       "    .dataframe thead th {\n",
       "        text-align: right;\n",
       "    }\n",
       "</style>\n",
       "<table border=\"1\" class=\"dataframe\">\n",
       "  <thead>\n",
       "    <tr style=\"text-align: right;\">\n",
       "      <th></th>\n",
       "      <th>id_alumna</th>\n",
       "      <th>nombre</th>\n",
       "      <th>apellidos</th>\n",
       "      <th>ciudad</th>\n",
       "      <th>telefono</th>\n",
       "    </tr>\n",
       "  </thead>\n",
       "  <tbody>\n",
       "    <tr>\n",
       "      <th>0</th>\n",
       "      <td>1</td>\n",
       "      <td>María</td>\n",
       "      <td>García Pérez</td>\n",
       "      <td>Madrid</td>\n",
       "      <td>123456789</td>\n",
       "    </tr>\n",
       "    <tr>\n",
       "      <th>1</th>\n",
       "      <td>2</td>\n",
       "      <td>Ana</td>\n",
       "      <td>Martínez López</td>\n",
       "      <td>Barcelona</td>\n",
       "      <td>987654321</td>\n",
       "    </tr>\n",
       "    <tr>\n",
       "      <th>2</th>\n",
       "      <td>3</td>\n",
       "      <td>Laura</td>\n",
       "      <td>Fernández Ruiz</td>\n",
       "      <td>Sevilla</td>\n",
       "      <td>567890123</td>\n",
       "    </tr>\n",
       "    <tr>\n",
       "      <th>3</th>\n",
       "      <td>4</td>\n",
       "      <td>Sofía</td>\n",
       "      <td>Rodríguez García</td>\n",
       "      <td>Valencia</td>\n",
       "      <td>456789012</td>\n",
       "    </tr>\n",
       "    <tr>\n",
       "      <th>4</th>\n",
       "      <td>5</td>\n",
       "      <td>Lucía</td>\n",
       "      <td>Gómez Sánchez</td>\n",
       "      <td>Bilbao</td>\n",
       "      <td>789012345</td>\n",
       "    </tr>\n",
       "    <tr>\n",
       "      <th>5</th>\n",
       "      <td>6</td>\n",
       "      <td>Elena</td>\n",
       "      <td>Pérez Martínez</td>\n",
       "      <td>Málaga</td>\n",
       "      <td>234567890</td>\n",
       "    </tr>\n",
       "    <tr>\n",
       "      <th>6</th>\n",
       "      <td>7</td>\n",
       "      <td>Clara</td>\n",
       "      <td>Sánchez Gómez</td>\n",
       "      <td>Zaragoza</td>\n",
       "      <td>890123456</td>\n",
       "    </tr>\n",
       "    <tr>\n",
       "      <th>7</th>\n",
       "      <td>8</td>\n",
       "      <td>Marina</td>\n",
       "      <td>López Pérez</td>\n",
       "      <td>Alicante</td>\n",
       "      <td>345678901</td>\n",
       "    </tr>\n",
       "    <tr>\n",
       "      <th>8</th>\n",
       "      <td>9</td>\n",
       "      <td>Paula</td>\n",
       "      <td>Ruiz Rodríguez</td>\n",
       "      <td>Murcia</td>\n",
       "      <td>678901234</td>\n",
       "    </tr>\n",
       "    <tr>\n",
       "      <th>9</th>\n",
       "      <td>10</td>\n",
       "      <td>Julia</td>\n",
       "      <td>García Martínez</td>\n",
       "      <td>Granada</td>\n",
       "      <td>901234567</td>\n",
       "    </tr>\n",
       "  </tbody>\n",
       "</table>\n",
       "</div>"
      ],
      "text/plain": [
       "   id_alumna  nombre         apellidos     ciudad   telefono\n",
       "0          1   María      García Pérez     Madrid  123456789\n",
       "1          2     Ana    Martínez López  Barcelona  987654321\n",
       "2          3   Laura    Fernández Ruiz    Sevilla  567890123\n",
       "3          4   Sofía  Rodríguez García   Valencia  456789012\n",
       "4          5   Lucía     Gómez Sánchez     Bilbao  789012345\n",
       "5          6   Elena    Pérez Martínez     Málaga  234567890\n",
       "6          7   Clara     Sánchez Gómez   Zaragoza  890123456\n",
       "7          8  Marina       López Pérez   Alicante  345678901\n",
       "8          9   Paula    Ruiz Rodríguez     Murcia  678901234\n",
       "9         10   Julia   García Martínez    Granada  901234567"
      ]
     },
     "execution_count": 34,
     "metadata": {},
     "output_type": "execute_result"
    }
   ],
   "source": [
    "df"
   ]
  },
  {
   "cell_type": "markdown",
   "metadata": {},
   "source": [
    "6. Muestra los 3 primeros y tres últimos registros del Dataframe."
   ]
  },
  {
   "cell_type": "code",
   "execution_count": 33,
   "metadata": {},
   "outputs": [
    {
     "data": {
      "text/html": [
       "<div>\n",
       "<style scoped>\n",
       "    .dataframe tbody tr th:only-of-type {\n",
       "        vertical-align: middle;\n",
       "    }\n",
       "\n",
       "    .dataframe tbody tr th {\n",
       "        vertical-align: top;\n",
       "    }\n",
       "\n",
       "    .dataframe thead th {\n",
       "        text-align: right;\n",
       "    }\n",
       "</style>\n",
       "<table border=\"1\" class=\"dataframe\">\n",
       "  <thead>\n",
       "    <tr style=\"text-align: right;\">\n",
       "      <th></th>\n",
       "      <th>id_alumna</th>\n",
       "      <th>nombre</th>\n",
       "      <th>apellidos</th>\n",
       "      <th>ciudad</th>\n",
       "      <th>telefono</th>\n",
       "    </tr>\n",
       "  </thead>\n",
       "  <tbody>\n",
       "    <tr>\n",
       "      <th>0</th>\n",
       "      <td>1</td>\n",
       "      <td>María</td>\n",
       "      <td>García Pérez</td>\n",
       "      <td>Madrid</td>\n",
       "      <td>123456789</td>\n",
       "    </tr>\n",
       "    <tr>\n",
       "      <th>1</th>\n",
       "      <td>2</td>\n",
       "      <td>Ana</td>\n",
       "      <td>Martínez López</td>\n",
       "      <td>Barcelona</td>\n",
       "      <td>987654321</td>\n",
       "    </tr>\n",
       "    <tr>\n",
       "      <th>2</th>\n",
       "      <td>3</td>\n",
       "      <td>Laura</td>\n",
       "      <td>Fernández Ruiz</td>\n",
       "      <td>Sevilla</td>\n",
       "      <td>567890123</td>\n",
       "    </tr>\n",
       "  </tbody>\n",
       "</table>\n",
       "</div>"
      ],
      "text/plain": [
       "   id_alumna nombre       apellidos     ciudad   telefono\n",
       "0          1  María    García Pérez     Madrid  123456789\n",
       "1          2    Ana  Martínez López  Barcelona  987654321\n",
       "2          3  Laura  Fernández Ruiz    Sevilla  567890123"
      ]
     },
     "execution_count": 33,
     "metadata": {},
     "output_type": "execute_result"
    }
   ],
   "source": [
    "df.head(3)"
   ]
  },
  {
   "cell_type": "code",
   "execution_count": 35,
   "metadata": {},
   "outputs": [
    {
     "data": {
      "text/html": [
       "<div>\n",
       "<style scoped>\n",
       "    .dataframe tbody tr th:only-of-type {\n",
       "        vertical-align: middle;\n",
       "    }\n",
       "\n",
       "    .dataframe tbody tr th {\n",
       "        vertical-align: top;\n",
       "    }\n",
       "\n",
       "    .dataframe thead th {\n",
       "        text-align: right;\n",
       "    }\n",
       "</style>\n",
       "<table border=\"1\" class=\"dataframe\">\n",
       "  <thead>\n",
       "    <tr style=\"text-align: right;\">\n",
       "      <th></th>\n",
       "      <th>id_alumna</th>\n",
       "      <th>nombre</th>\n",
       "      <th>apellidos</th>\n",
       "      <th>ciudad</th>\n",
       "      <th>telefono</th>\n",
       "    </tr>\n",
       "  </thead>\n",
       "  <tbody>\n",
       "    <tr>\n",
       "      <th>7</th>\n",
       "      <td>8</td>\n",
       "      <td>Marina</td>\n",
       "      <td>López Pérez</td>\n",
       "      <td>Alicante</td>\n",
       "      <td>345678901</td>\n",
       "    </tr>\n",
       "    <tr>\n",
       "      <th>8</th>\n",
       "      <td>9</td>\n",
       "      <td>Paula</td>\n",
       "      <td>Ruiz Rodríguez</td>\n",
       "      <td>Murcia</td>\n",
       "      <td>678901234</td>\n",
       "    </tr>\n",
       "    <tr>\n",
       "      <th>9</th>\n",
       "      <td>10</td>\n",
       "      <td>Julia</td>\n",
       "      <td>García Martínez</td>\n",
       "      <td>Granada</td>\n",
       "      <td>901234567</td>\n",
       "    </tr>\n",
       "  </tbody>\n",
       "</table>\n",
       "</div>"
      ],
      "text/plain": [
       "   id_alumna  nombre        apellidos    ciudad   telefono\n",
       "7          8  Marina      López Pérez  Alicante  345678901\n",
       "8          9   Paula   Ruiz Rodríguez    Murcia  678901234\n",
       "9         10   Julia  García Martínez   Granada  901234567"
      ]
     },
     "execution_count": 35,
     "metadata": {},
     "output_type": "execute_result"
    }
   ],
   "source": [
    "df.tail(3)"
   ]
  },
  {
   "cell_type": "markdown",
   "metadata": {},
   "source": [
    "7. ¿Hay registros duplicados?"
   ]
  },
  {
   "cell_type": "code",
   "execution_count": 36,
   "metadata": {},
   "outputs": [
    {
     "data": {
      "text/plain": [
       "0    False\n",
       "1    False\n",
       "2    False\n",
       "3    False\n",
       "4    False\n",
       "5    False\n",
       "6    False\n",
       "7    False\n",
       "8    False\n",
       "9    False\n",
       "dtype: bool"
      ]
     },
     "execution_count": 36,
     "metadata": {},
     "output_type": "execute_result"
    }
   ],
   "source": [
    "df.duplicated()"
   ]
  },
  {
   "cell_type": "code",
   "execution_count": 39,
   "metadata": {},
   "outputs": [
    {
     "data": {
      "text/plain": [
       "0"
      ]
     },
     "execution_count": 39,
     "metadata": {},
     "output_type": "execute_result"
    }
   ],
   "source": [
    "df.duplicated().sum()"
   ]
  },
  {
   "cell_type": "markdown",
   "metadata": {},
   "source": [
    "### Bonus:"
   ]
  },
  {
   "cell_type": "markdown",
   "metadata": {},
   "source": [
    "8. Haz una consulta para extraer las diferentes ciudades en las que hay alumnas."
   ]
  },
  {
   "cell_type": "code",
   "execution_count": 47,
   "metadata": {},
   "outputs": [
    {
     "name": "stdout",
     "output_type": "stream",
     "text": [
      "Madrid\n",
      "Barcelona\n",
      "Sevilla\n",
      "Valencia\n",
      "Bilbao\n",
      "Málaga\n",
      "Zaragoza\n",
      "Alicante\n",
      "Murcia\n",
      "Granada\n"
     ]
    }
   ],
   "source": [
    "consulta = \"SELECT DISTINCT ciudad FROM alumnas;\"\n",
    "\n",
    "mycursor.execute(consulta)\n",
    "\n",
    "ciudades = mycursor.fetchall()\n",
    "\n",
    "for ciudad in ciudades:\n",
    "    print(ciudad[0])"
   ]
  },
  {
   "cell_type": "markdown",
   "metadata": {},
   "source": [
    "9. Crea al menos dos Dataframes con la información de las alumnas de dos ciudades diferentes (usando dos queries)."
   ]
  }
 ],
 "metadata": {
  "kernelspec": {
   "display_name": "base",
   "language": "python",
   "name": "python3"
  },
  "language_info": {
   "codemirror_mode": {
    "name": "ipython",
    "version": 3
   },
   "file_extension": ".py",
   "mimetype": "text/x-python",
   "name": "python",
   "nbconvert_exporter": "python",
   "pygments_lexer": "ipython3",
   "version": "3.9.7"
  }
 },
 "nbformat": 4,
 "nbformat_minor": 2
}
