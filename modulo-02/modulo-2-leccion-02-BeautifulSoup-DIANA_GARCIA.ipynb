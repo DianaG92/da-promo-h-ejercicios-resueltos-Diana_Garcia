{
 "cells": [
  {
   "cell_type": "markdown",
   "metadata": {},
   "source": [
    "EJERCICIOS DE BEAUTIFUL SOUP"
   ]
  },
  {
   "cell_type": "markdown",
   "metadata": {},
   "source": [
    "1. Usa la [siguiente](https://es.wikipedia.org/wiki/Anexo:Medallero_de_los_Juegos_Ol%C3%ADmpicos_de_Tokio_2020) página web.\n",
    "\n",
    "2. Extrae la tabla de las medallas olímpicas que tenéis en la página web.\n",
    "\n",
    "3. Mete todo el código de la extracción de datos en una función.\n",
    "\n",
    "4. Los resultados deben estar en un *DataFrame* y hacer una exploración básica con los métodos aprendidos en la lección. "
   ]
  },
  {
   "cell_type": "code",
   "execution_count": 78,
   "metadata": {},
   "outputs": [],
   "source": [
    "from bs4 import BeautifulSoup\n",
    "import requests\n",
    "import pandas as pd\n",
    "import re"
   ]
  },
  {
   "cell_type": "code",
   "execution_count": 79,
   "metadata": {},
   "outputs": [
    {
     "name": "stdout",
     "output_type": "stream",
     "text": [
      "                    País  Oros  Platas  Bronces  Total\n",
      "0   Estados Unidos (USA)    39      41       33    113\n",
      "1            China (CHN)    38      32       19     89\n",
      "2            Japón (JPN)    27      14       17     58\n",
      "3      Reino Unido (GBR)    22      20       22     64\n",
      "4              ROC (ROC)    20      28       23     71\n",
      "..                   ...   ...     ...      ...    ...\n",
      "89         Granada (GRN)     0       0        1      1\n",
      "90          Kuwait (KUW)     0       0        1      1\n",
      "91        Moldavia (MDA)     0       0        1      1\n",
      "92           Siria (SYR)     0       0        1      1\n",
      "93             93 países   340     338      402   1080\n",
      "\n",
      "[94 rows x 5 columns]\n"
     ]
    }
   ],
   "source": [
    "url_medallero = \"https://es.wikipedia.org/wiki/Anexo:Medallero_de_los_Juegos_Ol%C3%ADmpicos_de_Tokio_2020\"\n",
    "\n",
    "res_medallero = requests.get(url_medallero)\n",
    "\n",
    "def extraer_tabla_medallero(url):\n",
    "    \n",
    "    soup = BeautifulSoup(res_medallero.text, 'html.parser')\n",
    "  \n",
    "    tabla = soup.find('table', {'class': 'wikitable'})\n",
    " \n",
    "    filas = tabla.find_all('tr')\n",
    "\n",
    "    paises = []\n",
    "    oros = []\n",
    "    platas = []\n",
    "    bronces = []\n",
    "    total = []\n",
    "  \n",
    "    for fila in filas[1:]:\n",
    "        columnas = fila.find_all('td')\n",
    "        paises.append(columnas[1].text.strip())\n",
    "        oros.append(int(columnas[2].text.strip()))\n",
    "        platas.append(int(columnas[3].text.strip()))\n",
    "        bronces.append(int(columnas[4].text.strip()))\n",
    "        total.append(int(columnas[5].text.strip()))\n",
    "\n",
    "    df_medallero = pd.DataFrame({\n",
    "        'País': paises,\n",
    "        'Oros': oros,\n",
    "        'Platas': platas,\n",
    "        'Bronces': bronces,\n",
    "        'Total': total\n",
    "    })\n",
    "    return df_medallero\n",
    "\n",
    "medallero_tokio_2020 = extraer_tabla_medallero(url_medallero)\n",
    "\n",
    "print(medallero_tokio_2020)"
   ]
  },
  {
   "cell_type": "code",
   "execution_count": 80,
   "metadata": {},
   "outputs": [
    {
     "data": {
      "text/html": [
       "<div>\n",
       "<style scoped>\n",
       "    .dataframe tbody tr th:only-of-type {\n",
       "        vertical-align: middle;\n",
       "    }\n",
       "\n",
       "    .dataframe tbody tr th {\n",
       "        vertical-align: top;\n",
       "    }\n",
       "\n",
       "    .dataframe thead th {\n",
       "        text-align: right;\n",
       "    }\n",
       "</style>\n",
       "<table border=\"1\" class=\"dataframe\">\n",
       "  <thead>\n",
       "    <tr style=\"text-align: right;\">\n",
       "      <th></th>\n",
       "      <th>País</th>\n",
       "      <th>Oros</th>\n",
       "      <th>Platas</th>\n",
       "      <th>Bronces</th>\n",
       "      <th>Total</th>\n",
       "    </tr>\n",
       "  </thead>\n",
       "  <tbody>\n",
       "    <tr>\n",
       "      <th>89</th>\n",
       "      <td>Granada (GRN)</td>\n",
       "      <td>0</td>\n",
       "      <td>0</td>\n",
       "      <td>1</td>\n",
       "      <td>1</td>\n",
       "    </tr>\n",
       "    <tr>\n",
       "      <th>90</th>\n",
       "      <td>Kuwait (KUW)</td>\n",
       "      <td>0</td>\n",
       "      <td>0</td>\n",
       "      <td>1</td>\n",
       "      <td>1</td>\n",
       "    </tr>\n",
       "    <tr>\n",
       "      <th>91</th>\n",
       "      <td>Moldavia (MDA)</td>\n",
       "      <td>0</td>\n",
       "      <td>0</td>\n",
       "      <td>1</td>\n",
       "      <td>1</td>\n",
       "    </tr>\n",
       "    <tr>\n",
       "      <th>92</th>\n",
       "      <td>Siria (SYR)</td>\n",
       "      <td>0</td>\n",
       "      <td>0</td>\n",
       "      <td>1</td>\n",
       "      <td>1</td>\n",
       "    </tr>\n",
       "    <tr>\n",
       "      <th>93</th>\n",
       "      <td>93 países</td>\n",
       "      <td>340</td>\n",
       "      <td>338</td>\n",
       "      <td>402</td>\n",
       "      <td>1080</td>\n",
       "    </tr>\n",
       "  </tbody>\n",
       "</table>\n",
       "</div>"
      ],
      "text/plain": [
       "              País  Oros  Platas  Bronces  Total\n",
       "89   Granada (GRN)     0       0        1      1\n",
       "90    Kuwait (KUW)     0       0        1      1\n",
       "91  Moldavia (MDA)     0       0        1      1\n",
       "92     Siria (SYR)     0       0        1      1\n",
       "93       93 países   340     338      402   1080"
      ]
     },
     "execution_count": 80,
     "metadata": {},
     "output_type": "execute_result"
    }
   ],
   "source": [
    "df_medallero.tail()"
   ]
  },
  {
   "cell_type": "code",
   "execution_count": 69,
   "metadata": {},
   "outputs": [
    {
     "name": "stdout",
     "output_type": "stream",
     "text": [
      "Número de filas y columnas: (94, 6)\n"
     ]
    }
   ],
   "source": [
    "df_medallero.shape\n",
    "\n",
    "print(\"Número de filas y columnas:\", tabla_medallero.shape)"
   ]
  },
  {
   "cell_type": "code",
   "execution_count": 81,
   "metadata": {},
   "outputs": [
    {
     "data": {
      "text/plain": [
       "País       object\n",
       "Oros        int64\n",
       "Platas      int64\n",
       "Bronces     int64\n",
       "Total       int64\n",
       "dtype: object"
      ]
     },
     "execution_count": 81,
     "metadata": {},
     "output_type": "execute_result"
    }
   ],
   "source": [
    "df_medallero.dtypes"
   ]
  },
  {
   "cell_type": "code",
   "execution_count": 82,
   "metadata": {},
   "outputs": [
    {
     "name": "stdout",
     "output_type": "stream",
     "text": [
      "<class 'pandas.core.frame.DataFrame'>\n",
      "RangeIndex: 94 entries, 0 to 93\n",
      "Data columns (total 5 columns):\n",
      " #   Column   Non-Null Count  Dtype \n",
      "---  ------   --------------  ----- \n",
      " 0   País     94 non-null     object\n",
      " 1   Oros     94 non-null     int64 \n",
      " 2   Platas   94 non-null     int64 \n",
      " 3   Bronces  94 non-null     int64 \n",
      " 4   Total    94 non-null     int64 \n",
      "dtypes: int64(4), object(1)\n",
      "memory usage: 3.8+ KB\n"
     ]
    }
   ],
   "source": [
    "df_medallero.info()"
   ]
  },
  {
   "cell_type": "code",
   "execution_count": 72,
   "metadata": {},
   "outputs": [
    {
     "data": {
      "text/html": [
       "<div>\n",
       "<style scoped>\n",
       "    .dataframe tbody tr th:only-of-type {\n",
       "        vertical-align: middle;\n",
       "    }\n",
       "\n",
       "    .dataframe tbody tr th {\n",
       "        vertical-align: top;\n",
       "    }\n",
       "\n",
       "    .dataframe thead th {\n",
       "        text-align: right;\n",
       "    }\n",
       "</style>\n",
       "<table border=\"1\" class=\"dataframe\">\n",
       "  <thead>\n",
       "    <tr style=\"text-align: right;\">\n",
       "      <th></th>\n",
       "      <th>count</th>\n",
       "      <th>mean</th>\n",
       "      <th>std</th>\n",
       "      <th>min</th>\n",
       "      <th>25%</th>\n",
       "      <th>50%</th>\n",
       "      <th>75%</th>\n",
       "      <th>max</th>\n",
       "    </tr>\n",
       "  </thead>\n",
       "  <tbody>\n",
       "    <tr>\n",
       "      <th>Oros</th>\n",
       "      <td>94.0</td>\n",
       "      <td>7.234043</td>\n",
       "      <td>35.387388</td>\n",
       "      <td>0.0</td>\n",
       "      <td>0.00</td>\n",
       "      <td>1.0</td>\n",
       "      <td>3.0</td>\n",
       "      <td>340.0</td>\n",
       "    </tr>\n",
       "    <tr>\n",
       "      <th>Platas</th>\n",
       "      <td>94.0</td>\n",
       "      <td>7.191489</td>\n",
       "      <td>35.106988</td>\n",
       "      <td>0.0</td>\n",
       "      <td>0.25</td>\n",
       "      <td>1.0</td>\n",
       "      <td>4.0</td>\n",
       "      <td>338.0</td>\n",
       "    </tr>\n",
       "    <tr>\n",
       "      <th>Bronces</th>\n",
       "      <td>94.0</td>\n",
       "      <td>8.553191</td>\n",
       "      <td>41.481857</td>\n",
       "      <td>0.0</td>\n",
       "      <td>1.00</td>\n",
       "      <td>2.0</td>\n",
       "      <td>5.0</td>\n",
       "      <td>402.0</td>\n",
       "    </tr>\n",
       "    <tr>\n",
       "      <th>Total</th>\n",
       "      <td>94.0</td>\n",
       "      <td>22.978723</td>\n",
       "      <td>111.822053</td>\n",
       "      <td>1.0</td>\n",
       "      <td>2.00</td>\n",
       "      <td>4.5</td>\n",
       "      <td>11.0</td>\n",
       "      <td>1080.0</td>\n",
       "    </tr>\n",
       "  </tbody>\n",
       "</table>\n",
       "</div>"
      ],
      "text/plain": [
       "         count       mean         std  min   25%  50%   75%     max\n",
       "Oros      94.0   7.234043   35.387388  0.0  0.00  1.0   3.0   340.0\n",
       "Platas    94.0   7.191489   35.106988  0.0  0.25  1.0   4.0   338.0\n",
       "Bronces   94.0   8.553191   41.481857  0.0  1.00  2.0   5.0   402.0\n",
       "Total     94.0  22.978723  111.822053  1.0  2.00  4.5  11.0  1080.0"
      ]
     },
     "execution_count": 72,
     "metadata": {},
     "output_type": "execute_result"
    }
   ],
   "source": [
    "df_medallero.describe().T"
   ]
  },
  {
   "cell_type": "code",
   "execution_count": 84,
   "metadata": {},
   "outputs": [
    {
     "data": {
      "text/html": [
       "<div>\n",
       "<style scoped>\n",
       "    .dataframe tbody tr th:only-of-type {\n",
       "        vertical-align: middle;\n",
       "    }\n",
       "\n",
       "    .dataframe tbody tr th {\n",
       "        vertical-align: top;\n",
       "    }\n",
       "\n",
       "    .dataframe thead th {\n",
       "        text-align: right;\n",
       "    }\n",
       "</style>\n",
       "<table border=\"1\" class=\"dataframe\">\n",
       "  <thead>\n",
       "    <tr style=\"text-align: right;\">\n",
       "      <th></th>\n",
       "      <th>Oros</th>\n",
       "      <th>Platas</th>\n",
       "      <th>Bronces</th>\n",
       "      <th>Total</th>\n",
       "    </tr>\n",
       "  </thead>\n",
       "  <tbody>\n",
       "    <tr>\n",
       "      <th>count</th>\n",
       "      <td>94.000000</td>\n",
       "      <td>94.000000</td>\n",
       "      <td>94.000000</td>\n",
       "      <td>94.000000</td>\n",
       "    </tr>\n",
       "    <tr>\n",
       "      <th>mean</th>\n",
       "      <td>7.234043</td>\n",
       "      <td>7.191489</td>\n",
       "      <td>8.553191</td>\n",
       "      <td>22.978723</td>\n",
       "    </tr>\n",
       "    <tr>\n",
       "      <th>std</th>\n",
       "      <td>35.387388</td>\n",
       "      <td>35.106988</td>\n",
       "      <td>41.481857</td>\n",
       "      <td>111.822053</td>\n",
       "    </tr>\n",
       "    <tr>\n",
       "      <th>min</th>\n",
       "      <td>0.000000</td>\n",
       "      <td>0.000000</td>\n",
       "      <td>0.000000</td>\n",
       "      <td>1.000000</td>\n",
       "    </tr>\n",
       "    <tr>\n",
       "      <th>25%</th>\n",
       "      <td>0.000000</td>\n",
       "      <td>0.250000</td>\n",
       "      <td>1.000000</td>\n",
       "      <td>2.000000</td>\n",
       "    </tr>\n",
       "    <tr>\n",
       "      <th>50%</th>\n",
       "      <td>1.000000</td>\n",
       "      <td>1.000000</td>\n",
       "      <td>2.000000</td>\n",
       "      <td>4.500000</td>\n",
       "    </tr>\n",
       "    <tr>\n",
       "      <th>75%</th>\n",
       "      <td>3.000000</td>\n",
       "      <td>4.000000</td>\n",
       "      <td>5.000000</td>\n",
       "      <td>11.000000</td>\n",
       "    </tr>\n",
       "    <tr>\n",
       "      <th>max</th>\n",
       "      <td>340.000000</td>\n",
       "      <td>338.000000</td>\n",
       "      <td>402.000000</td>\n",
       "      <td>1080.000000</td>\n",
       "    </tr>\n",
       "  </tbody>\n",
       "</table>\n",
       "</div>"
      ],
      "text/plain": [
       "             Oros      Platas     Bronces        Total\n",
       "count   94.000000   94.000000   94.000000    94.000000\n",
       "mean     7.234043    7.191489    8.553191    22.978723\n",
       "std     35.387388   35.106988   41.481857   111.822053\n",
       "min      0.000000    0.000000    0.000000     1.000000\n",
       "25%      0.000000    0.250000    1.000000     2.000000\n",
       "50%      1.000000    1.000000    2.000000     4.500000\n",
       "75%      3.000000    4.000000    5.000000    11.000000\n",
       "max    340.000000  338.000000  402.000000  1080.000000"
      ]
     },
     "execution_count": 84,
     "metadata": {},
     "output_type": "execute_result"
    }
   ],
   "source": [
    "df_medallero.describe()"
   ]
  },
  {
   "cell_type": "code",
   "execution_count": 85,
   "metadata": {},
   "outputs": [
    {
     "data": {
      "text/plain": [
       "País       0\n",
       "Oros       0\n",
       "Platas     0\n",
       "Bronces    0\n",
       "Total      0\n",
       "dtype: int64"
      ]
     },
     "execution_count": 85,
     "metadata": {},
     "output_type": "execute_result"
    }
   ],
   "source": [
    "df_medallero.isnull().sum()"
   ]
  },
  {
   "cell_type": "code",
   "execution_count": 86,
   "metadata": {},
   "outputs": [
    {
     "data": {
      "text/plain": [
       "0"
      ]
     },
     "execution_count": 86,
     "metadata": {},
     "output_type": "execute_result"
    }
   ],
   "source": [
    "df_medallero.duplicated().sum()"
   ]
  },
  {
   "cell_type": "code",
   "execution_count": 87,
   "metadata": {},
   "outputs": [
    {
     "data": {
      "text/plain": [
       "array(['Estados Unidos\\xa0(USA)', 'China\\xa0(CHN)', 'Japón\\xa0(JPN)',\n",
       "       'Reino Unido\\xa0(GBR)', 'ROC (ROC)', 'Australia\\xa0(AUS)',\n",
       "       'Países Bajos\\xa0(NED)', 'Francia\\xa0(FRA)', 'Alemania\\xa0(GER)',\n",
       "       'Italia\\xa0(ITA)', 'Canadá\\xa0(CAN)', 'Brasil\\xa0(BRA)',\n",
       "       'Nueva Zelanda\\xa0(NZL)', 'Cuba\\xa0(CUB)', 'Hungría\\xa0(HUN)',\n",
       "       'Corea del Sur\\xa0(KOR)', 'Polonia\\xa0(POL)',\n",
       "       'República Checa\\xa0(CZE)', 'Kenia\\xa0(KEN)', 'Noruega\\xa0(NOR)',\n",
       "       'Jamaica\\xa0(JAM)', 'España\\xa0(ESP)', 'Suecia\\xa0(SWE)',\n",
       "       'Suiza\\xa0(SUI)', 'Dinamarca\\xa0(DEN)', 'Croacia\\xa0(CRO)',\n",
       "       'Irán\\xa0(IRI)', 'Serbia\\xa0(SRB)', 'Bélgica\\xa0(BEL)',\n",
       "       'Bulgaria\\xa0(BUL)', 'Eslovenia\\xa0(SLO)', 'Uzbekistán\\xa0(UZB)',\n",
       "       'Georgia\\xa0(GEO)', 'China Taipéi\\xa0(TPE)', 'Turquía\\xa0(TUR)',\n",
       "       'Grecia\\xa0(GRE)', 'Uganda\\xa0(UGA)', 'Ecuador\\xa0(ECU)',\n",
       "       'Irlanda\\xa0(IRL)', 'Israel\\xa0(ISR)', 'Catar\\xa0(QAT)',\n",
       "       'Bahamas\\xa0(BAH)', 'Kosovo\\xa0(KOS)', 'Ucrania\\xa0(UKR)',\n",
       "       'Bielorrusia\\xa0(BLR)', 'Rumania\\xa0(ROU)', 'Venezuela\\xa0(VEN)',\n",
       "       'India\\xa0(IND)', 'Hong Kong\\xa0(HKG)', 'Filipinas\\xa0(PHI)',\n",
       "       'Eslovaquia\\xa0(SVK)', 'Sudáfrica\\xa0(RSA)', 'Austria\\xa0(AUT)',\n",
       "       'Egipto\\xa0(EGY)', 'Indonesia\\xa0(INA)', 'Etiopía\\xa0(ETH)',\n",
       "       'Portugal\\xa0(POR)', 'Túnez\\xa0(TUN)', 'Estonia\\xa0(EST)',\n",
       "       'Fiyi\\xa0(FIY)', 'Letonia\\xa0(LAT)', 'Tailandia\\xa0(THA)',\n",
       "       'Bermudas\\xa0(BER)', 'Marruecos\\xa0(MAR)', 'Puerto Rico\\xa0(PUR)',\n",
       "       'Colombia\\xa0(COL)', 'Azerbaiyán\\xa0(AZE)',\n",
       "       'República Dominicana\\xa0(DOM)', 'Armenia\\xa0(ARM)',\n",
       "       'Kirguistán\\xa0(KGZ)', 'Mongolia\\xa0(MGL)', 'Argentina\\xa0(ARG)',\n",
       "       'San Marino\\xa0(SMR)', 'Jordania\\xa0(JOR)', 'Malasia\\xa0(MAL)',\n",
       "       'Nigeria\\xa0(NGR)', 'Arabia Saudita\\xa0(KSA)', 'Baréin\\xa0(BRN)',\n",
       "       'Lituania\\xa0(LTU)', 'Macedonia del Norte\\xa0(MKD)',\n",
       "       'Namibia\\xa0(NAM)', 'Turkmenistán\\xa0(TKM)', 'Kazajistán\\xa0(KAZ)',\n",
       "       'México\\xa0(MEX)', 'Finlandia\\xa0(FIN)', 'Botsuana\\xa0(BOT)',\n",
       "       'Burkina Faso\\xa0(BFA)', 'Costa de Marfil\\xa0(CIV)',\n",
       "       'Ghana\\xa0(GHA)', 'Granada\\xa0(GRN)', 'Kuwait\\xa0(KUW)',\n",
       "       'Moldavia\\xa0(MDA)', 'Siria\\xa0(SYR)', '93 países'], dtype=object)"
      ]
     },
     "execution_count": 87,
     "metadata": {},
     "output_type": "execute_result"
    }
   ],
   "source": [
    "df_medallero[\"País\"].unique()"
   ]
  }
 ],
 "metadata": {
  "kernelspec": {
   "display_name": "base",
   "language": "python",
   "name": "python3"
  },
  "language_info": {
   "codemirror_mode": {
    "name": "ipython",
    "version": 3
   },
   "file_extension": ".py",
   "mimetype": "text/x-python",
   "name": "python",
   "nbconvert_exporter": "python",
   "pygments_lexer": "ipython3",
   "version": "3.9.7"
  }
 },
 "nbformat": 4,
 "nbformat_minor": 2
}
