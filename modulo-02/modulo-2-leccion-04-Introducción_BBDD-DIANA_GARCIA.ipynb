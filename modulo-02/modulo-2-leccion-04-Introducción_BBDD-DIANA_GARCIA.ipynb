{
 "cells": [
  {
   "cell_type": "markdown",
   "metadata": {},
   "source": [
    "EJERCICIOS DE BBDD Y NORMALIZACIÓN"
   ]
  },
  {
   "cell_type": "markdown",
   "metadata": {},
   "source": [
    "Haz un esquema (puede ser en papel) que resuelva los conflictos en la siguiente tabla:\n",
    "\n",
    "Pedidos:\n",
    "\n",
    "| id_pedido | id_cliente | nombre_cliente  | id_artículo | artículo_marca    | cantidad | precio_unitario |\n",
    "|-----------|------------|-----------------|-------------|-------------------|----------|-----------------|\n",
    "| 1         | 101        | Patricia Díaz   | 1           | chaqueta, marca A | 2        | 29              |\n",
    "| 2         | 102        | Marta Gutierrez | 2           | chaqueta, marca B | 5        | 37              |\n",
    "| 3         | 103        | Cristina López  | 3           | pantalón, marca C | 3        | 42              |\n",
    "| 3         | 103        | Cristina López  | 2           | chaqueta, marca B | 1        | 37              |\n"
   ]
  },
  {
   "cell_type": "markdown",
   "metadata": {},
   "source": [
    "En primer lugar definimos los problemas que vemos en esta tabla:\n",
    "\n",
    "1. Los datos no son atómicos.\n",
    "\n",
    "2. No hay Primary Key.\n",
    "\n",
    "3. Varias columnas tienen dependencias."
   ]
  },
  {
   "cell_type": "markdown",
   "metadata": {},
   "source": [
    "Tabla clientes:\n",
    "\n",
    "| id_cliente | nombre    |  apellido |\n",
    "|------------|-----------|-----------|\n",
    "| 101        | Patricia  | Díaz      |\n",
    "| 102        | Marta     | Gutiérrez |\n",
    "| 103        | Cristina  | López     |\n"
   ]
  },
  {
   "cell_type": "markdown",
   "metadata": {},
   "source": [
    "Tabla artículos:\n",
    "\n",
    "| id_artículo | artículo | marca   | precio_unitario |\n",
    "|-------------|----------|---------|-----------------|\n",
    "| 1           | chaqueta | marca A | 29              |\n",
    "| 2           | chaqueta | marca B | 37              |\n",
    "| 3           | pantalón | marca C | 42              |\n",
    "\n"
   ]
  },
  {
   "cell_type": "markdown",
   "metadata": {},
   "source": [
    "Tabla pedidos:\n",
    "\n",
    "| id_pedido | id_cliente | id_artículo | cantidad |\n",
    "|-----------|------------|-------------|----------|\n",
    "| 1         | 101        | 1           | 2        |\n",
    "| 2         | 102        | 2           | 5        |\n",
    "| 3         | 103        | 3           | 3        |\n",
    "| 3         | 103        | 2           | 1        |\n"
   ]
  }
 ],
 "metadata": {
  "language_info": {
   "name": "python"
  }
 },
 "nbformat": 4,
 "nbformat_minor": 2
}
