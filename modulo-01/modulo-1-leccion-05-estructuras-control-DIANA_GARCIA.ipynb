{
 "cells": [
  {
   "cell_type": "markdown",
   "metadata": {},
   "source": [
    "EJERCICIOS DE ESTRUCTURAS DE CONTROL"
   ]
  },
  {
   "cell_type": "markdown",
   "metadata": {},
   "source": [
    "1. Crea una variable que sea igual a \"Python\" y genera un código que nos printee todas las letras menos la \"P\" usando la sentencia `continue`."
   ]
  },
  {
   "cell_type": "code",
   "execution_count": 1,
   "metadata": {},
   "outputs": [
    {
     "name": "stdout",
     "output_type": "stream",
     "text": [
      "h\n",
      "y\n",
      "t\n",
      "h\n",
      "o\n",
      "n\n"
     ]
    }
   ],
   "source": [
    "palabra = \"Phython\"\n",
    "\n",
    "for letra in palabra:\n",
    "    if letra == \"P\":\n",
    "        continue\n",
    "    print(letra)"
   ]
  },
  {
   "cell_type": "markdown",
   "metadata": {},
   "source": [
    "2. De la frase `'Hello'` imprime todas las letras que no sean una `'l'` usando `if`."
   ]
  },
  {
   "cell_type": "code",
   "execution_count": 2,
   "metadata": {},
   "outputs": [
    {
     "name": "stdout",
     "output_type": "stream",
     "text": [
      "l\n",
      "l\n"
     ]
    }
   ],
   "source": [
    "palabra1 = \"Hello\"\n",
    "\n",
    "for letra in palabra1:\n",
    "    if letra == \"l\":\n",
    "        print(letra)"
   ]
  },
  {
   "cell_type": "markdown",
   "metadata": {},
   "source": [
    "3. Haz lo mismo que en 2 usando `continue`."
   ]
  },
  {
   "cell_type": "code",
   "execution_count": 3,
   "metadata": {},
   "outputs": [
    {
     "name": "stdout",
     "output_type": "stream",
     "text": [
      "H\n",
      "e\n",
      "o\n"
     ]
    }
   ],
   "source": [
    "for letra in palabra1:\n",
    "    if letra == \"l\":\n",
    "        continue\n",
    "    print(letra)"
   ]
  },
  {
   "cell_type": "markdown",
   "metadata": {},
   "source": [
    "4. De la frase `'Hello'` imprime todas las letras parando el bucle si encuentras una `'o'`."
   ]
  },
  {
   "cell_type": "code",
   "execution_count": 4,
   "metadata": {},
   "outputs": [
    {
     "name": "stdout",
     "output_type": "stream",
     "text": [
      "H\n",
      "e\n",
      "l\n",
      "l\n"
     ]
    }
   ],
   "source": [
    "for letra in palabra1:\n",
    "    if letra == \"o\":\n",
    "        break\n",
    "    print(letra)"
   ]
  },
  {
   "cell_type": "markdown",
   "metadata": {},
   "source": [
    "5. Define  la variable `doce = '12'` y `seis = 6`. Intenta sumarlos. En el caso de que te salga un error imprime `'¡Un error!'`. Para eso usa un `try` ... `except`."
   ]
  },
  {
   "cell_type": "code",
   "execution_count": 5,
   "metadata": {},
   "outputs": [
    {
     "name": "stdout",
     "output_type": "stream",
     "text": [
      "18\n"
     ]
    }
   ],
   "source": [
    "doce = 12\n",
    "seis = 6\n",
    "\n",
    "try:\n",
    "    resultado = int(doce) + seis\n",
    "    print(resultado)\n",
    "except:\n",
    "    print('¡Un error!')"
   ]
  },
  {
   "cell_type": "markdown",
   "metadata": {},
   "source": [
    "6. Basándonos en el ejercicio anterior, sin usar un `try` ... `except`, ¿cómo podríamos solucionar el problema? "
   ]
  },
  {
   "cell_type": "code",
   "execution_count": 6,
   "metadata": {},
   "outputs": [
    {
     "name": "stdout",
     "output_type": "stream",
     "text": [
      "18\n"
     ]
    }
   ],
   "source": [
    "try:\n",
    "    resultado = int(doce) + seis\n",
    "    print(resultado)\n",
    "except ExceptionType1:\n",
    "    print('¡Un error de valor!')\n",
    "except ExceptionType2:\n",
    "    print('¡Un error de tipo!')\n",
    "except:\n",
    "    print('¡Un error inesperado!')"
   ]
  },
  {
   "cell_type": "markdown",
   "metadata": {},
   "source": [
    "7. Solicita al usuario ingresar números enteros positivos hasta que ingrese un número negativo. Luego, muestra la suma de todos los números pares ingresados."
   ]
  },
  {
   "cell_type": "code",
   "execution_count": 7,
   "metadata": {},
   "outputs": [
    {
     "name": "stdout",
     "output_type": "stream",
     "text": [
      "Ingrese números enteros positivos. Ingrese un número negativo para terminar.\n",
      "La suma de todos los números pares ingresados es: 10\n"
     ]
    }
   ],
   "source": [
    "suma_pares = 0\n",
    "\n",
    "print(\"Ingrese números enteros positivos. Ingrese un número negativo para terminar.\")\n",
    "\n",
    "while True:\n",
    "    numero = int(input(\"Ingrese un número entero: \"))\n",
    "    \n",
    "    if numero < 0:\n",
    "        break\n",
    "    \n",
    "    if numero % 2 == 0:\n",
    "        suma_pares += numero\n",
    "\n",
    "print(\"La suma de todos los números pares ingresados es:\", suma_pares)"
   ]
  },
  {
   "cell_type": "markdown",
   "metadata": {},
   "source": [
    "8. Solicita al usuario ingresar dos números y muestra el resultado de dividir el primero por el segundo. Asegúrate de manejar la excepción si el segundo número es cero."
   ]
  },
  {
   "cell_type": "code",
   "execution_count": 8,
   "metadata": {},
   "outputs": [
    {
     "name": "stdout",
     "output_type": "stream",
     "text": [
      "El resultado de dividir 3.0 por 4.0 es: 0.75\n"
     ]
    }
   ],
   "source": [
    "try:\n",
    "    numero1 = float(input(\"Ingrese el primer número: \"))\n",
    "    numero2 = float(input(\"Ingrese el segundo número: \"))\n",
    "\n",
    "    if numero2 == 0:\n",
    "        raise ZeroDivisionError(\"No se puede dividir por cero\")\n",
    "\n",
    "    resultado = numero1 / numero2\n",
    "    print(\"El resultado de dividir\", numero1, \"por\", numero2, \"es:\", resultado)\n",
    "\n",
    "except ValueError:\n",
    "    print(\"¡Error! Debe ingresar números válidos.\")\n",
    "except ZeroDivisionError as error:\n",
    "    print(\"¡Error!\", error)"
   ]
  },
  {
   "cell_type": "markdown",
   "metadata": {},
   "source": [
    "9. Solicita al usuario ingresar un número y muestra su raíz cuadrada. Maneja la excepción si el número es negativo."
   ]
  },
  {
   "cell_type": "code",
   "execution_count": 9,
   "metadata": {},
   "outputs": [
    {
     "name": "stdout",
     "output_type": "stream",
     "text": [
      "La raíz cuadrada de 5.0 es: 2.23606797749979\n"
     ]
    }
   ],
   "source": [
    "import math\n",
    "\n",
    "try:\n",
    "    numero3 = float(input(\"Ingrese un número: \"))\n",
    "\n",
    "    if numero3 < 0:\n",
    "        raise ValueError(\"No se puede calcular la raíz cuadrada de un número negativo\")\n",
    "\n",
    "    raiz_cuadrada = math.sqrt(numero3)\n",
    "    print(\"La raíz cuadrada de\", numero3, \"es:\", raiz_cuadrada)\n",
    "\n",
    "except ValueError as error:\n",
    "    print(\"¡Error!\", error)"
   ]
  },
  {
   "cell_type": "markdown",
   "metadata": {},
   "source": [
    "10. Crea una lista de números y solicita al usuario ingresar un índice para acceder a un elemento de la lista. Maneja la excepción si el índice está fuera de rango."
   ]
  },
  {
   "cell_type": "code",
   "execution_count": 11,
   "metadata": {},
   "outputs": [
    {
     "name": "stdout",
     "output_type": "stream",
     "text": [
      "El elemento en el indice 5 es: 30\n"
     ]
    }
   ],
   "source": [
    "numeros = [5, 10, 15, 20, 25, 30]\n",
    "\n",
    "try:\n",
    "    indice = int(input(\"Ingrese un indice para acceder a un elemento de la lista: \"))\n",
    "\n",
    "    elemento = numeros[indice]\n",
    "\n",
    "    print(\"El elemento en el indice\", indice, \"es:\", elemento)\n",
    "\n",
    "except IndexError:\n",
    "    print(\"¡Error! El indice está fuera de rango.\")\n",
    "except ValueError:\n",
    "    print(\"¡Error! Debe ingresar un numero entero como indice.\")"
   ]
  }
 ],
 "metadata": {
  "kernelspec": {
   "display_name": "base",
   "language": "python",
   "name": "python3"
  },
  "language_info": {
   "codemirror_mode": {
    "name": "ipython",
    "version": 3
   },
   "file_extension": ".py",
   "mimetype": "text/x-python",
   "name": "python",
   "nbconvert_exporter": "python",
   "pygments_lexer": "ipython3",
   "version": "3.9.7"
  }
 },
 "nbformat": 4,
 "nbformat_minor": 2
}
