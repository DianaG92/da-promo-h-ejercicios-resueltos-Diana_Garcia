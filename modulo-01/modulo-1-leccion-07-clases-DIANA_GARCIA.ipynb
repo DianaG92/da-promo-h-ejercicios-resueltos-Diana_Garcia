{
 "cells": [
  {
   "cell_type": "markdown",
   "metadata": {},
   "source": [
    "EJERCICIOS DE CLASES"
   ]
  },
  {
   "cell_type": "markdown",
   "metadata": {},
   "source": [
    "Crea una clase llamada `Vehiculo` que representa un vehículo genérico. Esta clase tiene la capacidad de realizar acciones relacionadas con el vehículo, como encenderlo, apagarlo, acelerar, frenar y detenerlo gradualmente. Cada método en la clase tiene una descripción específica de su función. A continuación, se detallan los aspectos clave de esta clase:\n",
    "\n",
    "- **Atributos:**\n",
    "\n",
    "    - `marca`: Una cadena que representa la marca del vehículo.\n",
    "\n",
    "    - `modelo`: Una cadena que representa el modelo del vehículo.\n",
    "\n",
    "    - `año`: Un número entero que representa el año de fabricación del vehículo.\n",
    "\n",
    "    - `velocidad_actual`: Un número entero que representa la velocidad actual del vehículo en km/h.\n",
    "\n",
    "    - `encendido`: Un valor booleano que indica si el vehículo está encendido (`True`) o apagado (`False`).\n",
    "\n",
    "- **Métodos:**\n",
    "\n",
    "    -  `__init__(self, marca, modelo, año)`: El constructor de la clase que inicializa los atributos del vehículo, incluyendo la marca, el modelo, el año, la velocidad actual (inicialmente 0) y el estado del encendido (inicialmente apagado).\n",
    "\n",
    "    - `informacion(self)`: Un método que devuelve una cadena de texto con la información básica del vehículo, incluyendo la marca, el modelo y el año.\n",
    "\n",
    "    - `encender(self)`: Un método que enciende el vehículo si está apagado y devuelve un mensaje de confirmación. Si el vehículo ya está encendido, devuelve un mensaje indicando que ya está en funcionamiento.\n",
    "\n",
    "    - `apagar(self)`: Un método que apaga el vehículo si está encendido, establece la velocidad actual en 0 y devuelve un mensaje de confirmación. Si el vehículo ya está apagado, devuelve un mensaje indicando que ya está apagado.\n",
    "\n",
    "    - `acelerar(self, velocidad)`: Un método que aumenta la velocidad actual del vehículo según la cantidad de velocidad proporcionada como argumento. Si el vehículo está encendido, aumenta la velocidad y devuelve un mensaje con la nueva velocidad actual. Si el vehículo está apagado, devuelve un mensaje indicando que no se puede acelerar.\n",
    "\n",
    "    - `frenar(self, velocidad)`: Un método que reduce la velocidad actual del vehículo según la cantidad de velocidad proporcionada como argumento. Si el vehículo está encendido, reduce la velocidad y devuelve un mensaje con la nueva velocidad actual. Si el vehículo está apagado, devuelve un mensaje indicando que no se puede frenar.\n",
    "\n",
    "    - `detener(self)`: Un método que detiene gradualmente el vehículo reduciendo la velocidad en incrementos de 5 km/h hasta que alcance una velocidad de 0 km/h. Si el vehículo está encendido, detiene el vehículo y devuelve un mensaje de confirmación. Si el vehículo está apagado, devuelve un mensaje indicando que no se puede detener.\n",
    "\n",
    "\n",
    "Crea la subclase Coche que hereda de la clase base Vehiculo y representa un coche específico. Además de los atributos y métodos heredados, la clase Coche tiene un atributo adicional:\n",
    "\n",
    "\n",
    "- **Atributos:**\n",
    "    - combustible: Una cadena que representa el tipo de combustible que utiliza el coche.\n",
    "\n",
    "- **Métodos:**\n",
    "\n",
    "    - `__init__(self, marca, modelo, año, combustible)`: Constructor que inicializa los atributos de la clase base y el atributo específico del coche.\n",
    "    \n",
    "    - `informacion(self)`: Devuelve una cadena con la información del coche, incluyendo la marca, el modelo, el año y el tipo de combustible.\n"
   ]
  },
  {
   "cell_type": "code",
   "execution_count": 61,
   "metadata": {},
   "outputs": [
    {
     "name": "stdout",
     "output_type": "stream",
     "text": [
      "Vehiculo: Ford Focus, Año: 2013\n",
      "El vehiculo ha sido encendido\n",
      "El vehiculo acelero a 30 km/h\n",
      "El vehiculo se ha detenido\n",
      "El vehiculo se ha apagado\n"
     ]
    }
   ],
   "source": [
    "class Vehiculo:\n",
    "    \n",
    "    def __init__(self, marca, modelo, año):\n",
    "        self.marca = marca\n",
    "        self.modelo = modelo\n",
    "        self.año = año\n",
    "        self.velocidad_actual = 0\n",
    "        self.encendido = False\n",
    "    \n",
    "    def informacion(self):\n",
    "        return f\"Vehiculo: {self.marca} {self.modelo}, Año: {self.año}\"\n",
    "    \n",
    "    def encender(self):\n",
    "        if not self.encendido:\n",
    "            self.encendido = True\n",
    "            return \"El vehiculo ha sido encendido\"\n",
    "        else:\n",
    "            return \"El vehiculo ya esta encendido\"\n",
    "        \n",
    "    def apagar(self):\n",
    "        if self.encendido:\n",
    "            self.encendido = False\n",
    "            self.velocidad_actual = 0\n",
    "            return \"El vehiculo se ha apagado\"\n",
    "        else:\n",
    "            return \"El vehiculo ya esta apagado\"\n",
    "        \n",
    "    def acelerar (self, velocidad):\n",
    "        if self.encendido:\n",
    "            self.velocidad_actual += velocidad\n",
    "            return f\"El vehiculo acelero a {self.velocidad_actual} km/h\"\n",
    "        else:\n",
    "            return \"No se puede acelerar. El vehiculo esta apagado\"\n",
    "        \n",
    "    def frenar (self, velocidad):\n",
    "        if self.encendido:\n",
    "            self.velocidad_actual -= velocidad\n",
    "            if self.velocidad_actual < 0:\n",
    "                self.velocidad_actual = 0\n",
    "            return f\"El vehiculo freno a {self.velocidad_actual} km/h\"\n",
    "        else:\n",
    "            return \"No se puede frenar. El vehiculo esta apagado\"\n",
    "          \n",
    "    def detener (self):\n",
    "        if self.encendido:\n",
    "            while self.velocidad_actual > 0:\n",
    "                self.frenar(5)\n",
    "            return \"El vehiculo se ha detenido\"\n",
    "        else:\n",
    "            return \"No se puede detener. El vehiculo esta apagado\"\n",
    "        \n",
    "mi_vehiculo = Vehiculo(\"Ford\", \"Focus\", 2013)\n",
    "\n",
    "print(mi_vehiculo.informacion())\n",
    "\n",
    "print(mi_vehiculo.encender())\n",
    "\n",
    "print(mi_vehiculo.acelerar(30))\n",
    "\n",
    "print(mi_vehiculo.detener())\n",
    "\n",
    "print(mi_vehiculo.apagar())"
   ]
  },
  {
   "cell_type": "code",
   "execution_count": 62,
   "metadata": {},
   "outputs": [
    {
     "name": "stdout",
     "output_type": "stream",
     "text": [
      "Vehiculo: Seat Leon, Año: 2023, combustible: Gasolina\n",
      "El vehiculo ha sido encendido\n",
      "El vehiculo acelero a 20 km/h\n",
      "El vehiculo se ha detenido\n",
      "El vehiculo se ha apagado\n"
     ]
    }
   ],
   "source": [
    "class Coche(Vehiculo):\n",
    "        \n",
    "        def __init__(self, marca, modelo, año, combustible):\n",
    "            super().__init__(marca, modelo, año)\n",
    "            self.combustible = combustible\n",
    "            \n",
    "        def informacion(self):\n",
    "            return f\"{super().informacion()}, combustible: {self.combustible}\"\n",
    "\n",
    "segundo_vehiculo = Coche(\"Seat\", \"Leon\", 2023, \"Gasolina\")\n",
    "\n",
    "# Muestra la información del coche\n",
    "print(segundo_vehiculo.informacion())\n",
    "\n",
    "# Enciende el coche\n",
    "print(segundo_vehiculo.encender())\n",
    "\n",
    "# Acelera el coche\n",
    "print(segundo_vehiculo.acelerar(20))\n",
    "\n",
    "# Detiene el coche\n",
    "print(segundo_vehiculo.detener())\n",
    "\n",
    "# Apaga el coche\n",
    "print(segundo_vehiculo.apagar())"
   ]
  }
 ],
 "metadata": {
  "kernelspec": {
   "display_name": "Python 3",
   "language": "python",
   "name": "python3"
  },
  "language_info": {
   "codemirror_mode": {
    "name": "ipython",
    "version": 3
   },
   "file_extension": ".py",
   "mimetype": "text/x-python",
   "name": "python",
   "nbconvert_exporter": "python",
   "pygments_lexer": "ipython3",
   "version": "3.9.7"
  }
 },
 "nbformat": 4,
 "nbformat_minor": 2
}
