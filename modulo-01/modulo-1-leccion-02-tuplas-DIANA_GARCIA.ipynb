{
 "cells": [
  {
   "cell_type": "markdown",
   "metadata": {},
   "source": [
    "EJERCICIOS DE TUPLAS"
   ]
  },
  {
   "cell_type": "markdown",
   "metadata": {},
   "source": [
    "- Definir tuplas:"
   ]
  },
  {
   "cell_type": "markdown",
   "metadata": {},
   "source": [
    "1. Crea una tupla `persona1` para juntar los siguientes datos: 61 kg, 1.54 m altura, pelo marrón, sin usar paréntesis. (Serán del tipo `int`, `float` y `str`.)"
   ]
  },
  {
   "cell_type": "code",
   "execution_count": 11,
   "metadata": {},
   "outputs": [],
   "source": [
    "persona1 = (61, 1.54, \"pelo marron\")"
   ]
  },
  {
   "cell_type": "markdown",
   "metadata": {},
   "source": [
    "2. Crea una tupla para la `persona2` de 68 kg, 1.65 m y pelo rubio, usando paréntesis."
   ]
  },
  {
   "cell_type": "code",
   "execution_count": 12,
   "metadata": {},
   "outputs": [],
   "source": [
    "persona2 = (68, 1.65, \"pelo rubio\")"
   ]
  },
  {
   "cell_type": "markdown",
   "metadata": {},
   "source": [
    "3. Crea una lista `talla` que recompila 'M', 42, y 39. "
   ]
  },
  {
   "cell_type": "code",
   "execution_count": 3,
   "metadata": {},
   "outputs": [],
   "source": [
    "talla = [\"M\", 42, 39]"
   ]
  },
  {
   "cell_type": "markdown",
   "metadata": {},
   "source": [
    "- Convertir y juntar:"
   ]
  },
  {
   "cell_type": "markdown",
   "metadata": {},
   "source": [
    "4. Convierte la lista `talla` a una tupla."
   ]
  },
  {
   "cell_type": "code",
   "execution_count": 4,
   "metadata": {},
   "outputs": [
    {
     "name": "stdout",
     "output_type": "stream",
     "text": [
      "('M', 42, 39)\n"
     ]
    }
   ],
   "source": [
    "print(tuple(talla))"
   ]
  },
  {
   "cell_type": "markdown",
   "metadata": {},
   "source": [
    "5. Une a la tupla de `persona1` los datos en `talla`, para tener una única tupla."
   ]
  },
  {
   "cell_type": "code",
   "execution_count": 5,
   "metadata": {},
   "outputs": [
    {
     "name": "stdout",
     "output_type": "stream",
     "text": [
      "(61, 1.54, 'pelo marron', 'M', 42, 39)\n"
     ]
    }
   ],
   "source": [
    "print(persona1 + tuple(talla))"
   ]
  },
  {
   "cell_type": "markdown",
   "metadata": {},
   "source": [
    "- Indexar tuplas:"
   ]
  },
  {
   "cell_type": "markdown",
   "metadata": {},
   "source": [
    "6. Saca de `persona2` el contenido del tercer elemento y llámalo `color`."
   ]
  },
  {
   "cell_type": "code",
   "execution_count": 6,
   "metadata": {},
   "outputs": [
    {
     "name": "stdout",
     "output_type": "stream",
     "text": [
      "Color de pelo: pelo rubio\n"
     ]
    }
   ],
   "source": [
    "persona2 = (68, 1.65, \"pelo rubio\")\n",
    "color = persona2[2]\n",
    "\n",
    "print(\"Color de pelo:\", color)"
   ]
  },
  {
   "cell_type": "markdown",
   "metadata": {},
   "source": [
    "7. ¿Cuántos elementos hay ahora en `persona1`? (Es decir, ¿cuál es su longitud?)"
   ]
  },
  {
   "cell_type": "code",
   "execution_count": 10,
   "metadata": {},
   "outputs": [
    {
     "name": "stdout",
     "output_type": "stream",
     "text": [
      "6\n"
     ]
    }
   ],
   "source": [
    "persona1 = [61, 1.54, 'pelo marron', 'M', 42, 39]\n",
    "\n",
    "print(len(persona1))"
   ]
  },
  {
   "cell_type": "markdown",
   "metadata": {},
   "source": [
    "- Desempaquetar:"
   ]
  },
  {
   "cell_type": "markdown",
   "metadata": {},
   "source": [
    "8. Crea las variables `peso`, `altura`, `color_pelo` y llénalas con el contenido de `persona1`. Imprime `color_pelo` para comprobar el resultado."
   ]
  },
  {
   "cell_type": "code",
   "execution_count": 8,
   "metadata": {},
   "outputs": [
    {
     "name": "stdout",
     "output_type": "stream",
     "text": [
      "pelo marron\n"
     ]
    }
   ],
   "source": [
    "peso = 61\n",
    "altura = 1.51\n",
    "color_pelo = \"pelo marron\"\n",
    "\n",
    "print(color_pelo)"
   ]
  },
  {
   "cell_type": "markdown",
   "metadata": {},
   "source": [
    "- Zipear:"
   ]
  },
  {
   "cell_type": "markdown",
   "metadata": {},
   "source": [
    "9. Crea el zip `personas` con `persona1` y `persona2`."
   ]
  },
  {
   "cell_type": "code",
   "execution_count": 25,
   "metadata": {},
   "outputs": [
    {
     "name": "stdout",
     "output_type": "stream",
     "text": [
      "(61, 1.54, 'pelo marron', 68, 1.65, 'pelo rubio')\n"
     ]
    }
   ],
   "source": [
    "personas = (persona1 + persona2)\n",
    "\n",
    "print(personas)"
   ]
  },
  {
   "cell_type": "markdown",
   "metadata": {},
   "source": [
    "10. ¿Cuántas \"elementos\" tiene `personas`? ¿Por qué?"
   ]
  },
  {
   "cell_type": "code",
   "execution_count": 26,
   "metadata": {},
   "outputs": [
    {
     "name": "stdout",
     "output_type": "stream",
     "text": [
      "6\n"
     ]
    }
   ],
   "source": [
    "zip(persona1, persona2)\n",
    "\n",
    "print(len(list(personas)))"
   ]
  },
  {
   "cell_type": "markdown",
   "metadata": {},
   "source": [
    "11. Crea una tupla `etiquetas` con `'peso'`, `'altura'`, y `'color_pelo'`."
   ]
  },
  {
   "cell_type": "code",
   "execution_count": 27,
   "metadata": {},
   "outputs": [
    {
     "name": "stdout",
     "output_type": "stream",
     "text": [
      "['peso, altura, color_pelo']\n"
     ]
    }
   ],
   "source": [
    "etiquetas = [\"peso, altura, color_pelo\"]\n",
    "\n",
    "print(etiquetas)"
   ]
  },
  {
   "cell_type": "markdown",
   "metadata": {},
   "source": [
    "12. Crea al zip de `etiquetas`, `persona1`, y `persona2`, llamado \"todo\"."
   ]
  },
  {
   "cell_type": "code",
   "execution_count": 28,
   "metadata": {},
   "outputs": [
    {
     "name": "stdout",
     "output_type": "stream",
     "text": [
      "(61, 1.54, 'pelo marron', 68, 1.65, 'pelo rubio', 'peso, altura, color_pelo')\n"
     ]
    }
   ],
   "source": [
    "todo = persona1 + persona2 + tuple(etiquetas)\n",
    "\n",
    "print(todo)"
   ]
  },
  {
   "cell_type": "markdown",
   "metadata": {},
   "source": [
    "- Manipular zips:"
   ]
  },
  {
   "cell_type": "markdown",
   "metadata": {},
   "source": [
    "13. Ordena las propiedades de la variable `personas` alfabéticamente. ¿Puedes? ¿Por qué?"
   ]
  },
  {
   "cell_type": "code",
   "execution_count": 35,
   "metadata": {},
   "outputs": [
    {
     "ename": "AttributeError",
     "evalue": "'tuple' object has no attribute 'sort'",
     "output_type": "error",
     "traceback": [
      "\u001b[0;31m---------------------------------------------------------------------------\u001b[0m",
      "\u001b[0;31mAttributeError\u001b[0m                            Traceback (most recent call last)",
      "\u001b[0;32m/tmp/ipykernel_563/2483816367.py\u001b[0m in \u001b[0;36m<module>\u001b[0;34m\u001b[0m\n\u001b[0;32m----> 1\u001b[0;31m \u001b[0mprint\u001b[0m\u001b[0;34m(\u001b[0m\u001b[0mpersonas\u001b[0m\u001b[0;34m.\u001b[0m\u001b[0msort\u001b[0m\u001b[0;34m(\u001b[0m\u001b[0;34m)\u001b[0m\u001b[0;34m)\u001b[0m\u001b[0;34m\u001b[0m\u001b[0;34m\u001b[0m\u001b[0m\n\u001b[0m",
      "\u001b[0;31mAttributeError\u001b[0m: 'tuple' object has no attribute 'sort'"
     ]
    }
   ],
   "source": [
    "print(personas.sort())"
   ]
  }
 ],
 "metadata": {
  "kernelspec": {
   "display_name": "base",
   "language": "python",
   "name": "python3"
  },
  "language_info": {
   "codemirror_mode": {
    "name": "ipython",
    "version": 3
   },
   "file_extension": ".py",
   "mimetype": "text/x-python",
   "name": "python",
   "nbconvert_exporter": "python",
   "pygments_lexer": "ipython3",
   "version": "3.9.7"
  }
 },
 "nbformat": 4,
 "nbformat_minor": 2
}
