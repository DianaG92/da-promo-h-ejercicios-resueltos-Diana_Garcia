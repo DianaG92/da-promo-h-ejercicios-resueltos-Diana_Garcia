{
 "cells": [
  {
   "cell_type": "markdown",
   "metadata": {},
   "source": [
    "# Listas"
   ]
  },
  {
   "cell_type": "code",
   "execution_count": null,
   "metadata": {},
   "outputs": [],
   "source": [
    "# 1. Crear una lista: Crea una lista con cinco colores diferentes.\n",
    "colores = [\"rojo\", \"verde\", \"azul\", \"amarillo\", \"naranja\"]\n"
   ]
  },
  {
   "cell_type": "code",
   "execution_count": 33,
   "metadata": {},
   "outputs": [
    {
     "name": "stdout",
     "output_type": "stream",
     "text": [
      "['azul', 'rojo', 'rosa', 'negro', 'blanco']\n"
     ]
    }
   ],
   "source": [
    "# Ejercicio 1\n",
    "\n",
    "colores = [\"azul\", \"rojo\", \"rosa\", \"negro\", \"blanco\"]\n",
    "\n",
    "print(colores)"
   ]
  },
  {
   "cell_type": "code",
   "execution_count": null,
   "metadata": {},
   "outputs": [],
   "source": [
    "# Acceder a elementos: Accede al tercer elemento de la lista de colores.\n",
    "tercer_color = colores[2]\n",
    "tercer_color"
   ]
  },
  {
   "cell_type": "code",
   "execution_count": 28,
   "metadata": {},
   "outputs": [
    {
     "name": "stdout",
     "output_type": "stream",
     "text": [
      "rosa\n"
     ]
    }
   ],
   "source": [
    "# Ejercicio 2\n",
    "\n",
    "colores = colores[2]\n",
    "\n",
    "print(colores)"
   ]
  },
  {
   "cell_type": "code",
   "execution_count": null,
   "metadata": {},
   "outputs": [],
   "source": [
    "# Modificar elementos: Cambia el segundo color de la lista por otro de tu elección.\n",
    "colores[1] = \"blanco\" \n",
    "colores\n"
   ]
  },
  {
   "cell_type": "code",
   "execution_count": 34,
   "metadata": {},
   "outputs": [
    {
     "name": "stdout",
     "output_type": "stream",
     "text": [
      "['azul', 'rojo', 'lila', 'negro', 'blanco']\n"
     ]
    }
   ],
   "source": [
    "# Ejercicio 3\n",
    "\n",
    "colores[2] = \"lila\"\n",
    "\n",
    "print(colores)\n"
   ]
  },
  {
   "cell_type": "code",
   "execution_count": null,
   "metadata": {},
   "outputs": [],
   "source": [
    "# 4. Agregar elementos: Agrega dos colores nuevos a la lista.\n",
    "colores.append(\"negro\")  # Agrega \"negro\" al final de la lista\n",
    "colores.insert(3, \"rosa\")  # Agrega \"rosa\" en la posición 3\n",
    "colores"
   ]
  },
  {
   "cell_type": "code",
   "execution_count": 37,
   "metadata": {},
   "outputs": [
    {
     "name": "stdout",
     "output_type": "stream",
     "text": [
      "['azul', 'rojo', 'amarillo', 'lila', 'negro', 'blanco', 'morado', 'morado']\n"
     ]
    }
   ],
   "source": [
    "# Ejercicio 4\n",
    "\n",
    "colores.append(\"morado\")\n",
    "colores.insert (2, \"amarillo\")\n",
    "\n",
    "print(colores)"
   ]
  },
  {
   "cell_type": "code",
   "execution_count": null,
   "metadata": {},
   "outputs": [],
   "source": [
    "# 5. Eliminar elementos: Elimina el cuarto color de la lista.\n",
    "colores.pop(3) \n",
    "colores"
   ]
  },
  {
   "cell_type": "code",
   "execution_count": 38,
   "metadata": {},
   "outputs": [
    {
     "name": "stdout",
     "output_type": "stream",
     "text": [
      "['azul', 'rojo', 'amarillo', 'lila', 'blanco', 'morado', 'morado']\n"
     ]
    }
   ],
   "source": [
    "# Ejercicio 5\n",
    "\n",
    "colores.pop(4)\n",
    "\n",
    "print(colores)"
   ]
  },
  {
   "cell_type": "code",
   "execution_count": null,
   "metadata": {},
   "outputs": [],
   "source": [
    "# 6. Longitud de la lista: Encuentra la longitud de la lista de colores.\n",
    "longitud = len(colores)\n",
    "longitud"
   ]
  },
  {
   "cell_type": "code",
   "execution_count": 39,
   "metadata": {},
   "outputs": [
    {
     "name": "stdout",
     "output_type": "stream",
     "text": [
      "7\n"
     ]
    }
   ],
   "source": [
    "# Ejercicio 6\n",
    "\n",
    "print(len(colores))"
   ]
  },
  {
   "cell_type": "code",
   "execution_count": null,
   "metadata": {},
   "outputs": [],
   "source": [
    "# 7. Ordenar la lista: Ordena la lista de colores en orden alfabético.\n",
    "colores.sort() \n",
    "colores"
   ]
  },
  {
   "cell_type": "code",
   "execution_count": 41,
   "metadata": {},
   "outputs": [
    {
     "name": "stdout",
     "output_type": "stream",
     "text": [
      "['amarillo', 'azul', 'blanco', 'lila', 'morado', 'morado', 'rojo']\n"
     ]
    }
   ],
   "source": [
    "# Ejercicio 7\n",
    "\n",
    "colores.sort()\n",
    "\n",
    "print(colores)"
   ]
  },
  {
   "cell_type": "code",
   "execution_count": null,
   "metadata": {},
   "outputs": [],
   "source": [
    "# 8. Listas anidadas: Crea una lista de dos sublistas, cada una con tres nombres de frutas.\n",
    "frutas = [[\"manzana\", \"pera\", \"plátano\"], [\"fresa\", \"uva\", \"mango\"]]\n",
    "frutas\n"
   ]
  },
  {
   "cell_type": "code",
   "execution_count": 59,
   "metadata": {},
   "outputs": [
    {
     "name": "stdout",
     "output_type": "stream",
     "text": [
      "[['peras', 'manzanas', 'platanos'], ['sandias', 'melones', 'kiwis']]\n"
     ]
    }
   ],
   "source": [
    "# Ejercicio 8\n",
    "\n",
    "lista1 = [\"peras\", \"manzanas\", \"platanos\"]\n",
    "lista2 = [\"sandias\", \"melones\", \"kiwis\"]\n",
    "\n",
    "lista_anidada = [lista1] + [lista2]\n",
    "\n",
    "print(lista_anidada)"
   ]
  },
  {
   "cell_type": "code",
   "execution_count": null,
   "metadata": {},
   "outputs": [],
   "source": [
    "# 9. Concatenar listas: Concatena las dos sublistas en una sola lista de frutas.\n",
    "lista_de_frutas = frutas[0] + frutas[1]\n",
    "lista_de_frutas"
   ]
  },
  {
   "cell_type": "code",
   "execution_count": 54,
   "metadata": {},
   "outputs": [
    {
     "name": "stdout",
     "output_type": "stream",
     "text": [
      "['peras', 'manzanas', 'platanos', 'sandias', 'melones', 'kiwis']\n"
     ]
    }
   ],
   "source": [
    "# Ejercicio 9\n",
    "\n",
    "lista_concatenada = lista1 + lista2\n",
    "\n",
    "print(lista_concatenada)"
   ]
  },
  {
   "cell_type": "code",
   "execution_count": null,
   "metadata": {},
   "outputs": [],
   "source": [
    "# 10. Repetir elementos: Repite la lista de frutas tres veces para obtener una lista más larga.\n",
    "lista_repetida = lista_de_frutas * 3\n",
    "lista_repetida"
   ]
  },
  {
   "cell_type": "code",
   "execution_count": 57,
   "metadata": {},
   "outputs": [
    {
     "name": "stdout",
     "output_type": "stream",
     "text": [
      "['peras', 'manzanas', 'platanos', 'sandias', 'melones', 'kiwis', 'peras', 'manzanas', 'platanos', 'sandias', 'melones', 'kiwis', 'peras', 'manzanas', 'platanos', 'sandias', 'melones', 'kiwis']\n"
     ]
    }
   ],
   "source": [
    "# Ejercicio 10\n",
    "\n",
    "print(lista_concatenada * 3)"
   ]
  },
  {
   "cell_type": "code",
   "execution_count": null,
   "metadata": {},
   "outputs": [],
   "source": [
    "# 11. Acceder a la primera lista de frutas:\n",
    "primera_lista = frutas[0]\n",
    "primera_lista"
   ]
  },
  {
   "cell_type": "code",
   "execution_count": 62,
   "metadata": {},
   "outputs": [
    {
     "name": "stdout",
     "output_type": "stream",
     "text": [
      "['peras', 'manzanas', 'platanos']\n"
     ]
    }
   ],
   "source": [
    "# Ejercicio 11\n",
    "\n",
    "print(lista1)"
   ]
  },
  {
   "cell_type": "code",
   "execution_count": null,
   "metadata": {},
   "outputs": [],
   "source": [
    "# 12. Acceder a la segunda lista de frutas:\n",
    "segunda_lista = frutas[1]\n",
    "segunda_lista"
   ]
  },
  {
   "cell_type": "code",
   "execution_count": 74,
   "metadata": {},
   "outputs": [
    {
     "name": "stdout",
     "output_type": "stream",
     "text": [
      "['sandias', 'melones', 'kiwis']\n"
     ]
    }
   ],
   "source": [
    "# Ejercicio 12\n",
    "\n",
    "print(lista2)"
   ]
  },
  {
   "cell_type": "code",
   "execution_count": null,
   "metadata": {},
   "outputs": [],
   "source": [
    "# 13. Acceder a la primera fruta de la primera lista:\n",
    "primera_fruta = frutas[0][0]\n",
    "primera_fruta"
   ]
  },
  {
   "cell_type": "code",
   "execution_count": 64,
   "metadata": {},
   "outputs": [
    {
     "name": "stdout",
     "output_type": "stream",
     "text": [
      "peras\n"
     ]
    }
   ],
   "source": [
    "# Ejercicio 13\n",
    "\n",
    "print(lista1[0])"
   ]
  },
  {
   "cell_type": "code",
   "execution_count": null,
   "metadata": {},
   "outputs": [],
   "source": [
    "#14. Acceder a la última fruta de la segunda lista:\n",
    "ultima_fruta = frutas[1][-1]\n",
    "ultima_fruta"
   ]
  },
  {
   "cell_type": "code",
   "execution_count": 66,
   "metadata": {},
   "outputs": [
    {
     "name": "stdout",
     "output_type": "stream",
     "text": [
      "kiwis\n"
     ]
    }
   ],
   "source": [
    "# Ejercicio 14\n",
    "\n",
    "print(lista2[-1])\n"
   ]
  },
  {
   "cell_type": "code",
   "execution_count": null,
   "metadata": {},
   "outputs": [],
   "source": [
    "# 15. Acceder a la segunda fruta de la primera lista:\n",
    "segunda_fruta = frutas[0][1]\n",
    "segunda_fruta"
   ]
  },
  {
   "cell_type": "code",
   "execution_count": 67,
   "metadata": {},
   "outputs": [
    {
     "name": "stdout",
     "output_type": "stream",
     "text": [
      "manzanas\n"
     ]
    }
   ],
   "source": [
    "# Ejercicio 15\n",
    "\n",
    "print(lista1[1])"
   ]
  },
  {
   "cell_type": "code",
   "execution_count": null,
   "metadata": {},
   "outputs": [],
   "source": [
    "# 16. Acceder a la última fruta de la primera lista:\n",
    "ultima_fruta_primera_lista = frutas[0][-1]\n",
    "ultima_fruta_primera_lista"
   ]
  },
  {
   "cell_type": "code",
   "execution_count": 68,
   "metadata": {},
   "outputs": [
    {
     "name": "stdout",
     "output_type": "stream",
     "text": [
      "platanos\n"
     ]
    }
   ],
   "source": [
    "# Ejercicio 16\n",
    "\n",
    "print(lista1[-1])"
   ]
  },
  {
   "cell_type": "code",
   "execution_count": null,
   "metadata": {},
   "outputs": [],
   "source": [
    "# 17. Acceder a la longitud de la segunda lista de frutas:\n",
    "longitud_segunda_lista = len(frutas[1])\n",
    "longitud_segunda_lista"
   ]
  },
  {
   "cell_type": "code",
   "execution_count": 69,
   "metadata": {},
   "outputs": [
    {
     "name": "stdout",
     "output_type": "stream",
     "text": [
      "3\n"
     ]
    }
   ],
   "source": [
    "# Ejercicio 17\n",
    "\n",
    "print(len(lista2))"
   ]
  },
  {
   "cell_type": "code",
   "execution_count": null,
   "metadata": {},
   "outputs": [],
   "source": [
    "# 18. Acceder a una porción de la segunda lista (slicing):\n",
    "porcion_segunda_lista = frutas[1][:2]\n",
    "porcion_segunda_lista"
   ]
  },
  {
   "cell_type": "code",
   "execution_count": 77,
   "metadata": {},
   "outputs": [
    {
     "name": "stdout",
     "output_type": "stream",
     "text": [
      "['melones']\n"
     ]
    }
   ],
   "source": [
    "# Ejercicio 18\n",
    "\n",
    "porcion_lista = lista2[1:2]\n",
    "\n",
    "print(porcion_lista)"
   ]
  },
  {
   "cell_type": "code",
   "execution_count": null,
   "metadata": {},
   "outputs": [],
   "source": [
    "#19. Cambiar la segunda fruta de la segunda lista:\n",
    "frutas[1][1] = \"ciruela\"\n",
    "frutas"
   ]
  },
  {
   "cell_type": "code",
   "execution_count": 79,
   "metadata": {},
   "outputs": [
    {
     "name": "stdout",
     "output_type": "stream",
     "text": [
      "['sandias', 'fresas', 'kiwis']\n"
     ]
    }
   ],
   "source": [
    "# Ejercicio 19\n",
    "\n",
    "lista2[1] = \"fresas\"\n",
    "\n",
    "print(lista2)"
   ]
  },
  {
   "cell_type": "code",
   "execution_count": null,
   "metadata": {},
   "outputs": [],
   "source": [
    "# 20. Agregar una nueva fruta a la primera lista:\n",
    "frutas[0].append(\"kiwi\")\n",
    "frutas"
   ]
  },
  {
   "cell_type": "code",
   "execution_count": 80,
   "metadata": {},
   "outputs": [
    {
     "name": "stdout",
     "output_type": "stream",
     "text": [
      "['peras', 'manzanas', 'platanos', 'ciruelas']\n"
     ]
    }
   ],
   "source": [
    "# Ejercicio 20\n",
    "\n",
    "lista1.append(\"ciruelas\")\n",
    "\n",
    "print(lista1)"
   ]
  },
  {
   "cell_type": "markdown",
   "metadata": {},
   "source": [
    "# Tuplas"
   ]
  },
  {
   "cell_type": "code",
   "execution_count": null,
   "metadata": {},
   "outputs": [],
   "source": [
    "# 1. Crear una tupla:\n",
    "mi_tupla = (1, 2, 3, 4, 5)\n",
    "mi_tupla"
   ]
  },
  {
   "cell_type": "code",
   "execution_count": 81,
   "metadata": {},
   "outputs": [
    {
     "name": "stdout",
     "output_type": "stream",
     "text": [
      "(1, 2, 3, 4, 5, 6)\n"
     ]
    }
   ],
   "source": [
    "# Ejercicio 1\n",
    "\n",
    "tupla = (1, 2, 3, 4, 5, 6)\n",
    "\n",
    "print(tupla)"
   ]
  },
  {
   "cell_type": "code",
   "execution_count": null,
   "metadata": {},
   "outputs": [],
   "source": [
    "# Acceder al primer elemento:\n",
    "primer_elemento = mi_tupla[0]\n",
    "primer_elemento"
   ]
  },
  {
   "cell_type": "code",
   "execution_count": 82,
   "metadata": {},
   "outputs": [
    {
     "name": "stdout",
     "output_type": "stream",
     "text": [
      "1\n"
     ]
    }
   ],
   "source": [
    "# Ejercicio 2\n",
    "\n",
    "print(tupla[0])"
   ]
  },
  {
   "cell_type": "code",
   "execution_count": null,
   "metadata": {},
   "outputs": [],
   "source": [
    "# 3. Acceder al último elemento:\n",
    "ultimo_elemento = mi_tupla[-1]\n",
    "ultimo_elemento"
   ]
  },
  {
   "cell_type": "code",
   "execution_count": 83,
   "metadata": {},
   "outputs": [
    {
     "name": "stdout",
     "output_type": "stream",
     "text": [
      "6\n"
     ]
    }
   ],
   "source": [
    "# Ejercicio 3\n",
    "\n",
    "print(tupla[-1])"
   ]
  },
  {
   "cell_type": "code",
   "execution_count": null,
   "metadata": {},
   "outputs": [],
   "source": [
    "# 4. Acceder a un rango de elementos:\n",
    "sub_tupla = mi_tupla[1:4]\n",
    "sub_tupla"
   ]
  },
  {
   "cell_type": "code",
   "execution_count": 84,
   "metadata": {},
   "outputs": [
    {
     "name": "stdout",
     "output_type": "stream",
     "text": [
      "(3, 4, 5)\n"
     ]
    }
   ],
   "source": [
    "# Ejercicio 4\n",
    "\n",
    "print(tupla[2:5])"
   ]
  },
  {
   "cell_type": "code",
   "execution_count": null,
   "metadata": {},
   "outputs": [],
   "source": [
    "# 5. Concatenar dos tuplas:\n",
    "otra_tupla = (6, 7, 8)\n",
    "tupla_concatenada = mi_tupla + otra_tupla\n",
    "tupla_concatenada"
   ]
  },
  {
   "cell_type": "code",
   "execution_count": 86,
   "metadata": {},
   "outputs": [
    {
     "name": "stdout",
     "output_type": "stream",
     "text": [
      "(1, 3, 5, 7, 2, 4, 6, 8)\n"
     ]
    }
   ],
   "source": [
    "# Ejercicio 5\n",
    "\n",
    "tupla1 = (1, 3, 5, 7)\n",
    "tupla2 = (2, 4, 6, 8)\n",
    "\n",
    "tupla3= tupla1 + tupla2\n",
    "\n",
    "print(tupla3)"
   ]
  },
  {
   "cell_type": "code",
   "execution_count": null,
   "metadata": {},
   "outputs": [],
   "source": [
    "# 6. Encontrar la longitud:\n",
    "longitud = len(tupla_concatenada)\n",
    "longitud"
   ]
  },
  {
   "cell_type": "code",
   "execution_count": 87,
   "metadata": {},
   "outputs": [
    {
     "name": "stdout",
     "output_type": "stream",
     "text": [
      "8\n"
     ]
    }
   ],
   "source": [
    "# Ejercicio 6\n",
    "\n",
    "print(len(tupla3))"
   ]
  },
  {
   "cell_type": "code",
   "execution_count": null,
   "metadata": {},
   "outputs": [],
   "source": [
    "# 7. Buscar un elemento: \n",
    "elemento_buscado = \"manzana\"\n",
    "esta_presente = elemento_buscado in mi_tupla\n",
    "esta_presente"
   ]
  },
  {
   "cell_type": "code",
   "execution_count": 98,
   "metadata": {},
   "outputs": [
    {
     "name": "stdout",
     "output_type": "stream",
     "text": [
      "No aparece\n"
     ]
    }
   ],
   "source": [
    "# Ejercicio 7\n",
    "\n",
    "if 2 in tupla1:\n",
    "    print(\"Si aparece\")\n",
    "    \n",
    "else:\n",
    "    print(\"No aparece\")"
   ]
  },
  {
   "cell_type": "code",
   "execution_count": null,
   "metadata": {},
   "outputs": [],
   "source": [
    "# 8. Contar elementos: \n",
    "elemento_contar = \"pera\"\n",
    "contador = mi_tupla.count(elemento_contar) \n",
    "contador"
   ]
  },
  {
   "cell_type": "code",
   "execution_count": 102,
   "metadata": {},
   "outputs": [
    {
     "name": "stdout",
     "output_type": "stream",
     "text": [
      "1\n"
     ]
    }
   ],
   "source": [
    "# Ejercicio 8\n",
    "\n",
    "print(tupla2.count(2))"
   ]
  },
  {
   "cell_type": "code",
   "execution_count": null,
   "metadata": {},
   "outputs": [],
   "source": [
    "# 9. Desempaquetar una tupla: \n",
    "nombre_apellido = (\"Juan\", \"Pérez\")\n",
    "nombre, apellido = nombre_apellido\n",
    "print(nombre)\n",
    "print(apellido)"
   ]
  },
  {
   "cell_type": "code",
   "execution_count": 103,
   "metadata": {},
   "outputs": [
    {
     "name": "stdout",
     "output_type": "stream",
     "text": [
      "Rosa\n",
      "Julia\n"
     ]
    }
   ],
   "source": [
    "# Ejercicio 9\n",
    "\n",
    "nombre_nombre2 = \"Rosa\", \"Julia\"\n",
    "nombre, nombre2 = nombre_nombre2\n",
    "\n",
    "print(nombre)\n",
    "print(nombre2)\n"
   ]
  },
  {
   "cell_type": "code",
   "execution_count": null,
   "metadata": {},
   "outputs": [],
   "source": [
    "# 10. Convertir una lista en tupla:\n",
    "lista_numeros = [10, 20, 30]\n",
    "tupla_desde_lista = tuple(lista_numeros)\n",
    "tupla_desde_lista"
   ]
  },
  {
   "cell_type": "code",
   "execution_count": 114,
   "metadata": {},
   "outputs": [
    {
     "name": "stdout",
     "output_type": "stream",
     "text": [
      "(9, 8, 7, 6)\n"
     ]
    }
   ],
   "source": [
    "# Ejercicio 10\n",
    "\n",
    "lista = [9, 8, 7, 6]\n",
    "tupla = tuple(lista)\n",
    "\n",
    "print(tupla)"
   ]
  },
  {
   "cell_type": "markdown",
   "metadata": {},
   "source": [
    "# Diccionarios\n"
   ]
  },
  {
   "cell_type": "code",
   "execution_count": null,
   "metadata": {},
   "outputs": [],
   "source": [
    "# 1. Crear un diccionario:\n",
    "mi_diccionario = {\"apellido\": \"Lopez\"}\n",
    "mi_diccionario"
   ]
  },
  {
   "cell_type": "code",
   "execution_count": 46,
   "metadata": {},
   "outputs": [
    {
     "name": "stdout",
     "output_type": "stream",
     "text": [
      "{'animal': 'perro', 'fruta': 'platano', 'comida': 'lentejas'}\n"
     ]
    }
   ],
   "source": [
    "# Ejercicio 1\n",
    "\n",
    "dicc = {\"animal\": \"perro\", \"fruta\": \"platano\", \"comida\": \"lentejas\"}\n",
    "\n",
    "print(dicc)"
   ]
  },
  {
   "cell_type": "code",
   "execution_count": null,
   "metadata": {},
   "outputs": [],
   "source": [
    "# 2. Agregar elementos:\n",
    "mi_diccionario[\"nombre\"] = \"Juan\"\n",
    "mi_diccionario"
   ]
  },
  {
   "cell_type": "code",
   "execution_count": 45,
   "metadata": {},
   "outputs": [
    {
     "name": "stdout",
     "output_type": "stream",
     "text": [
      "{'animal': 'perro', 'fruta': 'platano', 'comida': 'lentejas', 'nombre': 'Sonia'}\n"
     ]
    }
   ],
   "source": [
    "# Ejercicio 2\n",
    "\n",
    "dicc[\"nombre\"] =\"Sonia\"\n",
    "\n",
    "print(dicc)"
   ]
  },
  {
   "cell_type": "code",
   "execution_count": null,
   "metadata": {},
   "outputs": [],
   "source": [
    "# 3. Acceder a un valor:\n",
    "valor = mi_diccionario[\"nombre\"]\n",
    "valor"
   ]
  },
  {
   "cell_type": "code",
   "execution_count": 5,
   "metadata": {},
   "outputs": [
    {
     "name": "stdout",
     "output_type": "stream",
     "text": [
      "perro\n"
     ]
    }
   ],
   "source": [
    "# Ejercicio 3\n",
    "\n",
    "print(dicc[\"animal\"])"
   ]
  },
  {
   "cell_type": "code",
   "execution_count": null,
   "metadata": {},
   "outputs": [],
   "source": [
    "# 4. Modificar un valor:\n",
    "\n",
    "mi_diccionario[\"nombre\"] = \"Ana\"\n",
    "mi_diccionario"
   ]
  },
  {
   "cell_type": "code",
   "execution_count": 44,
   "metadata": {},
   "outputs": [
    {
     "name": "stdout",
     "output_type": "stream",
     "text": [
      "{'animal': 'perro', 'fruta': 'platano', 'comida': 'lentejas', 'nombre': 'Andrea'}\n"
     ]
    }
   ],
   "source": [
    "# Ejercicio 4\n",
    "\n",
    "dicc[\"nombre\"] = \"Andrea\"\n",
    "\n",
    "print(dicc)"
   ]
  },
  {
   "cell_type": "code",
   "execution_count": null,
   "metadata": {},
   "outputs": [],
   "source": [
    "# 5. Eliminar un elemento:\n",
    "del mi_diccionario[\"nombre\"]\n",
    "mi_diccionario\n"
   ]
  },
  {
   "cell_type": "code",
   "execution_count": 12,
   "metadata": {},
   "outputs": [
    {
     "name": "stdout",
     "output_type": "stream",
     "text": [
      "{'animal': 'perro', 'fruta': 'platano', 'nombre': 'Andrea'}\n"
     ]
    }
   ],
   "source": [
    "# Ejercicio 5\n",
    "\n",
    "dicc.pop(\"comida\")\n",
    "\n",
    "print(dicc)"
   ]
  },
  {
   "cell_type": "code",
   "execution_count": null,
   "metadata": {},
   "outputs": [],
   "source": [
    "# 6. Verificar existencia:\n",
    "existe_apellido = \"apellido\" in mi_diccionario\n",
    "existe_apellido"
   ]
  },
  {
   "cell_type": "code",
   "execution_count": 3,
   "metadata": {},
   "outputs": [
    {
     "name": "stdout",
     "output_type": "stream",
     "text": [
      "True\n"
     ]
    }
   ],
   "source": [
    "# Ejercicio 6\n",
    "\n",
    "print(\"animal\" in dicc)"
   ]
  },
  {
   "cell_type": "code",
   "execution_count": null,
   "metadata": {},
   "outputs": [],
   "source": [
    "# 7. Obtener todas las claves:\n",
    "\n",
    "claves = list(mi_diccionario.keys())\n",
    "claves\n"
   ]
  },
  {
   "cell_type": "code",
   "execution_count": 4,
   "metadata": {},
   "outputs": [
    {
     "name": "stdout",
     "output_type": "stream",
     "text": [
      "['animal', 'fruta', 'comida']\n"
     ]
    }
   ],
   "source": [
    "# Ejercicio 7\n",
    "\n",
    "print(list(dicc.keys()))"
   ]
  },
  {
   "cell_type": "code",
   "execution_count": null,
   "metadata": {},
   "outputs": [],
   "source": [
    "# 8. Obtener todos los valores:\n",
    "valores = list(mi_diccionario.values())\n",
    "valores\n"
   ]
  },
  {
   "cell_type": "code",
   "execution_count": 17,
   "metadata": {},
   "outputs": [
    {
     "name": "stdout",
     "output_type": "stream",
     "text": [
      "['perro', 'platano', 'lentejas']\n"
     ]
    }
   ],
   "source": [
    "# Ejercicio 8\n",
    "\n",
    "print(list(dicc.values()))"
   ]
  },
  {
   "cell_type": "code",
   "execution_count": null,
   "metadata": {},
   "outputs": [],
   "source": [
    "# 9. Recorrer el diccionario:\n",
    "\n",
    "for clave, valor in mi_diccionario.items():\n",
    "    print(clave, valor)\n"
   ]
  },
  {
   "cell_type": "code",
   "execution_count": 24,
   "metadata": {},
   "outputs": [
    {
     "name": "stdout",
     "output_type": "stream",
     "text": [
      "animal perro\n",
      "fruta platano\n",
      "comida lentejas\n"
     ]
    }
   ],
   "source": [
    "# Ejercicio 9\n",
    "\n",
    "for clave, valor in dicc.items():\n",
    "    print(clave, valor)\n"
   ]
  },
  {
   "cell_type": "code",
   "execution_count": null,
   "metadata": {},
   "outputs": [],
   "source": [
    "# 10. Longitud del diccionario:\n",
    "\n",
    "longitud = len(mi_diccionario)\n",
    "longitud"
   ]
  },
  {
   "cell_type": "code",
   "execution_count": 13,
   "metadata": {},
   "outputs": [
    {
     "name": "stdout",
     "output_type": "stream",
     "text": [
      "3\n"
     ]
    }
   ],
   "source": [
    "# Ejercicio 10\n",
    "\n",
    "print(len(dicc))"
   ]
  },
  {
   "cell_type": "code",
   "execution_count": null,
   "metadata": {},
   "outputs": [],
   "source": [
    "# 11. Copiar un diccionario:\n",
    "\n",
    "copia_diccionario = mi_diccionario.copy()\n",
    "copia_diccionario"
   ]
  },
  {
   "cell_type": "code",
   "execution_count": 43,
   "metadata": {},
   "outputs": [
    {
     "name": "stdout",
     "output_type": "stream",
     "text": [
      "{'animal': 'perro', 'fruta': 'platano', 'comida': 'lentejas'}\n"
     ]
    }
   ],
   "source": [
    "# Ejercicio 11\n",
    "\n",
    "dicc2 = dicc.copy()\n",
    "\n",
    "print(dicc2)"
   ]
  },
  {
   "cell_type": "code",
   "execution_count": null,
   "metadata": {},
   "outputs": [],
   "source": [
    "# 12. Eliminar elementos:\n",
    "copia_diccionario.clear()\n",
    "copia_diccionario\n"
   ]
  },
  {
   "cell_type": "code",
   "execution_count": 30,
   "metadata": {},
   "outputs": [
    {
     "name": "stdout",
     "output_type": "stream",
     "text": [
      "{}\n"
     ]
    }
   ],
   "source": [
    "# Ejercicio 12\n",
    "\n",
    "dicc2.clear()\n",
    "\n",
    "print(dicc2)"
   ]
  },
  {
   "cell_type": "code",
   "execution_count": null,
   "metadata": {},
   "outputs": [],
   "source": [
    "# 13. Combinar diccionarios:\n",
    "\n",
    "diccionario_combinado = mi_diccionario.update(copia_diccionario)\n",
    "diccionario_combinado\n"
   ]
  },
  {
   "cell_type": "code",
   "execution_count": 47,
   "metadata": {},
   "outputs": [
    {
     "name": "stdout",
     "output_type": "stream",
     "text": [
      "{'animal': 'perro', 'fruta': 'platano', 'comida': 'lentejas'}\n"
     ]
    }
   ],
   "source": [
    "# Ejercicio 13\n",
    "\n",
    "dicc.update(dicc2)\n",
    "\n",
    "print(dicc)"
   ]
  },
  {
   "cell_type": "code",
   "execution_count": null,
   "metadata": {},
   "outputs": [],
   "source": [
    "# 14. Obtener valor predeterminado:\n",
    "\n",
    "edad = mi_diccionario.get(\"edad\", \"Desconocida\")\n",
    "edad\n"
   ]
  },
  {
   "cell_type": "code",
   "execution_count": 57,
   "metadata": {},
   "outputs": [
    {
     "name": "stdout",
     "output_type": "stream",
     "text": [
      "desconocido\n"
     ]
    }
   ],
   "source": [
    "# Ejercicio 14\n",
    "\n",
    "print(dicc.get(\"fresa\", \"desconocido\"))\n"
   ]
  },
  {
   "cell_type": "code",
   "execution_count": null,
   "metadata": {},
   "outputs": [],
   "source": [
    "# 15. Clave máxima:\n",
    "\n",
    "diccionario_numerico = {\"a\": 5, \"b\": 10, \"c\": 3}\n",
    "clave_maxima = max(diccionario_numerico, key=diccionario_numerico.get)\n",
    "clave_maxima\n"
   ]
  },
  {
   "cell_type": "code",
   "execution_count": 63,
   "metadata": {},
   "outputs": [
    {
     "name": "stdout",
     "output_type": "stream",
     "text": [
      "b\n"
     ]
    }
   ],
   "source": [
    "# Ejercicio 15\n",
    "\n",
    "dicc3 = {\"a\": 5, \"b\": 10, \"c\": 3}\n",
    "clave_max = max(dicc3, key=dicc3.get)\n",
    "\n",
    "print(clave_max)"
   ]
  },
  {
   "cell_type": "markdown",
   "metadata": {},
   "source": [
    "# Sets"
   ]
  },
  {
   "cell_type": "code",
   "execution_count": null,
   "metadata": {},
   "outputs": [],
   "source": [
    "# 1. Crear un conjunto vacío:\n",
    "mi_set = set()\n",
    "mi_set"
   ]
  },
  {
   "cell_type": "code",
   "execution_count": 4,
   "metadata": {},
   "outputs": [
    {
     "name": "stdout",
     "output_type": "stream",
     "text": [
      "set()\n"
     ]
    }
   ],
   "source": [
    "# Ejercicio 1\n",
    "\n",
    "set1 = set()\n",
    "\n",
    "print(set1)"
   ]
  },
  {
   "cell_type": "code",
   "execution_count": null,
   "metadata": {},
   "outputs": [],
   "source": [
    "# 2. Agregar elementos a un conjunto: \n",
    "mi_set.add(1)\n",
    "mi_set.add(2)\n",
    "mi_set.add(3)\n",
    "\n",
    "mi_set"
   ]
  },
  {
   "cell_type": "code",
   "execution_count": 10,
   "metadata": {},
   "outputs": [
    {
     "name": "stdout",
     "output_type": "stream",
     "text": [
      "{1, 2, 3}\n"
     ]
    }
   ],
   "source": [
    "# Ejercicio 2\n",
    "\n",
    "set1.add(1)\n",
    "set1.add(2)\n",
    "set1.add(3)\n",
    "\n",
    "print(set1)\n"
   ]
  },
  {
   "cell_type": "code",
   "execution_count": null,
   "metadata": {},
   "outputs": [],
   "source": [
    "# 3. Eliminar elementos de un conjunto:\n",
    "mi_set.remove(2)\n",
    "mi_set"
   ]
  },
  {
   "cell_type": "code",
   "execution_count": 11,
   "metadata": {},
   "outputs": [
    {
     "name": "stdout",
     "output_type": "stream",
     "text": [
      "{1, 3}\n"
     ]
    }
   ],
   "source": [
    "# Ejercicio 3\n",
    "\n",
    "set1.remove(2)\n",
    "print(set1)"
   ]
  },
  {
   "cell_type": "code",
   "execution_count": null,
   "metadata": {},
   "outputs": [],
   "source": [
    "# 4. Verificar pertenencia:\n",
    "existe = 3 in mi_set\n",
    "existe\n"
   ]
  },
  {
   "cell_type": "code",
   "execution_count": 14,
   "metadata": {},
   "outputs": [
    {
     "name": "stdout",
     "output_type": "stream",
     "text": [
      "no existe\n"
     ]
    }
   ],
   "source": [
    "# Ejercicio 4\n",
    "\n",
    "if 4 in set1:\n",
    "    print(\"si existe\")\n",
    "    \n",
    "else:\n",
    "    print(\"no existe\")"
   ]
  },
  {
   "cell_type": "code",
   "execution_count": null,
   "metadata": {},
   "outputs": [],
   "source": [
    "# 5. Operaciones de conjuntos:\n",
    "set1 = {1, 2, 3, 4, 5}\n",
    "set2 = {3, 4, 5, 6, 7}\n",
    "interseccion = set1.intersection(set2)\n",
    "interseccion"
   ]
  },
  {
   "cell_type": "code",
   "execution_count": 15,
   "metadata": {},
   "outputs": [
    {
     "name": "stdout",
     "output_type": "stream",
     "text": [
      "{8, 2, 4, 7}\n"
     ]
    }
   ],
   "source": [
    "# Ejercicio 5\n",
    "\n",
    "set2 = {1, 2, 4, 5, 6, 7, 8,}\n",
    "set3 = {2, 4, 3, 7, 8, 9, 0}\n",
    "interseccion = set2.intersection(set3)\n",
    "\n",
    "print(interseccion)\n"
   ]
  },
  {
   "cell_type": "code",
   "execution_count": null,
   "metadata": {},
   "outputs": [],
   "source": [
    "# 6. Unión de conjuntos:\n",
    "union = set1.union(set2)\n",
    "union\n"
   ]
  },
  {
   "cell_type": "code",
   "execution_count": 98,
   "metadata": {},
   "outputs": [
    {
     "name": "stdout",
     "output_type": "stream",
     "text": [
      "{1, 2, 3, 5, 6, 8}\n"
     ]
    }
   ],
   "source": [
    "# Ejercicio 6\n",
    "\n",
    "print(set1.union(set2))"
   ]
  },
  {
   "cell_type": "code",
   "execution_count": null,
   "metadata": {},
   "outputs": [],
   "source": [
    "# 7. Diferencia de conjuntos:\n",
    "diferencia = set1.difference(set2)\n",
    "diferencia\n"
   ]
  },
  {
   "cell_type": "code",
   "execution_count": 97,
   "metadata": {},
   "outputs": [
    {
     "name": "stdout",
     "output_type": "stream",
     "text": [
      "{8, 6}\n"
     ]
    }
   ],
   "source": [
    "# Ejercicio 7\n",
    "\n",
    "print(set1.difference(set2))"
   ]
  },
  {
   "cell_type": "code",
   "execution_count": null,
   "metadata": {},
   "outputs": [],
   "source": [
    "# 8. Comparación de conjuntos:\n",
    "es_subconjunto = set1.issubset(set2)\n",
    "es_subconjunto"
   ]
  },
  {
   "cell_type": "code",
   "execution_count": 99,
   "metadata": {},
   "outputs": [
    {
     "name": "stdout",
     "output_type": "stream",
     "text": [
      "False\n"
     ]
    }
   ],
   "source": [
    "# Ejercicio 8\n",
    "\n",
    "print(set1.issubset(set2))"
   ]
  },
  {
   "cell_type": "code",
   "execution_count": null,
   "metadata": {},
   "outputs": [],
   "source": [
    "# 9. Eliminar elementos duplicados:\n",
    "\n",
    "mi_lista = [1, 2, 2, 3, 4, 4, 5]\n",
    "mi_conjunto = set(mi_lista)\n",
    "mi_conjunto"
   ]
  },
  {
   "cell_type": "code",
   "execution_count": 17,
   "metadata": {},
   "outputs": [
    {
     "name": "stdout",
     "output_type": "stream",
     "text": [
      "{1, 2, 3, 5, 6, 8}\n"
     ]
    }
   ],
   "source": [
    "# Ejercicio 9\n",
    "\n",
    "mi_lista = [1, 2, 3, 2, 5, 6, 8, 1, 2]\n",
    "conjunto = set(mi_lista)\n",
    "\n",
    "print(conjunto)"
   ]
  },
  {
   "cell_type": "code",
   "execution_count": null,
   "metadata": {},
   "outputs": [],
   "source": [
    "# 10. Comprobar igualdad de conjuntos:\n",
    "\n",
    "son_iguales = set1 == set2\n",
    "son_iguales"
   ]
  },
  {
   "cell_type": "code",
   "execution_count": 131,
   "metadata": {},
   "outputs": [
    {
     "name": "stdout",
     "output_type": "stream",
     "text": [
      "False\n"
     ]
    }
   ],
   "source": [
    "# Ejercicio 10\n",
    "\n",
    "set_iguales = set1 == set2\n",
    "\n",
    "print(set_iguales)"
   ]
  },
  {
   "cell_type": "markdown",
   "metadata": {},
   "source": [
    "# Sentencias de control\n"
   ]
  },
  {
   "cell_type": "markdown",
   "metadata": {},
   "source": [
    "##  1. Clasificación de triángulos:"
   ]
  },
  {
   "cell_type": "code",
   "execution_count": null,
   "metadata": {},
   "outputs": [],
   "source": [
    "\n",
    "# Solicita al usuario la longitud del tercer lado del triángulo y almacena la entrada en la variable lado1.\n",
    "lado1 = input(\"Dime la longitud del tercer lado del triángulo\")\n",
    "\n",
    "# Comprueba si la entrada es un número entero (dígitos) utilizando el método .isdigit().\n",
    "if lado1.isdigit():\n",
    "    # Si es un número entero, convierte la cadena en un entero y asigna el valor a la variable lado1.\n",
    "    lado1 = int(lado1)\n",
    "else:\n",
    "    # Si la entrada no es un número entero, entra en un bucle while hasta que se proporcione una entrada válida.\n",
    "    while lado1.isdigit() == False:\n",
    "        # Solicita nuevamente al usuario una entrada válida (un número entero).\n",
    "        lado1 = input(\"Necesito que me pases un número ENTERO\")\n",
    "\n",
    "    # Después de obtener una entrada válida, convierte la cadena en un entero y asigna el valor a la variable lado1.\n",
    "    lado1 = int(lado1)\n",
    "\n",
    "\n",
    "# hacemos lo mismo para el lado2 y para el lado3\n",
    "\n",
    "lado2 = input(\"Dime la longitud del tercer lado del triangulo\")\n",
    "if lado2.isdigit():\n",
    "    lado2 = int(lado2)\n",
    "    \n",
    "else: \n",
    "    while lado2.isdigit() == False:\n",
    "        lado2 = input(\"Necesito que me pases un numero ENTERO\")\n",
    "\n",
    "    lado2 = int(lado2)\n",
    "\n",
    "\n",
    "lado3 = input(\"Dime la longitud del tercer lado del triangulo\")\n",
    "\n",
    "\n",
    "if lado3.isdigit():\n",
    "    lado3 = int(lado3)\n",
    "    \n",
    "else: \n",
    "    while lado3.isdigit() == False:\n",
    "        lado3 = input(\"Necesito que me pases un numero ENTERO\")\n",
    "\n",
    "    lado3 = int(lado3)\n",
    "    \n",
    "\n",
    "# SOLUCIÓN 1\n",
    "if lado1 == lado2 == lado3:\n",
    "    print(\"Triangulo equilatero\")\n",
    "\n",
    "elif lado1 == lado2 or lado1 == lado3 or lado2 == lado3:\n",
    "    print(\"Triangulo isosceles\")\n",
    "\n",
    "else:\n",
    "    print(\"Triangulo escaleno\")\n",
    "    \n",
    "\n",
    "# SOLUCIÓN 2\n",
    "if lado1 == lado2 == lado3:\n",
    "    print(\"Triangulo equilatero\")\n",
    "\n",
    "elif lado1 != lado2 != lado3 and lado1 != lado3:\n",
    "    print(\"Escaleno\")\n",
    "\n",
    "else:\n",
    "    print(\"Isosceles\")"
   ]
  },
  {
   "cell_type": "code",
   "execution_count": 21,
   "metadata": {},
   "outputs": [],
   "source": [
    "# Ejercicio 1\n",
    "\n",
    "lado1 = input(\"¿Cual es la longitud del tercer lado del triangulo?\")\n",
    "\n",
    "if lado1.isdigit():\n",
    "    lado1 = int(lado1)\n",
    "    \n",
    "else:\n",
    "    while lado1.isdigit() == False:\n",
    "        lado1 = input (\"Conviertelo a un numero entero\")"
   ]
  },
  {
   "cell_type": "code",
   "execution_count": 22,
   "metadata": {},
   "outputs": [],
   "source": [
    "lado2 = input(\"¿Cual es la longitud del tercer lado del triangulo?\")\n",
    "\n",
    "if lado2.isdigit():\n",
    "    lado2 = int(lado1)\n",
    "    \n",
    "else:\n",
    "    while lado2.isdigit() == False:\n",
    "        lado2 = input (\"Conviertelo a un numero entero\")"
   ]
  },
  {
   "cell_type": "code",
   "execution_count": 23,
   "metadata": {},
   "outputs": [],
   "source": [
    "lado3 = input(\"¿Cual es la longitud del tercer lado del triangulo?\")\n",
    "\n",
    "if lado3.isdigit():\n",
    "    lado3 = int(lado1)\n",
    "    \n",
    "else:\n",
    "    while lado3.isdigit() == False:\n",
    "        lado3 = input (\"Conviertelo a un numero entero\")\n",
    "        "
   ]
  },
  {
   "cell_type": "code",
   "execution_count": 24,
   "metadata": {},
   "outputs": [
    {
     "name": "stdout",
     "output_type": "stream",
     "text": [
      "Es un triangulo escaleno\n"
     ]
    }
   ],
   "source": [
    "# SOLUCION 1\n",
    "\n",
    "if lado1 == lado2 == lado3:\n",
    "    print(\"Es un triangulo rectangulo\")\n",
    "    \n",
    "elif lado1 == lado2 or lado1 == lado3 or lado2 == lado3:\n",
    "    print(\"Es un triangulo isosceles\")\n",
    "    \n",
    "else:\n",
    "    print(\"Es un triangulo escaleno\")"
   ]
  },
  {
   "cell_type": "code",
   "execution_count": 25,
   "metadata": {},
   "outputs": [
    {
     "name": "stdout",
     "output_type": "stream",
     "text": [
      "Es un triangulo escaleno\n"
     ]
    }
   ],
   "source": [
    "# SOLUCION 2\n",
    "\n",
    "if lado1 == lado2 == lado3:\n",
    "    print(\"Es un triangulo rectangulo\")\n",
    "    \n",
    "elif lado1 != lado2 != lado3 and lado1 != lado3:\n",
    "    print(\"Es un triangulo escaleno\")\n",
    "    \n",
    "else:\n",
    "    print(\"Es un triangulo isosceles\")"
   ]
  },
  {
   "cell_type": "markdown",
   "metadata": {},
   "source": [
    "## 2. Conversión de temperatura:"
   ]
  },
  {
   "cell_type": "code",
   "execution_count": null,
   "metadata": {},
   "outputs": [],
   "source": [
    "temperatura = float(input(\"Ingresa la temperatura: \"))\n",
    "unidad = input(\"Ingresa la unidad (C o F): \")\n",
    "\n",
    "if unidad.upper() == \"C\":\n",
    "    fahrenheit = (temperatura * 9/5) + 32\n",
    "    print(f\"{temperatura}°C es igual a {fahrenheit}°F.\")\n",
    "elif unidad.upper() == \"F\":\n",
    "    celsius = (temperatura - 32) * 5/9\n",
    "    print(f\"{temperatura}°F es igual a {celsius}°C.\")\n",
    "else:\n",
    "    print(\"Unidad no válida. Ingresa C o F.\")\n"
   ]
  },
  {
   "cell_type": "code",
   "execution_count": 28,
   "metadata": {},
   "outputs": [
    {
     "name": "stdout",
     "output_type": "stream",
     "text": [
      "La unidad no es correcta. Ingresa C o F.\n"
     ]
    }
   ],
   "source": [
    "# Ejercicio 2\n",
    "\n",
    "temp = input(\"¿Que temperatura hace hoy (C o F)?\")\n",
    "\n",
    "if temp.upper() == \"C\":\n",
    "    fahrenheit = (temp * 9/5) + 32\n",
    "    print(f\"{temp}°C es igual a {fahrenheit}°F.\")\n",
    "    \n",
    "elif temp.upper() == \"F\":\n",
    "    celsius = (temp - 32) * 5/9\n",
    "    print(f\"{temp}°F es igual a {celsius}°C.\")\n",
    "    \n",
    "else:\n",
    "    print(\"La unidad no es correcta. Ingresa C o F.\")"
   ]
  },
  {
   "cell_type": "markdown",
   "metadata": {},
   "source": [
    "## 3. Cajero automático:"
   ]
  },
  {
   "cell_type": "code",
   "execution_count": 3,
   "metadata": {},
   "outputs": [
    {
     "name": "stdout",
     "output_type": "stream",
     "text": [
      "Tu saldo actual es: $1000\n"
     ]
    }
   ],
   "source": [
    "\n",
    "# Saldo inicial del cajero automático\n",
    "saldo = 1000\n",
    "\n",
    "# Se ejecuta un bucle infinito que permite al usuario realizar operaciones hasta que decida salir.\n",
    "while True:\n",
    "    # Muestra el saldo actual del usuario.\n",
    "    print(f\"Tu saldo actual es: ${saldo}\")\n",
    "    \n",
    "    # Solicita al usuario que elija una opción: depositar, retirar o salir.\n",
    "    opcion = input(\"¿Qué deseas hacer? (depositar/retirar/salir): \")\n",
    "\n",
    "    # Si el usuario elige depositar, solicita la cantidad a depositar y la suma al saldo.\n",
    "    if opcion.lower() == \"depositar\":\n",
    "        monto = float(input(\"Ingresa la cantidad a depositar: \"))\n",
    "        saldo += monto\n",
    "    \n",
    "    # Si el usuario elige retirar, solicita la cantidad a retirar y la resta del saldo si hay suficiente.\n",
    "    elif opcion.lower() == \"retirar\":\n",
    "        monto = float(input(\"Ingresa la cantidad a retirar: \"))\n",
    "        if monto <= saldo:\n",
    "            saldo -= monto\n",
    "        else:\n",
    "            print(\"Saldo insuficiente.\")\n",
    "    \n",
    "    # Si el usuario elige salir, sale del bucle y termina el programa.\n",
    "    elif opcion.lower() == \"salir\":\n",
    "        break\n",
    "    \n",
    "    # Si el usuario ingresa una opción no válida, muestra un mensaje de error.\n",
    "    else:\n",
    "        print(\"Opción no válida. Intenta de nuevo.\")\n",
    "\n"
   ]
  },
  {
   "cell_type": "code",
   "execution_count": 7,
   "metadata": {},
   "outputs": [
    {
     "name": "stdout",
     "output_type": "stream",
     "text": [
      "Tu saldo actual es: 2000\n",
      "Tu saldo actual es: 2030.0\n"
     ]
    }
   ],
   "source": [
    "# Ejercicio 3\n",
    "\n",
    "saldo = 2000\n",
    "\n",
    "while True:\n",
    "    print(\"Tu saldo actual es:\", saldo)\n",
    "    \n",
    "    opcion = input(\"¿Qué desea hacer? (ingresar/retirar/salir)\")\n",
    "    \n",
    "    if opcion.lower() == \"ingresar\":\n",
    "        cantidad = float(input(\"Introduce la cantidad a ingresar: \"))\n",
    "        saldo += cantidad\n",
    "    \n",
    "    elif opcion.lower() == \"retirar\":\n",
    "        cantidad = float(input(\"Introduce la cantidad a retirar: \"))\n",
    "        if cantidad <= saldo:\n",
    "            saldo -= cantidad\n",
    "        else:\n",
    "            print(\"Tu saldo es insuficiente.\")\n",
    "    \n",
    "    elif opcion.lower() == \"salir\":\n",
    "        break\n",
    "    \n",
    "    else:\n",
    "        print(\"Opción no válida. Inténtalo de nuevo.\")\n",
    "\n"
   ]
  },
  {
   "cell_type": "markdown",
   "metadata": {},
   "source": [
    "## 4. Calculadora de descuento:"
   ]
  },
  {
   "cell_type": "code",
   "execution_count": null,
   "metadata": {},
   "outputs": [],
   "source": [
    "\n",
    "# Solicita al usuario que ingrese el precio original del producto y el porcentaje de descuento.\n",
    "precio_original = float(input(\"Ingresa el precio original del producto: \"))\n",
    "porcentaje_descuento = float(input(\"Ingresa el porcentaje de descuento: \"))\n",
    "\n",
    "# Calcula el descuento restando el porcentaje de descuento del precio original.\n",
    "descuento = precio_original * (porcentaje_descuento / 100)\n",
    "\n",
    "# Calcula el precio final restando el descuento al precio original.\n",
    "precio_final = precio_original - descuento\n",
    "\n",
    "# Muestra el precio final con dos decimales.\n",
    "print(f\"El precio final después del descuento es: ${precio_final:.2f}\")\n",
    "\n",
    "# Muestra el monto de ahorro con dos decimales.\n",
    "print(f\"Ahorras: ${descuento:.2f}\")\n"
   ]
  },
  {
   "cell_type": "code",
   "execution_count": 8,
   "metadata": {},
   "outputs": [
    {
     "name": "stdout",
     "output_type": "stream",
     "text": [
      "El precio final aplicando el descuento es: 45.0\n",
      "Ahorras: 5.0\n"
     ]
    }
   ],
   "source": [
    "# Ejercicio 4\n",
    "\n",
    "precio_original = float(input(\"¿Cual es el precio del producto?\"))\n",
    "porcentaje_descuento = float(input(\"Ingresa el porcentaje de descuento:\"))\n",
    "\n",
    "descuento = precio_original * (porcentaje_descuento / 100)\n",
    "precio_final = precio_original - descuento\n",
    "\n",
    "print(\"El precio final aplicando el descuento es:\", precio_final)\n",
    "\n",
    "print(\"Ahorras:\", descuento)"
   ]
  },
  {
   "cell_type": "markdown",
   "metadata": {},
   "source": [
    "## 5. Cálculo de promedio de calificaciones:"
   ]
  },
  {
   "cell_type": "code",
   "execution_count": null,
   "metadata": {},
   "outputs": [],
   "source": [
    "# Solicita al usuario que ingrese el número de calificaciones que desea promediar.\n",
    "num_calificaciones = int(input(\"Ingrese el número de calificaciones: \"))\n",
    "calificaciones = []\n",
    "\n",
    "# Crea una lista llamada 'calificaciones' para almacenar las calificaciones ingresadas.\n",
    "for _ in range(num_calificaciones):\n",
    "    calificacion = float(input(\"Ingrese una calificación: \"))\n",
    "    calificaciones.append(calificacion)\n",
    "\n",
    "# Calcula el promedio de las calificaciones sumándolas y dividiéndolas por el número de calificaciones.\n",
    "promedio = sum(calificaciones) / num_calificaciones\n",
    "\n",
    "# Muestra el promedio con dos decimales.\n",
    "print(f\"El promedio de calificaciones es: {promedio:.2f}\")\n",
    "\n",
    "# Comprueba si el promedio es mayor o igual a 5 (aprobado) y muestra un mensaje apropiado.\n",
    "if promedio >= 5:\n",
    "    print(\"¡Aprobado!\")\n",
    "else:\n",
    "    print(\"No aprobado.\")\n"
   ]
  },
  {
   "cell_type": "code",
   "execution_count": 11,
   "metadata": {},
   "outputs": [
    {
     "name": "stdout",
     "output_type": "stream",
     "text": [
      "El promedio de calificaciones es: 3.71\n",
      "No has aprobado.\n"
     ]
    }
   ],
   "source": [
    "# Ejercicio 5\n",
    "\n",
    "num_calificaciones = int(input(\"Ingrese el número de calificaciones: \"))\n",
    "calificaciones = []\n",
    "\n",
    "for _ in range(num_calificaciones):\n",
    "    calificacion = float(input(\"Ingrese una calificación: \"))\n",
    "    calificaciones.append(calificacion)\n",
    "\n",
    "promedio = sum(calificaciones) / num_calificaciones\n",
    "\n",
    "print(f\"El promedio de calificaciones es: {promedio:.2f}\")\n",
    "\n",
    "if promedio >= 5:\n",
    "    print(\"¡Has aprobado!\")\n",
    "else:\n",
    "    print(\"No has aprobado.\")"
   ]
  },
  {
   "cell_type": "markdown",
   "metadata": {},
   "source": [
    "## 6. Generador de contraseñas seguras:"
   ]
  },
  {
   "cell_type": "code",
   "execution_count": null,
   "metadata": {},
   "outputs": [],
   "source": [
    "\n",
    "import random\n",
    "import string\n",
    "\n",
    "# Solicita al usuario que ingrese la longitud deseada de la contraseña y las preferencias para incluir números, mayúsculas, minúsculas y caracteres especiales.\n",
    "longitud = int(input(\"Ingrese la longitud de la contraseña: \"))\n",
    "usar_numeros = input(\"¿Incluir números? (s/n): \").lower() == \"s\"\n",
    "usar_mayusculas = input(\"¿Incluir letras mayúsculas? (s/n): \").lower() == \"s\"\n",
    "usar_minusculas = input(\"¿Incluir letras minúsculas? (s/n): \").lower() == \"s\"\n",
    "usar_especiales = input(\"¿Incluir caracteres especiales? (s/n): \").lower() == \"s\"\n",
    "\n",
    "caracteres = \"\"\n",
    "\n",
    "# Construye una cadena 'caracteres' que contendrá los caracteres permitidos según las preferencias del usuario.\n",
    "if usar_numeros:\n",
    "    caracteres += string.digits\n",
    "if usar_mayusculas:\n",
    "    caracteres += string.ascii_uppercase\n",
    "if usar_minusculas:\n",
    "    caracteres += string.ascii_lowercase\n",
    "if usar_especiales:\n",
    "    caracteres += string.punctuation\n",
    "\n",
    "# Verifica si el usuario ha seleccionado al menos una opción válida.\n",
    "if not (usar_numeros or usar_mayusculas or usar_minusculas or usar_especiales):\n",
    "    print(\"Debes seleccionar al menos una opción.\")\n",
    "else:\n",
    "    # Genera una contraseña aleatoria utilizando los caracteres permitidos y la longitud especificada.\n",
    "    contraseña = ''.join(random.choice(caracteres) for _ in range(longitud))\n",
    "    print(f\"Contraseña generada: {contraseña}\")\n",
    "\n"
   ]
  },
  {
   "cell_type": "markdown",
   "metadata": {},
   "source": [
    "## 7. Calculadora de edad de perros:"
   ]
  },
  {
   "cell_type": "code",
   "execution_count": null,
   "metadata": {},
   "outputs": [],
   "source": [
    "# Solicita al usuario que ingrese la edad de su perro en años.\n",
    "edad_perro = float(input(\"Ingrese la edad de su perro en años: \"))\n",
    "\n",
    "# Calcula la edad en años humanos según la edad del perro proporcionada.\n",
    "if edad_perro <= 2:\n",
    "    edad_humana = edad_perro * 10.5\n",
    "else:\n",
    "    edad_humana = 21 + (edad_perro - 2) * 4\n",
    "\n",
    "# Muestra la edad del perro en años humanos con un decimal.\n",
    "print(f\"La edad de su perro en años humanos es aproximadamente: {edad_humana:.1f} años\")\n",
    "\n"
   ]
  },
  {
   "cell_type": "code",
   "execution_count": 9,
   "metadata": {},
   "outputs": [
    {
     "name": "stdout",
     "output_type": "stream",
     "text": [
      "La edad de su perro en años humanos es aproximadamente: 45.0 años\n"
     ]
    }
   ],
   "source": [
    "# Ejercicio 7\n",
    "\n",
    "edad_perro = float(input(\"Ingrese la edad de su perro en años:\"))\n",
    "\n",
    "if edad_perro <= 2:\n",
    "    edad_humana =  edad_perro * 10.5\n",
    "else:\n",
    "    edad_humana = 21 + (edad_perro - 2) * 4\n",
    "\n",
    "print(f\"La edad de su perro en años humanos es aproximadamente: {edad_humana:.1f} años\")"
   ]
  },
  {
   "cell_type": "markdown",
   "metadata": {},
   "source": [
    "## 8. Simulador de ruleta:"
   ]
  },
  {
   "cell_type": "code",
   "execution_count": null,
   "metadata": {},
   "outputs": [],
   "source": [
    "# Solicita al usuario que ingrese la cantidad de dinero a apostar, el número en el que desea apostar y el color en el que desea apostar.\n",
    "monto_apuesta = float(input(\"Ingrese la cantidad de dinero a apostar: \"))\n",
    "numero_apostado = int(input(\"Ingrese el número en el que desea apostar (0-36): \"))\n",
    "color_apostado = input(\"Ingrese el color en el que desea apostar (rojo/negro): \").lower()\n",
    "\n",
    "# Genera un número aleatorio entre 0 y 36 que representa el número ganador en la ruleta.\n",
    "numero_ganador = random.randint(0, 36)\n",
    "\n",
    "# Muestra el número ganador en la ruleta.\n",
    "print(f\"El número ganador es: {numero_ganador}\")\n",
    "\n",
    "# Comprueba si el número apostado coincide con el número ganador.\n",
    "if numero_apostado == numero_ganador:\n",
    "    monto_ganado = monto_apuesta * 36  # El pago es 35 a 1 (36 veces la apuesta original)\n",
    "    print(f\"¡Felicidades! Ganaste ${monto_ganado:.2f}\")\n",
    "    \n",
    "# Comprueba si el color apostado coincide con el color del número ganador (rojo o negro).\n",
    "elif color_apostado == 'rojo' and numero_ganador % 2 == 1:\n",
    "    monto_ganado = monto_apuesta * 2\n",
    "    print(f\"¡Felicidades! Ganaste ${monto_ganado:.2f}\")\n",
    "    \n",
    "elif color_apostado == 'negro' and numero_ganador % 2 == 0:\n",
    "    monto_ganado = monto_apuesta * 2\n",
    "    print(f\"¡Felicidades! Ganaste ${monto_ganado:.2f}\")\n",
    "    \n",
    "# Si no se cumple ninguna de las condiciones anteriores, el jugador pierde su apuesta.\n",
    "else:\n",
    "    print(\"Lo siento, perdiste.\")\n"
   ]
  },
  {
   "cell_type": "markdown",
   "metadata": {},
   "source": [
    "# while"
   ]
  },
  {
   "cell_type": "markdown",
   "metadata": {},
   "source": [
    "## 1. Contador Regresivo:"
   ]
  },
  {
   "cell_type": "code",
   "execution_count": null,
   "metadata": {},
   "outputs": [],
   "source": [
    "# Solicita al usuario que ingrese un número para contar hacia abajo.\n",
    "numero = int(input(\"Ingresa un número para contar hacia abajo: \"))\n",
    "\n",
    "# Inicia un bucle while que se ejecutará mientras el número sea mayor o igual a 0.\n",
    "while numero >= 0:\n",
    "    # Imprime el valor actual de 'numero'.\n",
    "    print(numero)\n",
    "    \n",
    "    # Resta 1 al valor de 'numero' en cada iteración para contar hacia abajo.\n",
    "    numero -= 1\n"
   ]
  },
  {
   "cell_type": "code",
   "execution_count": 13,
   "metadata": {},
   "outputs": [
    {
     "name": "stdout",
     "output_type": "stream",
     "text": [
      "4\n",
      "3\n",
      "2\n",
      "1\n",
      "0\n"
     ]
    }
   ],
   "source": [
    "# Ejercicio 1\n",
    "\n",
    "numero = int(input(\"Ingrese un numero para contar hacia abajo:\"))\n",
    "\n",
    "while numero >= 0:\n",
    "    print(numero)\n",
    "    numero -= 1"
   ]
  },
  {
   "cell_type": "markdown",
   "metadata": {},
   "source": [
    "## 2. Adivina el Número:"
   ]
  },
  {
   "cell_type": "code",
   "execution_count": null,
   "metadata": {},
   "outputs": [],
   "source": [
    "\n",
    "import random\n",
    "\n",
    "# Genera un número aleatorio entre 1 y 20 que el usuario debe adivinar.\n",
    "numero_aleatorio = random.randint(1, 20)\n",
    "intentos = 0  # Inicializa el contador de intentos en 0.\n",
    "\n",
    "# Inicia un bucle while que se ejecutará hasta que el usuario adivine el número.\n",
    "while True:\n",
    "    intento = int(input(\"Adivina el número (entre 1 y 20): \"))  # Solicita un intento al usuario.\n",
    "    intentos += 1  # Incrementa el contador de intentos en cada intento.\n",
    "\n",
    "    # Comprueba si el intento del usuario coincide con el número aleatorio.\n",
    "    if intento == numero_aleatorio:\n",
    "        print(f\"¡Correcto! Adivinaste el número en {intentos} intentos.\")\n",
    "        break  # Sale del bucle ya que el usuario adivinó el número.\n",
    "    elif intento < numero_aleatorio:\n",
    "        print(\"El número es mayor. Intenta nuevamente.\")\n",
    "    else:\n",
    "        print(\"El número es menor. Intenta nuevamente.\")\n"
   ]
  },
  {
   "cell_type": "markdown",
   "metadata": {},
   "source": [
    "## 3. Calculadora Simple:"
   ]
  },
  {
   "cell_type": "code",
   "execution_count": null,
   "metadata": {},
   "outputs": [],
   "source": [
    "while True:\n",
    "    num1 = float(input(\"Ingresa el primer número: \"))  # Solicita al usuario que ingrese el primer número.\n",
    "    operador = input(\"Ingresa un operador (+, -, *, /) o 'q' para salir: \")  # Solicita al usuario que ingrese un operador o 'q' para salir.\n",
    "\n",
    "    if operador == 'q':\n",
    "        break  # Si el usuario ingresa 'q', sale del bucle.\n",
    "\n",
    "    num2 = float(input(\"Ingresa el segundo número: \"))  # Solicita al usuario que ingrese el segundo número.\n",
    "\n",
    "    if operador == '+':\n",
    "        resultado = num1 + num2\n",
    "    elif operador == '-':\n",
    "        resultado = num1 - num2\n",
    "    elif operador == '*':\n",
    "        resultado = num1 * num2\n",
    "    elif operador == '/':\n",
    "        if num2 == 0:\n",
    "            print(\"Error: No se puede dividir por cero.\")\n",
    "            continue  # Si el denominador es cero, muestra un error y continúa al siguiente ciclo del bucle.\n",
    "        resultado = num1 / num2\n",
    "    else:\n",
    "        print(\"Operador no válido. Intenta nuevamente.\")\n",
    "        continue  # Si el operador no es válido, muestra un error y continúa al siguiente ciclo del bucle.\n",
    "\n",
    "    print(f\"Resultado: {resultado}\")  # Muestra el resultado del cálculo al usuario.\n",
    "\n",
    "\n"
   ]
  },
  {
   "cell_type": "markdown",
   "metadata": {},
   "source": [
    "## 4. Conversión de Unidades:"
   ]
  },
  {
   "cell_type": "code",
   "execution_count": null,
   "metadata": {},
   "outputs": [],
   "source": [
    "# Se inicia un bucle while que se ejecutará indefinidamente hasta que el usuario elija salir.\n",
    "\n",
    "while True:\n",
    "    # Se solicita al usuario que elija una conversión o salir.\n",
    "    opcion = input(\"Elige una conversión (1: Celsius a Fahrenheit, 2: Kilómetros a Millas, q: Salir): \")\n",
    "\n",
    "    if opcion == 'q':\n",
    "        break  # Si el usuario ingresa 'q', el programa sale del bucle y finaliza.\n",
    "\n",
    "    if opcion == '1':\n",
    "        # Si el usuario elige la conversión de Celsius a Fahrenheit, se solicita la temperatura en grados Celsius.\n",
    "        celsius = float(input(\"Ingresa la temperatura en grados Celsius: \"))\n",
    "        \n",
    "        # Se realiza la conversión y se muestra el resultado.\n",
    "        fahrenheit = (celsius * 9/5) + 32\n",
    "        print(f\"{celsius} grados Celsius son equivalentes a {fahrenheit} grados Fahrenheit.\")\n",
    "    elif opcion == '2':\n",
    "        # Si el usuario elige la conversión de kilómetros a millas, se solicita la distancia en kilómetros.\n",
    "        kilometros = float(input(\"Ingresa la distancia en kilómetros: \"))\n",
    "        \n",
    "        # Se realiza la conversión y se muestra el resultado.\n",
    "        millas = kilometros * 0.621371\n",
    "        print(f\"{kilometros} kilómetros son equivalentes a {millas} millas.\")\n",
    "    else:\n",
    "        print(\"Opción no válida. Intenta nuevamente.\")  # Si la opción no es válida, muestra un mensaje de error y continúa el bucle.\n",
    "\n",
    "# El programa finaliza cuando el usuario elige salir ('q').\n"
   ]
  },
  {
   "cell_type": "markdown",
   "metadata": {},
   "source": [
    "# Cosas extra que hemos aprendido hoy"
   ]
  },
  {
   "cell_type": "markdown",
   "metadata": {},
   "source": [
    "## ¿Qué es una librería? \n",
    "\n",
    "Imagina que Python es como un conjunto de herramientas para hacer diferentes tareas en la computadora, como matemáticas, manejar archivos, trabajar con internet y mucho más. Estas herramientas básicas se llaman \"funciones\" y \"comandos\" en Python.\n",
    "\n",
    "Una biblioteca en Python es como una caja llena de herramientas adicionales que puedes agregar a tu conjunto básico. Estas herramientas adicionales te permiten hacer tareas más específicas y complejas sin tener que crear todo desde cero. Es como si alguien te diera una caja de herramientas especializada para hacer carpintería, otra para reparar automóviles y así sucesivamente.\n",
    "\n",
    "Entonces, una biblioteca es como una colección de funciones y comandos prehechos que otros programadores han creado para que tú puedas usar en tus programas. Te ahorra tiempo y esfuerzo, ya que no tienes que inventar todo desde cero cada vez que necesitas realizar una tarea específica."
   ]
  },
  {
   "cell_type": "markdown",
   "metadata": {},
   "source": [
    "## Librería string\n",
    "\n",
    "La biblioteca `string` en Python es un módulo incorporado que proporciona una colección de constantes y funciones relacionadas con caracteres y cadenas. Se utiliza para realizar diversas operaciones y manipulaciones de texto, como formatear cadenas, trabajar con caracteres específicos, verificar propiedades de caracteres, generar secuencias de caracteres y más.\n",
    "\n",
    "Algunas de las utilidades comunes de la biblioteca `string` incluyen:\n",
    "\n",
    "1. Formatear y manipular cadenas de texto.\n",
    "2. Generar contraseñas aleatorias.\n",
    "3. Validar y limpiar datos de entrada, como nombres de archivo o rutas.\n",
    "4. Trabajar con caracteres específicos, como dígitos, letras mayúsculas o minúsculas, y caracteres de puntuación.\n"
   ]
  },
  {
   "cell_type": "code",
   "execution_count": null,
   "metadata": {},
   "outputs": [],
   "source": [
    "# devuelve todas las letras en minúscula\n",
    "string.ascii_lowercase"
   ]
  },
  {
   "cell_type": "code",
   "execution_count": null,
   "metadata": {},
   "outputs": [],
   "source": [
    "# devuelve todas las letras en mayúscula\n",
    "string.ascii_uppercase"
   ]
  },
  {
   "cell_type": "code",
   "execution_count": null,
   "metadata": {},
   "outputs": [],
   "source": [
    "# devuelve todos los números\n",
    "string.digits"
   ]
  },
  {
   "cell_type": "code",
   "execution_count": null,
   "metadata": {},
   "outputs": [],
   "source": [
    "# devuelve caracteres especiales\n",
    "string.punctuation"
   ]
  },
  {
   "cell_type": "markdown",
   "metadata": {},
   "source": [
    "## Librería random\n",
    "\n",
    "La librería `random` proporciona funciones para generar números aleatorios y realizar operaciones relacionadas con la aleatoriedad. Es ampliamente utilizada en programación para realizar tareas que requieren elementos aleatorios, como juegos, simulaciones y pruebas. Algunas de las funciones comunes en la librería `random` incluyen `random.randint()`, `random.choice()`, y `random.sample()`.\n"
   ]
  },
  {
   "cell_type": "code",
   "execution_count": null,
   "metadata": {},
   "outputs": [],
   "source": [
    "import random\n",
    "cantidad = 5\n",
    "numeros_aleatorios = random.sample([1,2,3,4,5,6], cantidad)\n",
    "\n",
    "print(\"Números aleatorios únicos:\", numeros_aleatorios)"
   ]
  },
  {
   "cell_type": "code",
   "execution_count": null,
   "metadata": {},
   "outputs": [],
   "source": []
  },
  {
   "cell_type": "code",
   "execution_count": null,
   "metadata": {},
   "outputs": [],
   "source": []
  },
  {
   "cell_type": "markdown",
   "metadata": {},
   "source": []
  }
 ],
 "metadata": {
  "kernelspec": {
   "display_name": "promoe",
   "language": "python",
   "name": "python3"
  },
  "language_info": {
   "codemirror_mode": {
    "name": "ipython",
    "version": 3
   },
   "file_extension": ".py",
   "mimetype": "text/x-python",
   "name": "python",
   "nbconvert_exporter": "python",
   "pygments_lexer": "ipython3",
   "version": "3.9.7"
  },
  "orig_nbformat": 4
 },
 "nbformat": 4,
 "nbformat_minor": 2
}
