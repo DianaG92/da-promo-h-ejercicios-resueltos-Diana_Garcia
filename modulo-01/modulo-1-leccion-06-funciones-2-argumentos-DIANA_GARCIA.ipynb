{
 "cells": [
  {
   "cell_type": "markdown",
   "metadata": {},
   "source": [
    "EJERCICIOS DE ARGUMENTOS"
   ]
  },
  {
   "cell_type": "markdown",
   "metadata": {},
   "source": [
    "1. Crea una función que tome un número arbitrario de cadenas de texto como argumentos y devuelva una cadena de texto que sea la concatenación de todas ellas. "
   ]
  },
  {
   "cell_type": "code",
   "execution_count": 2,
   "metadata": {},
   "outputs": [
    {
     "name": "stdout",
     "output_type": "stream",
     "text": [
      "Buenos dias a todos!\n"
     ]
    }
   ],
   "source": [
    "def cadena_concatenada(*args):\n",
    "    return \"\".join(args)\n",
    "\n",
    "resultado = cadena_concatenada(\"Buenos\", \" \", \"dias\", \" \", \"a\", \" \", \"todos\", \"!\")\n",
    "\n",
    "print(resultado)"
   ]
  },
  {
   "cell_type": "markdown",
   "metadata": {},
   "source": [
    "2. Crea una función que tome un número arbitrario de argumentos y devuelva el producto de todos ellos."
   ]
  },
  {
   "cell_type": "code",
   "execution_count": 3,
   "metadata": {},
   "outputs": [
    {
     "name": "stdout",
     "output_type": "stream",
     "text": [
      "24\n"
     ]
    }
   ],
   "source": [
    "def producto(*args):\n",
    "    producto = 1 \n",
    "    \n",
    "    for num in args:\n",
    "        producto *= num\n",
    "    return producto\n",
    "\n",
    "resultado = producto(1, 2, 3, 4)\n",
    "\n",
    "print(resultado)"
   ]
  },
  {
   "cell_type": "markdown",
   "metadata": {},
   "source": [
    "3. Crea una función que tome un número arbitrario de diccionarios como argumentos y devuelva el valor mínimo entre todos los valores de los diccionarios."
   ]
  },
  {
   "cell_type": "code",
   "execution_count": 4,
   "metadata": {},
   "outputs": [
    {
     "name": "stdout",
     "output_type": "stream",
     "text": [
      "5\n"
     ]
    }
   ],
   "source": [
    "def diccionario(*args):\n",
    "    valores = []\n",
    "    for diccionario in args:\n",
    "        valores.extend(diccionario.values())\n",
    "    return min(valores, default=None)\n",
    "\n",
    "diccionario1 = {'a': 5, 'b': 10, 'c': 15}\n",
    "diccionario2 = {'x': 20, 'y': 25, 'z': 30}\n",
    "\n",
    "resultado = diccionario(diccionario1, diccionario2)\n",
    "\n",
    "print(resultado)"
   ]
  },
  {
   "cell_type": "markdown",
   "metadata": {},
   "source": [
    "4. Crea una función que tome un número arbitrario de listas y devuelva un diccionario donde las listas originales se combinan usando los índices como claves."
   ]
  },
  {
   "cell_type": "code",
   "execution_count": 5,
   "metadata": {},
   "outputs": [
    {
     "name": "stdout",
     "output_type": "stream",
     "text": [
      "{0: [0, 'a'], 1: [2, 'b'], 2: [4, 'c'], 3: [6, 'd']}\n"
     ]
    }
   ],
   "source": [
    "def diccionario_combinado(*args):\n",
    "    diccionario = {}\n",
    "    max_dicc = max(len(lista) for lista in args)\n",
    "    \n",
    "    for i in range(max_dicc):\n",
    "        diccionario[i] = [lista[i] if i < len(lista) else None for lista in args]\n",
    "    \n",
    "    return diccionario\n",
    "\n",
    "lista1 = [0, 2, 4, 6]\n",
    "lista2 = ['a', 'b', 'c', 'd']\n",
    "\n",
    "resultado = diccionario_combinado(lista1, lista2)\n",
    "\n",
    "print(resultado)"
   ]
  },
  {
   "cell_type": "markdown",
   "metadata": {},
   "source": [
    "5. Crea una función que tome el tipo de figura geométrica (por ejemplo, \"cuadrado\", \"triángulo\", \"círculo\") como argumento de palabra clave y los argumentos necesarios para calcular el área de esa figura. La función debe devolver el área calculada. Soluciona este ejercicio con *kwargs* Por ejemplo: \n",
    "\n",
    "    ```python\n",
    "    # esta función calcula el area de un cuadrado, para hacerlo solo necesitamos saber su lado  \n",
    "    area_figura(tipo=\"cuadrado\", lado=5)\n",
    "\n",
    "    # si quisieramos calcular la de un triángulo necesitaríamos su base y su altura, y si quisieramos calcular de un círculo necesitaríamos su radio. \n",
    "    ```"
   ]
  },
  {
   "cell_type": "code",
   "execution_count": 6,
   "metadata": {},
   "outputs": [
    {
     "name": "stdout",
     "output_type": "stream",
     "text": [
      "Área del cuadrado: 25\n"
     ]
    }
   ],
   "source": [
    "import math\n",
    "\n",
    "def area_figura(**kwargs):\n",
    "    tipo = kwargs.get(\"tipo\", \"\").lower()\n",
    "    \n",
    "    if tipo == \"cuadrado\":\n",
    "        lado = kwargs.get(\"lado\", 0)\n",
    "        area = lado ** 2\n",
    "    else:\n",
    "        area = None\n",
    "    \n",
    "    return area\n",
    "\n",
    "area_cuadrado = area_figura(tipo = \"cuadrado\", lado = 5)\n",
    "\n",
    "print(\"Área del cuadrado:\", area_cuadrado)"
   ]
  },
  {
   "cell_type": "markdown",
   "metadata": {},
   "source": [
    "6. Crea una función que tome argumentos de palabra clave para los ingredientes y pasos de una receta y devuelva una descripción completa de la receta. Resuelvelo con *kwargs*.  Esta función toma como entrada una serie de detalles sobre la receta, como el nombre de la receta, los ingredientes necesarios y los pasos para prepararla. Luego, la función genera y devuelve una descripción detallada de la receta en forma de cadena de texto. Los parámetros que debe recibir la función son:\n",
    "\n",
    "    - nombre_receta: Un argumento de palabra clave que representa el nombre de la receta.\n",
    "\n",
    "    - ingredientes: Un argumento de palabra clave que es un diccionario donde las claves son los nombres de los ingredientes y los valores son las cantidades necesarias de cada ingrediente.\n",
    "    \n",
    "    - pasos: Un argumento de palabra clave que contiene los pasos necesarios para preparar la receta en forma de una cadena de texto.\n",
    "\n",
    "    Al final tendremos que ver algo como esto: \n",
    "    ```python\n",
    "    '''\n",
    "    Receta: Pastel de Chocolate\n",
    "    Ingredientes:\n",
    "        - 200g de chocolate\n",
    "        - 150g de harina\n",
    "        - 100g de azúcar\n",
    "    Pasos:\n",
    "        1. Mezclar el chocolate con la harina.\n",
    "        2. Agregar el azúcar y mezclar bien.\n",
    "    '''"
   ]
  },
  {
   "cell_type": "code",
   "execution_count": 7,
   "metadata": {},
   "outputs": [
    {
     "name": "stdout",
     "output_type": "stream",
     "text": [
      "Receta: Pastel de Chocolate\n",
      "Ingredientes:\n",
      "  - 200g de chocolate\n",
      "  - 150g de harina\n",
      "  - 100g de azúcar\n",
      "Pasos:\n",
      "1. Mezclar el chocolate con la harina.\n",
      "2. Agregar el azúcar y mezclar bien.\n"
     ]
    }
   ],
   "source": [
    "def descripcion_receta(**kwargs):\n",
    "    nombre_receta = kwargs.get(\"nombre_receta\", \"Receta sin nombre\")\n",
    "    ingredientes = kwargs.get(\"ingredientes\", {})\n",
    "    pasos = kwargs.get(\"pasos\", \"\")\n",
    "\n",
    "    descripcion = f\"Receta: {nombre_receta}\\nIngredientes:\\n\"\n",
    "    for ingrediente, cantidad in ingredientes.items():\n",
    "        descripcion += f\"  - {cantidad} de {ingrediente}\\n\"\n",
    "    descripcion += \"Pasos:\\n\" + pasos\n",
    "\n",
    "    return descripcion\n",
    "\n",
    "receta_pastel_chocolate = {\n",
    "    \"nombre_receta\": \"Pastel de Chocolate\",\n",
    "    \"ingredientes\": {\"chocolate\": \"200g\", \"harina\": \"150g\", \"azúcar\": \"100g\"},\n",
    "    \"pasos\": \"1. Mezclar el chocolate con la harina.\\n2. Agregar el azúcar y mezclar bien.\"\n",
    "}\n",
    "\n",
    "receta = descripcion_receta(**receta_pastel_chocolate)\n",
    "\n",
    "print(receta)"
   ]
  },
  {
   "cell_type": "markdown",
   "metadata": {},
   "source": [
    "7. Crea una función que tome argumentos de palabra clave para los ingresos y gastos de una empresa y genere un informe financiero. Resyelvelo con *kwargs*. La función calcula y presenta un informe financiero simple. Este informe incluye detalles sobre los ingresos, los gastos y el balance de una entidad financiera, como una empresa o una persona. La función toma como entrada los ingresos y los gastos, y calcula el balance restando los gastos de los ingresos. Luego, genera una descripción del informe financiero en forma de cadena de texto. Los parámetros que recibe la función son: \n",
    "\n",
    "    - ingresos: Un argumento de palabra clave que representa la cantidad total de ingresos (dinero ganado) que se desea informar. Por defecto, se establece en 0 si no se proporciona ningún valor.\n",
    "\n",
    "    - gastos: Un argumento de palabra clave que representa la cantidad total de gastos (dinero gastado) que se desea informar. Por defecto, se establece en 0 si no se proporciona ningún valor.\n",
    "\n",
    "\n",
    "    Al final tendremos algo como esto:\n",
    "\n",
    "    ```python\n",
    "    '''\n",
    "    Ingresos: $50000\n",
    "    Gastos: $35000\n",
    "    Balance: $15000\n",
    "    '''\n",
    "    ```"
   ]
  },
  {
   "cell_type": "code",
   "execution_count": 8,
   "metadata": {},
   "outputs": [
    {
     "name": "stdout",
     "output_type": "stream",
     "text": [
      "Ingresos: 50000€\n",
      "Gastos: 35000€\n",
      "Balance:15000€\n"
     ]
    }
   ],
   "source": [
    "def informe_financiero(**kwargs):\n",
    "    ingresos = kwargs.get(\"ingresos\", 0)\n",
    "    gastos = kwargs.get(\"gastos\", 0)\n",
    "    \n",
    "    balance = ingresos - gastos\n",
    "    \n",
    "    informe = f\"Ingresos: {ingresos}€\\nGastos: {gastos}€\\nBalance:{balance}€\"\n",
    "    \n",
    "    return informe\n",
    "\n",
    "ingresos = 50000\n",
    "gastos = 35000\n",
    "\n",
    "informe = informe_financiero(ingresos = ingresos, gastos = gastos)\n",
    "\n",
    "print(informe)"
   ]
  }
 ],
 "metadata": {
  "kernelspec": {
   "display_name": "base",
   "language": "python",
   "name": "python3"
  },
  "language_info": {
   "codemirror_mode": {
    "name": "ipython",
    "version": 3
   },
   "file_extension": ".py",
   "mimetype": "text/x-python",
   "name": "python",
   "nbconvert_exporter": "python",
   "pygments_lexer": "ipython3",
   "version": "3.9.7"
  }
 },
 "nbformat": 4,
 "nbformat_minor": 2
}
