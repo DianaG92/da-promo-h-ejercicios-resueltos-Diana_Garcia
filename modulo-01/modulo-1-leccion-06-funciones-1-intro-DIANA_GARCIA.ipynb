{
 "cells": [
  {
   "cell_type": "markdown",
   "metadata": {},
   "source": [
    "EJERCICIOS DE FUNCIONES"
   ]
  },
  {
   "cell_type": "markdown",
   "metadata": {},
   "source": [
    "1. Escribe una función que reciba una cadena de texto como parámetro y devuelva un diccionario con las frecuencias de cada letra en la cadena. Los espacios no deben ser considerados. "
   ]
  },
  {
   "cell_type": "code",
   "execution_count": 1,
   "metadata": {},
   "outputs": [
    {
     "name": "stdout",
     "output_type": "stream",
     "text": [
      "{'b': 1, 'u': 1, 'e': 3, 'n': 1, 'a': 3, 's': 4, 't': 2, 'r': 1, 'd': 1, 'c': 1, 'o': 2, 'm': 1, 'i': 1}\n"
     ]
    }
   ],
   "source": [
    "def contar_letras(**kwargs):\n",
    "    frecuencias = {}\n",
    "    \n",
    "    for cadena in kwargs.values():\n",
    "        for caracter in cadena:\n",
    "            if caracter != ' ':\n",
    "                if caracter in frecuencias:\n",
    "                    frecuencias[caracter] += 1\n",
    "                else:\n",
    "                    frecuencias[caracter] = 1\n",
    "    \n",
    "    return frecuencias\n",
    "\n",
    "resultado = contar_letras(cadena1=\"buenas tardes\", cadena2=\"como estais\")\n",
    "\n",
    "print(resultado)"
   ]
  },
  {
   "cell_type": "markdown",
   "metadata": {},
   "source": [
    "2. Escribe una función que reciba una cadena de texto como parámetro y devuelva una lista con todas las palabras que tienen más de 5 letras."
   ]
  },
  {
   "cell_type": "code",
   "execution_count": 2,
   "metadata": {},
   "outputs": [
    {
     "name": "stdout",
     "output_type": "stream",
     "text": [
      "['Quedan', 'vacaciones']\n"
     ]
    }
   ],
   "source": [
    "def palabras_mas_de_5_letras(**kwargs):\n",
    "    cadena = kwargs.get(\"cadena\", \"\")\n",
    "    palabras = cadena.split()\n",
    "    \n",
    "    palabras_mas_largas = []\n",
    "    \n",
    "    for palabra in palabras:\n",
    "        if len(palabra) > 5:\n",
    "            palabras_mas_largas.append(palabra)\n",
    "    \n",
    "    return palabras_mas_largas\n",
    "\n",
    "cadena = \"Quedan pocos dias para las vacaciones\"\n",
    "resultado = palabras_mas_de_5_letras(cadena=cadena)\n",
    "\n",
    "print(resultado)"
   ]
  },
  {
   "cell_type": "markdown",
   "metadata": {},
   "source": [
    "3. Crea una función que tome una lista de palabras como entrada y devuelva una lista de palabras que contengan más de una vocal."
   ]
  },
  {
   "cell_type": "code",
   "execution_count": 3,
   "metadata": {},
   "outputs": [
    {
     "name": "stdout",
     "output_type": "stream",
     "text": [
      "['cielo', 'luna', 'nube', 'estrella']\n"
     ]
    }
   ],
   "source": [
    "def palabras_mas_de_una_vocal(cadena):\n",
    "    palabras_mas_de_una_vocal = []\n",
    "    \n",
    "    def contar_vocales(palabra):\n",
    "        contador = 0   \n",
    "        for letra in palabra:\n",
    "            if letra.lower() in \"aeiou\":\n",
    "                contador += 1\n",
    "        return contador   \n",
    "    \n",
    "    for palabra in cadena:\n",
    "        num_vocales = contar_vocales(palabra)  \n",
    "        if num_vocales > 1:\n",
    "            palabras_mas_de_una_vocal.append(palabra)\n",
    "        \n",
    "    return palabras_mas_de_una_vocal\n",
    "\n",
    "cadena = [\"cielo\", \"luna\", \"sol\", \"nube\", \"estrella\"]\n",
    "resultado = palabras_mas_de_una_vocal(cadena)\n",
    "\n",
    "print(resultado)        "
   ]
  },
  {
   "cell_type": "markdown",
   "metadata": {},
   "source": [
    "4. Crea una función que tome una lista de números y calcule la suma de todos los números pares en la lista."
   ]
  },
  {
   "cell_type": "code",
   "execution_count": 4,
   "metadata": {},
   "outputs": [
    {
     "name": "stdout",
     "output_type": "stream",
     "text": [
      "La suma de todos los numeros pares es: 30\n"
     ]
    }
   ],
   "source": [
    "def suma_num_pares(*args):\n",
    "    suma = 0\n",
    "    for numero in args:\n",
    "        if numero % 2 == 0:\n",
    "            suma += numero\n",
    "    return suma\n",
    "\n",
    "resultado = suma_num_pares(1, 2, 3, 4, 5, 6, 7, 8, 9, 10)\n",
    "\n",
    "print(\"La suma de todos los numeros pares es:\", resultado)"
   ]
  },
  {
   "cell_type": "markdown",
   "metadata": {},
   "source": [
    "5. Escribe una función que tome una lista de números como entrada y calcule el promedio de esos números."
   ]
  },
  {
   "cell_type": "code",
   "execution_count": 5,
   "metadata": {},
   "outputs": [
    {
     "name": "stdout",
     "output_type": "stream",
     "text": [
      "El promedio de los numeros es: 6.0\n"
     ]
    }
   ],
   "source": [
    "def promedio(*args):\n",
    "    if len(args) == 0:\n",
    "        return 0\n",
    "    suma_total = sum(args)\n",
    "    promedio = suma_total / len(args)\n",
    "   \n",
    "    return promedio\n",
    "\n",
    "resultado = promedio(2, 4, 6, 8, 10)\n",
    "\n",
    "print(\"El promedio de los numeros es:\", resultado)"
   ]
  },
  {
   "cell_type": "markdown",
   "metadata": {},
   "source": [
    "6. Crea una función que determine el próximo año en el que las cifras del año de tu cumpleaños no se repitan. La función toma un año de tu cumpleaños como entrada y calcula el próximo año en el que las cifras no se repitan, es decir, todas las cifras en el año son diferentes entre sí."
   ]
  },
  {
   "cell_type": "code",
   "execution_count": 6,
   "metadata": {},
   "outputs": [
    {
     "name": "stdout",
     "output_type": "stream",
     "text": [
      "El próximo año en el que las cifras no se repiten es: 2013\n"
     ]
    }
   ],
   "source": [
    "def proximo_año(**kwargs):\n",
    "    año_cumple = kwargs.get(\"año_cumple\", 0)\n",
    "    \n",
    "    año = año_cumple + 1\n",
    "    \n",
    "    while True:\n",
    "        cifras = set(str(año))\n",
    "        if len(cifras) == 4:\n",
    "            return año\n",
    "        año += 1\n",
    "\n",
    "resultado = proximo_año(año_cumple=1992)\n",
    "\n",
    "print(\"El próximo año en el que las cifras no se repiten es:\", resultado)"
   ]
  },
  {
   "cell_type": "markdown",
   "metadata": {},
   "source": [
    "7. Crea una función que determine cuántos pasteles puedes hornear según una receta y los ingredientes disponibles. La función toma dos diccionarios como entrada: receta, que contiene los ingredientes necesarios para un pastel, y disponible, que contiene la cantidad disponible de cada ingrediente. Sus parámetros de entrada son: \n",
    "\n",
    "    - receta: Un diccionario que representa los ingredientes necesarios para un pastel, donde las claves son los nombres de los ingredientes y los valores son las cantidades necesarias de cada ingrediente.\n",
    "\n",
    "    - disponible: Un diccionario que representa la cantidad disponible de cada ingrediente, donde las claves son los nombres de los ingredientes y los valores son las cantidades disponibles.\n",
    "\n",
    "    ```python\n",
    "    receta1 = {'flour': 500, 'sugar': 200, 'eggs': 1}\n",
    "    ingredientes1 = {'flour': 1200, 'sugar': 1200, 'eggs': 5, 'milk': 200}\n",
    "\n",
    "    pasteles(receta1, ingredientes1)    \n",
    "    # output: con estos ingredientes solo puedo hacer 2 bizcochos\n",
    "    ```"
   ]
  },
  {
   "cell_type": "code",
   "execution_count": 7,
   "metadata": {},
   "outputs": [
    {
     "name": "stdout",
     "output_type": "stream",
     "text": [
      "Con estos ingredientes solo puedo hacer 2 bizcochos.\n"
     ]
    }
   ],
   "source": [
    "def pasteles(**kwargs):\n",
    "    receta = kwargs.get(\"receta\", {})\n",
    "    disponible = kwargs.get(\"disponible\", {})\n",
    "    \n",
    "    max_pasteles = float('inf')\n",
    "    for ingrediente, cantidad in receta.items():\n",
    "        if ingrediente in disponible and disponible[ingrediente] // cantidad < max_pasteles:\n",
    "            max_pasteles = disponible[ingrediente] // cantidad\n",
    "            \n",
    "    if max_pasteles == 0:\n",
    "        return \"No hay suficientes ingredientes para hacer ningún pastel.\"\n",
    "    else:\n",
    "        return f\"Con estos ingredientes solo puedo hacer {max_pasteles} bizcochos.\"\n",
    "    \n",
    "receta1 = {'flour': 500, 'sugar': 200, 'eggs': 1}\n",
    "ingredientes1 = {'flour': 1200, 'sugar': 1200, 'eggs': 5, 'milk': 200}\n",
    "\n",
    "resultado = pasteles(receta=receta1, disponible=ingredientes1)\n",
    "\n",
    "print(resultado)"
   ]
  },
  {
   "cell_type": "markdown",
   "metadata": {},
   "source": [
    "- BONUS:"
   ]
  },
  {
   "cell_type": "markdown",
   "metadata": {},
   "source": [
    "8. Crea una función llamada fibonacci que tome un número n como argumento y devuelva una lista con los primeros n números de la serie Fibonacci."
   ]
  },
  {
   "cell_type": "code",
   "execution_count": 8,
   "metadata": {},
   "outputs": [
    {
     "name": "stdout",
     "output_type": "stream",
     "text": [
      "[0, 1, 1, 2, 3, 5, 8, 13, 21, 34]\n"
     ]
    }
   ],
   "source": [
    "def fibonacci(n):\n",
    "    lista_fibonacci = []\n",
    "    a, b = 0, 1 \n",
    "    \n",
    "    for _ in range(n):\n",
    "        lista_fibonacci.append(a)\n",
    "        a, b = b, a + b\n",
    "    \n",
    "    return lista_fibonacci\n",
    "\n",
    "resultado = fibonacci(10)\n",
    "\n",
    "print(resultado)"
   ]
  }
 ],
 "metadata": {
  "kernelspec": {
   "display_name": "Python 3",
   "language": "python",
   "name": "python3"
  },
  "language_info": {
   "codemirror_mode": {
    "name": "ipython",
    "version": 3
   },
   "file_extension": ".py",
   "mimetype": "text/x-python",
   "name": "python",
   "nbconvert_exporter": "python",
   "pygments_lexer": "ipython3",
   "version": "3.11.9"
  }
 },
 "nbformat": 4,
 "nbformat_minor": 2
}
