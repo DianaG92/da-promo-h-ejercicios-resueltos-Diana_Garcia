{
 "cells": [
  {
   "cell_type": "markdown",
   "metadata": {},
   "source": [
    "EJERCICIOS DE LISTAS"
   ]
  },
  {
   "cell_type": "markdown",
   "metadata": {},
   "source": [
    "- Definir listas:"
   ]
  },
  {
   "cell_type": "markdown",
   "metadata": {},
   "source": [
    "1. Haz una lista llamada `colores` donde almacenemos los primeros 6 colores que te vengan a la mente."
   ]
  },
  {
   "cell_type": "code",
   "execution_count": 1,
   "metadata": {},
   "outputs": [],
   "source": [
    "colores = [\"rojo, azul, verde, amarillo, rosa, naranja\"]"
   ]
  },
  {
   "cell_type": "markdown",
   "metadata": {},
   "source": [
    "2. Haz una lista llamada `buses` de las líneas de autobuses que pasan por tu casa."
   ]
  },
  {
   "cell_type": "code",
   "execution_count": 2,
   "metadata": {},
   "outputs": [],
   "source": [
    "buses = [31, 33, 36, 39, 65]"
   ]
  },
  {
   "cell_type": "markdown",
   "metadata": {},
   "source": [
    "3. Apunta la previsión de temperaturas máximas para todos los días de esta semana en `temperaturas`."
   ]
  },
  {
   "cell_type": "code",
   "execution_count": 3,
   "metadata": {},
   "outputs": [],
   "source": [
    "temperaturas = [13, 14, 18, 21, 24, 25, 21]"
   ]
  },
  {
   "cell_type": "markdown",
   "metadata": {},
   "source": [
    "- Convertir a listas:"
   ]
  },
  {
   "cell_type": "markdown",
   "metadata": {},
   "source": [
    "4. Convierte tu(s) nombre(s) a una lista `nombres` de caracteres."
   ]
  },
  {
   "cell_type": "code",
   "execution_count": 4,
   "metadata": {},
   "outputs": [],
   "source": [
    "nombre = [\"D, i, a, n, a\"]"
   ]
  },
  {
   "cell_type": "markdown",
   "metadata": {},
   "source": [
    "5. Convierte tu(s) apellido(s) a una lista `apellidos` de caracteres."
   ]
  },
  {
   "cell_type": "code",
   "execution_count": 5,
   "metadata": {},
   "outputs": [],
   "source": [
    "apellidos = [\"G, a, r, c, i, a, M, a, r, t, i, n\"]"
   ]
  },
  {
   "cell_type": "markdown",
   "metadata": {},
   "source": [
    "- Usar `len()`, `min()`, y `max()`:"
   ]
  },
  {
   "cell_type": "markdown",
   "metadata": {},
   "source": [
    "6. ¿Cuántos búses pasan por tu casa?"
   ]
  },
  {
   "cell_type": "code",
   "execution_count": 6,
   "metadata": {},
   "outputs": [
    {
     "name": "stdout",
     "output_type": "stream",
     "text": [
      "¿Cuántos buses pasan por tu casa? 5\n"
     ]
    }
   ],
   "source": [
    "len(\"buses\")\n",
    "\n",
    "print(\"¿Cuántos buses pasan por tu casa?\", len(\"buses\"))"
   ]
  },
  {
   "cell_type": "markdown",
   "metadata": {},
   "source": [
    "7. ¿Cuántos caracteres hay en tu apellido(s) (inluyendo los espacios)?"
   ]
  },
  {
   "cell_type": "code",
   "execution_count": 20,
   "metadata": {},
   "outputs": [
    {
     "name": "stdout",
     "output_type": "stream",
     "text": [
      "El número de caracteres de tus apellidos, incluyendo los espacios, es: 13\n"
     ]
    }
   ],
   "source": [
    "apellidos = \"García Martín\"\n",
    "numero_caracteres = len(apellidos)\n",
    "\n",
    "print(\"El número de caracteres de tus apellidos, incluyendo los espacios, es:\", numero_caracteres)"
   ]
  },
  {
   "cell_type": "markdown",
   "metadata": {},
   "source": [
    "8. ¿Cuáles son las temperaturas máximas (`t_max`) y mínimas (`t_min`) para esta semana?"
   ]
  },
  {
   "cell_type": "code",
   "execution_count": 8,
   "metadata": {},
   "outputs": [
    {
     "name": "stdout",
     "output_type": "stream",
     "text": [
      "La temperatura minima fue: 4\n",
      "La temperatura maxima fue: 25\n"
     ]
    }
   ],
   "source": [
    "temperaturas_semana = [13, 7, 14, 8, 18, 4, 21, 7, 24, 12, 25, 12, 21, 10]\n",
    "minima = min (temperaturas_semana)\n",
    "maxima = max(temperaturas_semana)\n",
    "\n",
    "print(\"La temperatura minima fue:\", minima)\n",
    "\n",
    "print(\"La temperatura maxima fue:\", maxima)"
   ]
  },
  {
   "cell_type": "markdown",
   "metadata": {},
   "source": [
    "- Usar `in`, `not in`:"
   ]
  },
  {
   "cell_type": "markdown",
   "metadata": {},
   "source": [
    "9. Hay una 'e' en tu nombre?"
   ]
  },
  {
   "cell_type": "code",
   "execution_count": 9,
   "metadata": {},
   "outputs": [
    {
     "name": "stdout",
     "output_type": "stream",
     "text": [
      "False\n"
     ]
    }
   ],
   "source": [
    "\"E\" in nombre\n",
    "\n",
    "print(\"E\" in nombre)"
   ]
  },
  {
   "cell_type": "markdown",
   "metadata": {},
   "source": [
    "10. Tienes el color 'rosa' en la lista de colores?"
   ]
  },
  {
   "cell_type": "code",
   "execution_count": 10,
   "metadata": {},
   "outputs": [
    {
     "name": "stdout",
     "output_type": "stream",
     "text": [
      "False\n"
     ]
    }
   ],
   "source": [
    "print(\"rosa\" in colores)"
   ]
  },
  {
   "cell_type": "markdown",
   "metadata": {},
   "source": [
    "11. ¿Tiene una 'x' tu nombre? (Usa `not in`)"
   ]
  },
  {
   "cell_type": "code",
   "execution_count": 11,
   "metadata": {},
   "outputs": [
    {
     "name": "stdout",
     "output_type": "stream",
     "text": [
      "True\n"
     ]
    }
   ],
   "source": [
    "print(\"x\" not in nombre)"
   ]
  },
  {
   "cell_type": "markdown",
   "metadata": {},
   "source": [
    "- Hacer copias y borrar sus contenidos:"
   ]
  },
  {
   "cell_type": "markdown",
   "metadata": {},
   "source": [
    "12. Copia el contenido de `temperaturas` a `temperaturas2`, y `temperaturas3`."
   ]
  },
  {
   "cell_type": "code",
   "execution_count": 13,
   "metadata": {},
   "outputs": [
    {
     "name": "stdout",
     "output_type": "stream",
     "text": [
      "[13, 14, 18, 21, 24, 25, 21]\n",
      "[13, 14, 18, 21, 24, 25, 21]\n"
     ]
    }
   ],
   "source": [
    "temperaturas2 = temperaturas.copy()\n",
    "\n",
    "print(temperaturas2)\n",
    "\n",
    "temperaturas3 = temperaturas.copy()\n",
    "\n",
    "print(temperaturas3)"
   ]
  },
  {
   "cell_type": "markdown",
   "metadata": {},
   "source": [
    "13. Vacía el contenido de la variable `temperaturas2`."
   ]
  },
  {
   "cell_type": "code",
   "execution_count": 16,
   "metadata": {},
   "outputs": [
    {
     "name": "stdout",
     "output_type": "stream",
     "text": [
      "[]\n"
     ]
    }
   ],
   "source": [
    "temperaturas2.clear()\n",
    "\n",
    "print(temperaturas2)"
   ]
  },
  {
   "cell_type": "markdown",
   "metadata": {},
   "source": [
    "14. Imprime el contenido de `temperaturas` y `temperaturas2`."
   ]
  },
  {
   "cell_type": "code",
   "execution_count": 17,
   "metadata": {},
   "outputs": [
    {
     "name": "stdout",
     "output_type": "stream",
     "text": [
      "[13, 14, 18, 21, 24, 25, 21]\n"
     ]
    }
   ],
   "source": [
    "temperaturas = [13, 14, 18, 21, 24, 25, 21]\n",
    "temperaturas2 = temperaturas.copy()\n",
    "\n",
    "print(temperaturas2)"
   ]
  },
  {
   "cell_type": "markdown",
   "metadata": {},
   "source": [
    "15. Copia el contenido de `nombres` a `nombres2`."
   ]
  },
  {
   "cell_type": "code",
   "execution_count": 18,
   "metadata": {},
   "outputs": [
    {
     "name": "stdout",
     "output_type": "stream",
     "text": [
      "['D, i, a, n, a']\n"
     ]
    }
   ],
   "source": [
    "nombre2 = nombre.copy()\n",
    "\n",
    "print(nombre2)"
   ]
  },
  {
   "cell_type": "markdown",
   "metadata": {},
   "source": [
    "16. Copia el contenido de `apellidos` a `apellidos2`."
   ]
  },
  {
   "cell_type": "code",
   "execution_count": 26,
   "metadata": {},
   "outputs": [
    {
     "name": "stdout",
     "output_type": "stream",
     "text": [
      "García Martín\n"
     ]
    }
   ],
   "source": [
    "apellidos2 = apellidos\n",
    "\n",
    "print(apellidos2)"
   ]
  },
  {
   "cell_type": "markdown",
   "metadata": {},
   "source": [
    "- Cambiar el orden de los contenidos:"
   ]
  },
  {
   "cell_type": "markdown",
   "metadata": {},
   "source": [
    "17. Ordena la variable `temperaturas3` de mayor a menor."
   ]
  },
  {
   "cell_type": "code",
   "execution_count": 27,
   "metadata": {},
   "outputs": [
    {
     "name": "stdout",
     "output_type": "stream",
     "text": [
      "[25, 24, 21, 21, 18, 14, 13]\n"
     ]
    }
   ],
   "source": [
    "temperaturas3 = [13, 14, 18, 21, 24, 25, 21]\n",
    "temperaturas3.sort(reverse=True)\n",
    "\n",
    "print(temperaturas3)"
   ]
  },
  {
   "cell_type": "markdown",
   "metadata": {},
   "source": [
    "18. Ordena los caracteres de tu nombre y tu apellido en las listas `nombres2` y `apellidos2`. Imprime el resultado y investiga: ¿qué orden ha cogido? ¿Cómo trata las mayúsculas?"
   ]
  },
  {
   "cell_type": "code",
   "execution_count": 28,
   "metadata": {},
   "outputs": [
    {
     "name": "stdout",
     "output_type": "stream",
     "text": [
      "['D', 'a', 'a', 'i', 'n']\n"
     ]
    }
   ],
   "source": [
    "nombre2 = \"D, i, a, n, a\"\n",
    "nombre2 = nombre2.split()\n",
    "nombre2 = ''.join(nombre2).split(',')\n",
    "nombre2.sort()\n",
    "\n",
    "print(nombre2)"
   ]
  },
  {
   "cell_type": "code",
   "execution_count": 32,
   "metadata": {},
   "outputs": [
    {
     "name": "stdout",
     "output_type": "stream",
     "text": [
      "['a', 'a', 'a', 'c', 'g', 'i', 'i', 'm', 'n', 'r', 'r', 't']\n"
     ]
    }
   ],
   "source": [
    "apellidos2 = \"G, a, r, c, i, a, M, a, r, t, i, n\"\n",
    "\n",
    "apellidos2 = apellidos2.split()\n",
    "apellidos2 = ''.join(apellidos2).split(',')\n",
    "apellidos2 = [letra.strip().lower() for letra in apellidos2 if letra.strip()]\n",
    "apellidos2.sort()\n",
    "\n",
    "print(apellidos2)"
   ]
  },
  {
   "cell_type": "markdown",
   "metadata": {},
   "source": [
    "- Contar duplicados:"
   ]
  },
  {
   "cell_type": "markdown",
   "metadata": {},
   "source": [
    "19. ¿Cuántas 'a' tiene tu nombre? ¿Y cuántas 'o'?"
   ]
  },
  {
   "cell_type": "code",
   "execution_count": 33,
   "metadata": {},
   "outputs": [
    {
     "name": "stdout",
     "output_type": "stream",
     "text": [
      "2\n"
     ]
    }
   ],
   "source": [
    "nombre = \"Diana\"\n",
    "nombre.count(\"a\")\n",
    "\n",
    "print(nombre.count(\"a\"))"
   ]
  },
  {
   "cell_type": "code",
   "execution_count": 34,
   "metadata": {},
   "outputs": [
    {
     "name": "stdout",
     "output_type": "stream",
     "text": [
      "0\n"
     ]
    }
   ],
   "source": [
    "nombre.count(\"o\")\n",
    "\n",
    "print(nombre.count(\"o\"))"
   ]
  },
  {
   "cell_type": "markdown",
   "metadata": {},
   "source": [
    "20. Verifica si los resultados de ejercicio 19 son iguales para la lista `nombres2`."
   ]
  },
  {
   "cell_type": "code",
   "execution_count": 35,
   "metadata": {},
   "outputs": [
    {
     "name": "stdout",
     "output_type": "stream",
     "text": [
      "2\n"
     ]
    }
   ],
   "source": [
    "nombres2 = \"Diana\"\n",
    "nombres2.count(\"a\")\n",
    "\n",
    "print(nombres2.count(\"a\"))"
   ]
  },
  {
   "cell_type": "markdown",
   "metadata": {},
   "source": [
    "21. ¿Cuántas veces esta semana llega la temperatura a la `t_max`? ¿Y cuántas a la `t_min`?"
   ]
  },
  {
   "cell_type": "code",
   "execution_count": 37,
   "metadata": {},
   "outputs": [
    {
     "name": "stdout",
     "output_type": "stream",
     "text": [
      "1\n"
     ]
    }
   ],
   "source": [
    "t_max = 25\n",
    "t_max = temperaturas_semana.count(25)\n",
    "\n",
    "print(t_max)"
   ]
  },
  {
   "cell_type": "code",
   "execution_count": 36,
   "metadata": {},
   "outputs": [
    {
     "name": "stdout",
     "output_type": "stream",
     "text": [
      "1\n"
     ]
    }
   ],
   "source": [
    "temperaturas_semana = [13, 7, 14, 8, 18, 4, 21, 7, 24, 12, 25, 12, 21, 10]\n",
    "t_min = 4\n",
    "t_min = temperaturas_semana.count(4)\n",
    "\n",
    "print(t_min)"
   ]
  },
  {
   "cell_type": "markdown",
   "metadata": {},
   "source": [
    "- Definir otra lista:"
   ]
  },
  {
   "cell_type": "markdown",
   "metadata": {},
   "source": [
    "22. La lista dias_en contiene 'monday', 'tuesday', 'wednesday', 'thursday', 'friday', 'saturday', y 'sunday'."
   ]
  },
  {
   "cell_type": "code",
   "execution_count": 38,
   "metadata": {},
   "outputs": [],
   "source": [
    "dias = ['monday', 'tuesday', 'wednesday', 'thursday', 'friday', 'saturday', 'sunday']"
   ]
  },
  {
   "cell_type": "markdown",
   "metadata": {},
   "source": [
    "23. Define temperaturas_diciembre 👇🏽:\n",
    "    ```python\n",
    "\n",
    "      temperaturas_diciembre = [10, 10, 13, 14, 12, 15, \n",
    "                            12, 11, 13, 17, 18, 15, \n",
    "                            15, 17, 17, 13, 13, 11,\n",
    "                            12, 10, 12, 14, 12, 12,\n",
    "                            11, 12, 16, 16, 14, 17, 18]"
   ]
  },
  {
   "cell_type": "code",
   "execution_count": 39,
   "metadata": {},
   "outputs": [],
   "source": [
    "temperaturas_diciembre = [10, 10, 13, 14, 12, 15, 12, 11, 13, 17, 18, 15, 15, 17, 17, 13, 13, 11, 12, 10, 12, 14, 12, 12, 11, 12, 16, 16, 14, 17, 18]"
   ]
  },
  {
   "cell_type": "markdown",
   "metadata": {},
   "source": [
    "- Indexación de listas:"
   ]
  },
  {
   "cell_type": "markdown",
   "metadata": {},
   "source": [
    "24. ¿Cuál es el penúltimo día de la semana?"
   ]
  },
  {
   "cell_type": "code",
   "execution_count": 40,
   "metadata": {},
   "outputs": [
    {
     "name": "stdout",
     "output_type": "stream",
     "text": [
      "sunday\n"
     ]
    }
   ],
   "source": [
    "print(dias[-1])"
   ]
  },
  {
   "cell_type": "markdown",
   "metadata": {},
   "source": [
    "25. ¿Cuál es el último elemento de la lista de temperaturas de diciembre?"
   ]
  },
  {
   "cell_type": "code",
   "execution_count": 41,
   "metadata": {},
   "outputs": [
    {
     "name": "stdout",
     "output_type": "stream",
     "text": [
      "18\n"
     ]
    }
   ],
   "source": [
    "print(temperaturas_diciembre[-1])"
   ]
  },
  {
   "cell_type": "markdown",
   "metadata": {},
   "source": [
    "26. ¿Está 'friday' en la lista de días en inglés? Si está, ¿dónde?"
   ]
  },
  {
   "cell_type": "code",
   "execution_count": 42,
   "metadata": {},
   "outputs": [
    {
     "name": "stdout",
     "output_type": "stream",
     "text": [
      "4\n"
     ]
    }
   ],
   "source": [
    "posicion = dias.index (\"friday\")\n",
    "\n",
    "print(posicion)"
   ]
  },
  {
   "cell_type": "markdown",
   "metadata": {},
   "source": [
    "27. ¿Cuál era la temperatura máxima en diciembre?"
   ]
  },
  {
   "cell_type": "code",
   "execution_count": 43,
   "metadata": {},
   "outputs": [
    {
     "name": "stdout",
     "output_type": "stream",
     "text": [
      "La temperatura máxima en diciembre fue: 18\n"
     ]
    }
   ],
   "source": [
    "temperatura_maxima = max(temperaturas_diciembre)\n",
    "\n",
    "print(\"La temperatura máxima en diciembre fue:\", temperatura_maxima)"
   ]
  },
  {
   "cell_type": "markdown",
   "metadata": {},
   "source": [
    "28. Encuentra el índice de 'miércoles' en dias_es."
   ]
  },
  {
   "cell_type": "code",
   "execution_count": 44,
   "metadata": {},
   "outputs": [
    {
     "name": "stdout",
     "output_type": "stream",
     "text": [
      "El índice de 'miércoles' es: 2\n"
     ]
    }
   ],
   "source": [
    "indice_miercoles = dias.index('wednesday')\n",
    "\n",
    "print(\"El índice de 'miércoles' es:\", indice_miercoles)"
   ]
  },
  {
   "cell_type": "markdown",
   "metadata": {},
   "source": [
    "- BONUS:"
   ]
  },
  {
   "cell_type": "markdown",
   "metadata": {},
   "source": [
    "29. Imprime esta frase en pantalla: 'La temperatura máxima esta semana será 14 ºC, que ocurrirá en 1 días(s). El día más frío tendrá una temperatura máxima de 10 ºC, que ocurrirá en 2 día(s).'"
   ]
  },
  {
   "cell_type": "code",
   "execution_count": 45,
   "metadata": {},
   "outputs": [
    {
     "name": "stdout",
     "output_type": "stream",
     "text": [
      "La temperatura máxima esta semana será 14 ºC, que ocurrirá en 1 días(s). El día más frío tendrá una temperatura máxima de 10 ºC, que ocurrirá en 2 día(s).\n"
     ]
    }
   ],
   "source": [
    "print('La temperatura máxima esta semana será 14 ºC, que ocurrirá en 1 días(s). El día más frío tendrá una temperatura máxima de 10 ºC, que ocurrirá en 2 día(s).')"
   ]
  }
 ],
 "metadata": {
  "kernelspec": {
   "display_name": "Python 3",
   "language": "python",
   "name": "python3"
  },
  "language_info": {
   "codemirror_mode": {
    "name": "ipython",
    "version": 3
   },
   "file_extension": ".py",
   "mimetype": "text/x-python",
   "name": "python",
   "nbconvert_exporter": "python",
   "pygments_lexer": "ipython3",
   "version": "3.11.9"
  }
 },
 "nbformat": 4,
 "nbformat_minor": 2
}
