{
 "cells": [
  {
   "cell_type": "markdown",
   "metadata": {},
   "source": [
    "EJERCICIOS DE VISUALIZACIÓN"
   ]
  },
  {
   "cell_type": "markdown",
   "metadata": {},
   "source": [
    "Utilizando el conjunto de datos que terminamos de limpiar ayer, contesta a las siguientes preguntas utilizando la visualización más apropiada. "
   ]
  },
  {
   "cell_type": "code",
   "execution_count": 2,
   "metadata": {},
   "outputs": [
    {
     "name": "stdout",
     "output_type": "stream",
     "text": [
      "Requirement already satisfied: matplotlib in /home/admin_diana/anaconda3/lib/python3.9/site-packages (3.4.3)\n",
      "Requirement already satisfied: numpy>=1.16 in /home/admin_diana/anaconda3/lib/python3.9/site-packages (from matplotlib) (1.20.3)\n",
      "Requirement already satisfied: python-dateutil>=2.7 in /home/admin_diana/anaconda3/lib/python3.9/site-packages (from matplotlib) (2.8.2)\n",
      "Requirement already satisfied: pillow>=6.2.0 in /home/admin_diana/anaconda3/lib/python3.9/site-packages (from matplotlib) (8.4.0)\n",
      "Requirement already satisfied: cycler>=0.10 in /home/admin_diana/anaconda3/lib/python3.9/site-packages (from matplotlib) (0.10.0)\n",
      "Requirement already satisfied: pyparsing>=2.2.1 in /home/admin_diana/anaconda3/lib/python3.9/site-packages (from matplotlib) (3.0.4)\n",
      "Requirement already satisfied: kiwisolver>=1.0.1 in /home/admin_diana/anaconda3/lib/python3.9/site-packages (from matplotlib) (1.3.1)\n",
      "Requirement already satisfied: six in /home/admin_diana/anaconda3/lib/python3.9/site-packages (from cycler>=0.10->matplotlib) (1.16.0)\n",
      "Requirement already satisfied: seaborn in /home/admin_diana/anaconda3/lib/python3.9/site-packages (0.11.2)\n",
      "Requirement already satisfied: numpy>=1.15 in /home/admin_diana/anaconda3/lib/python3.9/site-packages (from seaborn) (1.20.3)\n",
      "Requirement already satisfied: pandas>=0.23 in /home/admin_diana/anaconda3/lib/python3.9/site-packages (from seaborn) (1.3.4)\n",
      "Requirement already satisfied: matplotlib>=2.2 in /home/admin_diana/anaconda3/lib/python3.9/site-packages (from seaborn) (3.4.3)\n",
      "Requirement already satisfied: scipy>=1.0 in /home/admin_diana/anaconda3/lib/python3.9/site-packages (from seaborn) (1.7.1)\n",
      "Requirement already satisfied: kiwisolver>=1.0.1 in /home/admin_diana/anaconda3/lib/python3.9/site-packages (from matplotlib>=2.2->seaborn) (1.3.1)\n",
      "Requirement already satisfied: cycler>=0.10 in /home/admin_diana/anaconda3/lib/python3.9/site-packages (from matplotlib>=2.2->seaborn) (0.10.0)\n",
      "Requirement already satisfied: python-dateutil>=2.7 in /home/admin_diana/anaconda3/lib/python3.9/site-packages (from matplotlib>=2.2->seaborn) (2.8.2)\n",
      "Requirement already satisfied: pillow>=6.2.0 in /home/admin_diana/anaconda3/lib/python3.9/site-packages (from matplotlib>=2.2->seaborn) (8.4.0)\n",
      "Requirement already satisfied: pyparsing>=2.2.1 in /home/admin_diana/anaconda3/lib/python3.9/site-packages (from matplotlib>=2.2->seaborn) (3.0.4)\n",
      "Requirement already satisfied: six in /home/admin_diana/anaconda3/lib/python3.9/site-packages (from cycler>=0.10->matplotlib>=2.2->seaborn) (1.16.0)\n",
      "Requirement already satisfied: pytz>=2017.3 in /home/admin_diana/anaconda3/lib/python3.9/site-packages (from pandas>=0.23->seaborn) (2021.3)\n"
     ]
    }
   ],
   "source": [
    "!pip install matplotlib\n",
    "!pip install seaborn"
   ]
  },
  {
   "cell_type": "code",
   "execution_count": 3,
   "metadata": {},
   "outputs": [],
   "source": [
    "import pandas as pd\n",
    "\n",
    "import matplotlib.pyplot as plt\n",
    "import seaborn as sns\n",
    "\n",
    "pd.set_option('display.max_columns', None)"
   ]
  },
  {
   "cell_type": "code",
   "execution_count": 4,
   "metadata": {},
   "outputs": [
    {
     "data": {
      "text/html": [
       "<div>\n",
       "<style scoped>\n",
       "    .dataframe tbody tr th:only-of-type {\n",
       "        vertical-align: middle;\n",
       "    }\n",
       "\n",
       "    .dataframe tbody tr th {\n",
       "        vertical-align: top;\n",
       "    }\n",
       "\n",
       "    .dataframe thead th {\n",
       "        text-align: right;\n",
       "    }\n",
       "</style>\n",
       "<table border=\"1\" class=\"dataframe\">\n",
       "  <thead>\n",
       "    <tr style=\"text-align: right;\">\n",
       "      <th></th>\n",
       "      <th>title</th>\n",
       "      <th>price</th>\n",
       "      <th>retail_price</th>\n",
       "      <th>units_sold</th>\n",
       "      <th>uses_ad_boosts</th>\n",
       "      <th>rating_sold</th>\n",
       "      <th>rating_count</th>\n",
       "      <th>rating_five_count</th>\n",
       "      <th>rating_four_count</th>\n",
       "      <th>rating_three_count</th>\n",
       "      <th>rating_two_count</th>\n",
       "      <th>rating_one_count</th>\n",
       "      <th>badge_local_product</th>\n",
       "      <th>badge_product_quality</th>\n",
       "      <th>badge_fast_shipping</th>\n",
       "      <th>tags</th>\n",
       "      <th>product_color</th>\n",
       "      <th>product_variation_size_id</th>\n",
       "      <th>shipping_option_name</th>\n",
       "      <th>shipping_option_price</th>\n",
       "      <th>shipping_is_express</th>\n",
       "      <th>countries_shipped_to</th>\n",
       "      <th>inventory_total</th>\n",
       "      <th>origin_country</th>\n",
       "      <th>merchant_name</th>\n",
       "      <th>merchant_info_subtitle</th>\n",
       "      <th>merchant_rating_count</th>\n",
       "      <th>merchant_id</th>\n",
       "      <th>product_url</th>\n",
       "      <th>product_id</th>\n",
       "      <th>listed_products</th>\n",
       "      <th>total_units_sold</th>\n",
       "      <th>mean_units_sold_per_product</th>\n",
       "      <th>rating_employee</th>\n",
       "      <th>merchant_ratings_count</th>\n",
       "      <th>mean_product_prices</th>\n",
       "      <th>mean_retail_prices</th>\n",
       "      <th>mean_product_ratings_count</th>\n",
       "      <th>discount_percentage</th>\n",
       "      <th>seller_reputation</th>\n",
       "    </tr>\n",
       "  </thead>\n",
       "  <tbody>\n",
       "    <tr>\n",
       "      <th>1</th>\n",
       "      <td>SSHOUSE Summer Casual Sleeveless Soirée Party ...</td>\n",
       "      <td>8.00</td>\n",
       "      <td>22</td>\n",
       "      <td>20000</td>\n",
       "      <td>Si</td>\n",
       "      <td>3.45</td>\n",
       "      <td>6135</td>\n",
       "      <td>2269.0</td>\n",
       "      <td>1027.0</td>\n",
       "      <td>1118.0</td>\n",
       "      <td>644.0</td>\n",
       "      <td>1077.0</td>\n",
       "      <td>No</td>\n",
       "      <td>Buena</td>\n",
       "      <td>No</td>\n",
       "      <td>Mini,womens dresses,Summer,Patchwork,fashion d...</td>\n",
       "      <td>green</td>\n",
       "      <td>XS</td>\n",
       "      <td>Livraison standard</td>\n",
       "      <td>2</td>\n",
       "      <td>No</td>\n",
       "      <td>41</td>\n",
       "      <td>50</td>\n",
       "      <td>CN</td>\n",
       "      <td>sarahouse</td>\n",
       "      <td>83 % avis positifs</td>\n",
       "      <td>17752</td>\n",
       "      <td>56458aa03a698c35c9050988</td>\n",
       "      <td>https://www.wish.com/c/58940d436a0d3d5da4e95a38</td>\n",
       "      <td>58940d436a0d3d5da4e95a38</td>\n",
       "      <td>6</td>\n",
       "      <td>21400</td>\n",
       "      <td>3567.0</td>\n",
       "      <td>3.9</td>\n",
       "      <td>17752.0</td>\n",
       "      <td>5.68</td>\n",
       "      <td>10.33</td>\n",
       "      <td>1057.0</td>\n",
       "      <td>1400.0</td>\n",
       "      <td>Regular</td>\n",
       "    </tr>\n",
       "    <tr>\n",
       "      <th>2</th>\n",
       "      <td>Nouvelle mode d'été femmes robe décontractée c...</td>\n",
       "      <td>4.90</td>\n",
       "      <td>8</td>\n",
       "      <td>1000</td>\n",
       "      <td>Si</td>\n",
       "      <td>3.83</td>\n",
       "      <td>99</td>\n",
       "      <td>43.0</td>\n",
       "      <td>18.0</td>\n",
       "      <td>23.0</td>\n",
       "      <td>8.0</td>\n",
       "      <td>7.0</td>\n",
       "      <td>No</td>\n",
       "      <td>Buena</td>\n",
       "      <td>No</td>\n",
       "      <td>Summer,Fashion,Necks,Beach,Dress,Loose,beach d...</td>\n",
       "      <td>white</td>\n",
       "      <td>XXS</td>\n",
       "      <td>Livraison standard</td>\n",
       "      <td>1</td>\n",
       "      <td>No</td>\n",
       "      <td>41</td>\n",
       "      <td>50</td>\n",
       "      <td>CN</td>\n",
       "      <td>sarahouse</td>\n",
       "      <td>83 % avis positifs</td>\n",
       "      <td>17752</td>\n",
       "      <td>56458aa03a698c35c9050988</td>\n",
       "      <td>https://www.wish.com/c/5df2576d68963c1660471f9a</td>\n",
       "      <td>5df2576d68963c1660471f9a</td>\n",
       "      <td>6</td>\n",
       "      <td>21400</td>\n",
       "      <td>3567.0</td>\n",
       "      <td>3.9</td>\n",
       "      <td>17752.0</td>\n",
       "      <td>5.68</td>\n",
       "      <td>10.33</td>\n",
       "      <td>1057.0</td>\n",
       "      <td>310.0</td>\n",
       "      <td>Regular</td>\n",
       "    </tr>\n",
       "    <tr>\n",
       "      <th>3</th>\n",
       "      <td>Summer Women s Fashion Lace Up Tie Pants Plus...</td>\n",
       "      <td>4.93</td>\n",
       "      <td>6</td>\n",
       "      <td>100</td>\n",
       "      <td>No</td>\n",
       "      <td>3.77</td>\n",
       "      <td>47</td>\n",
       "      <td>22.0</td>\n",
       "      <td>7.0</td>\n",
       "      <td>8.0</td>\n",
       "      <td>5.0</td>\n",
       "      <td>5.0</td>\n",
       "      <td>No</td>\n",
       "      <td>Buena</td>\n",
       "      <td>No</td>\n",
       "      <td>Summer,Shorts,Lace,pants,Waist,Short pants,Yel...</td>\n",
       "      <td>red</td>\n",
       "      <td>S</td>\n",
       "      <td>Standard Shipping</td>\n",
       "      <td>1</td>\n",
       "      <td>No</td>\n",
       "      <td>41</td>\n",
       "      <td>50</td>\n",
       "      <td>CN</td>\n",
       "      <td>sarahouse</td>\n",
       "      <td>83% Positive Feedback</td>\n",
       "      <td>17752</td>\n",
       "      <td>56458aa03a698c35c9050988</td>\n",
       "      <td>https://www.wish.com/c/5d58daef3159a812b05933d2</td>\n",
       "      <td>5d58daef3159a812b05933d2</td>\n",
       "      <td>6</td>\n",
       "      <td>21400</td>\n",
       "      <td>3567.0</td>\n",
       "      <td>3.9</td>\n",
       "      <td>17752.0</td>\n",
       "      <td>5.68</td>\n",
       "      <td>10.33</td>\n",
       "      <td>1057.0</td>\n",
       "      <td>107.0</td>\n",
       "      <td>Regular</td>\n",
       "    </tr>\n",
       "    <tr>\n",
       "      <th>4</th>\n",
       "      <td>Nouvelle mode d'été femmes robe décontractée c...</td>\n",
       "      <td>5.65</td>\n",
       "      <td>10</td>\n",
       "      <td>100</td>\n",
       "      <td>Si</td>\n",
       "      <td>2.86</td>\n",
       "      <td>7</td>\n",
       "      <td>1.0</td>\n",
       "      <td>1.0</td>\n",
       "      <td>2.0</td>\n",
       "      <td>2.0</td>\n",
       "      <td>1.0</td>\n",
       "      <td>No</td>\n",
       "      <td>Buena</td>\n",
       "      <td>No</td>\n",
       "      <td>Summer,Fashion,Necks,Skirts,Dress,Loose,Women'...</td>\n",
       "      <td>black</td>\n",
       "      <td>XXS</td>\n",
       "      <td>Livraison standard</td>\n",
       "      <td>1</td>\n",
       "      <td>No</td>\n",
       "      <td>41</td>\n",
       "      <td>50</td>\n",
       "      <td>CN</td>\n",
       "      <td>sarahouse</td>\n",
       "      <td>83 % avis positifs</td>\n",
       "      <td>17752</td>\n",
       "      <td>56458aa03a698c35c9050988</td>\n",
       "      <td>https://www.wish.com/c/5e9fa7de39682a0043ab7898</td>\n",
       "      <td>5e9fa7de39682a0043ab7898</td>\n",
       "      <td>6</td>\n",
       "      <td>21400</td>\n",
       "      <td>3567.0</td>\n",
       "      <td>3.9</td>\n",
       "      <td>17752.0</td>\n",
       "      <td>5.68</td>\n",
       "      <td>10.33</td>\n",
       "      <td>1057.0</td>\n",
       "      <td>435.0</td>\n",
       "      <td>Regular</td>\n",
       "    </tr>\n",
       "    <tr>\n",
       "      <th>5</th>\n",
       "      <td>Nouvelle mode d'été femmes robe décontractée c...</td>\n",
       "      <td>5.65</td>\n",
       "      <td>10</td>\n",
       "      <td>100</td>\n",
       "      <td>Si</td>\n",
       "      <td>2.86</td>\n",
       "      <td>7</td>\n",
       "      <td>1.0</td>\n",
       "      <td>1.0</td>\n",
       "      <td>2.0</td>\n",
       "      <td>2.0</td>\n",
       "      <td>1.0</td>\n",
       "      <td>No</td>\n",
       "      <td>Buena</td>\n",
       "      <td>No</td>\n",
       "      <td>Summer,Fashion,Necks,Skirts,Dress,Loose,Women'...</td>\n",
       "      <td>black</td>\n",
       "      <td>XXS</td>\n",
       "      <td>Livraison standard</td>\n",
       "      <td>1</td>\n",
       "      <td>No</td>\n",
       "      <td>41</td>\n",
       "      <td>50</td>\n",
       "      <td>CN</td>\n",
       "      <td>sarahouse</td>\n",
       "      <td>83 % avis positifs</td>\n",
       "      <td>17752</td>\n",
       "      <td>56458aa03a698c35c9050988</td>\n",
       "      <td>https://www.wish.com/c/5e9fa7de39682a0043ab7898</td>\n",
       "      <td>5e9fa7de39682a0043ab7898</td>\n",
       "      <td>6</td>\n",
       "      <td>21400</td>\n",
       "      <td>3567.0</td>\n",
       "      <td>3.9</td>\n",
       "      <td>17752.0</td>\n",
       "      <td>5.68</td>\n",
       "      <td>10.33</td>\n",
       "      <td>1057.0</td>\n",
       "      <td>435.0</td>\n",
       "      <td>Regular</td>\n",
       "    </tr>\n",
       "  </tbody>\n",
       "</table>\n",
       "</div>"
      ],
      "text/plain": [
       "                                               title  price  retail_price  \\\n",
       "1  SSHOUSE Summer Casual Sleeveless Soirée Party ...   8.00            22   \n",
       "2  Nouvelle mode d'été femmes robe décontractée c...   4.90             8   \n",
       "3   Summer Women s Fashion Lace Up Tie Pants Plus...   4.93             6   \n",
       "4  Nouvelle mode d'été femmes robe décontractée c...   5.65            10   \n",
       "5  Nouvelle mode d'été femmes robe décontractée c...   5.65            10   \n",
       "\n",
       "   units_sold uses_ad_boosts  rating_sold  rating_count  rating_five_count  \\\n",
       "1       20000             Si         3.45          6135             2269.0   \n",
       "2        1000             Si         3.83            99               43.0   \n",
       "3         100             No         3.77            47               22.0   \n",
       "4         100             Si         2.86             7                1.0   \n",
       "5         100             Si         2.86             7                1.0   \n",
       "\n",
       "   rating_four_count  rating_three_count  rating_two_count  rating_one_count  \\\n",
       "1             1027.0              1118.0             644.0            1077.0   \n",
       "2               18.0                23.0               8.0               7.0   \n",
       "3                7.0                 8.0               5.0               5.0   \n",
       "4                1.0                 2.0               2.0               1.0   \n",
       "5                1.0                 2.0               2.0               1.0   \n",
       "\n",
       "  badge_local_product badge_product_quality badge_fast_shipping  \\\n",
       "1                  No                 Buena                  No   \n",
       "2                  No                 Buena                  No   \n",
       "3                  No                 Buena                  No   \n",
       "4                  No                 Buena                  No   \n",
       "5                  No                 Buena                  No   \n",
       "\n",
       "                                                tags product_color  \\\n",
       "1  Mini,womens dresses,Summer,Patchwork,fashion d...         green   \n",
       "2  Summer,Fashion,Necks,Beach,Dress,Loose,beach d...         white   \n",
       "3  Summer,Shorts,Lace,pants,Waist,Short pants,Yel...           red   \n",
       "4  Summer,Fashion,Necks,Skirts,Dress,Loose,Women'...         black   \n",
       "5  Summer,Fashion,Necks,Skirts,Dress,Loose,Women'...         black   \n",
       "\n",
       "  product_variation_size_id shipping_option_name  shipping_option_price  \\\n",
       "1                        XS   Livraison standard                      2   \n",
       "2                       XXS   Livraison standard                      1   \n",
       "3                         S    Standard Shipping                      1   \n",
       "4                       XXS   Livraison standard                      1   \n",
       "5                       XXS   Livraison standard                      1   \n",
       "\n",
       "  shipping_is_express  countries_shipped_to  inventory_total origin_country  \\\n",
       "1                  No                    41               50             CN   \n",
       "2                  No                    41               50             CN   \n",
       "3                  No                    41               50             CN   \n",
       "4                  No                    41               50             CN   \n",
       "5                  No                    41               50             CN   \n",
       "\n",
       "  merchant_name  merchant_info_subtitle  merchant_rating_count  \\\n",
       "1     sarahouse     83 % avis positifs                   17752   \n",
       "2     sarahouse     83 % avis positifs                   17752   \n",
       "3     sarahouse  83% Positive Feedback                   17752   \n",
       "4     sarahouse     83 % avis positifs                   17752   \n",
       "5     sarahouse     83 % avis positifs                   17752   \n",
       "\n",
       "                merchant_id                                      product_url  \\\n",
       "1  56458aa03a698c35c9050988  https://www.wish.com/c/58940d436a0d3d5da4e95a38   \n",
       "2  56458aa03a698c35c9050988  https://www.wish.com/c/5df2576d68963c1660471f9a   \n",
       "3  56458aa03a698c35c9050988  https://www.wish.com/c/5d58daef3159a812b05933d2   \n",
       "4  56458aa03a698c35c9050988  https://www.wish.com/c/5e9fa7de39682a0043ab7898   \n",
       "5  56458aa03a698c35c9050988  https://www.wish.com/c/5e9fa7de39682a0043ab7898   \n",
       "\n",
       "                 product_id  listed_products  total_units_sold  \\\n",
       "1  58940d436a0d3d5da4e95a38                6             21400   \n",
       "2  5df2576d68963c1660471f9a                6             21400   \n",
       "3  5d58daef3159a812b05933d2                6             21400   \n",
       "4  5e9fa7de39682a0043ab7898                6             21400   \n",
       "5  5e9fa7de39682a0043ab7898                6             21400   \n",
       "\n",
       "   mean_units_sold_per_product  rating_employee  merchant_ratings_count  \\\n",
       "1                       3567.0              3.9                 17752.0   \n",
       "2                       3567.0              3.9                 17752.0   \n",
       "3                       3567.0              3.9                 17752.0   \n",
       "4                       3567.0              3.9                 17752.0   \n",
       "5                       3567.0              3.9                 17752.0   \n",
       "\n",
       "   mean_product_prices  mean_retail_prices  mean_product_ratings_count  \\\n",
       "1                 5.68               10.33                      1057.0   \n",
       "2                 5.68               10.33                      1057.0   \n",
       "3                 5.68               10.33                      1057.0   \n",
       "4                 5.68               10.33                      1057.0   \n",
       "5                 5.68               10.33                      1057.0   \n",
       "\n",
       "   discount_percentage seller_reputation  \n",
       "1               1400.0           Regular  \n",
       "2                310.0           Regular  \n",
       "3                107.0           Regular  \n",
       "4                435.0           Regular  \n",
       "5                435.0           Regular  "
      ]
     },
     "execution_count": 4,
     "metadata": {},
     "output_type": "execute_result"
    }
   ],
   "source": [
    "df = pd.read_csv(\"rating_insights2.csv\", index_col=0) \n",
    "\n",
    "df.head()"
   ]
  },
  {
   "cell_type": "markdown",
   "metadata": {},
   "source": [
    "1.  ¿Cómo se distribuyen los precios de los productos?"
   ]
  },
  {
   "cell_type": "code",
   "execution_count": 5,
   "metadata": {},
   "outputs": [
    {
     "data": {
      "image/png": "[encoded data removed]",
      "text/plain": [
       "<Figure size 432x288 with 1 Axes>"
      ]
     },
     "metadata": {
      "needs_background": "light"
     },
     "output_type": "display_data"
    }
   ],
   "source": [
    "sns.histplot(x = \"price\", data = df, color = \"violet\")\n",
    "\n",
    "plt.xlabel(\"Precio\")\n",
    "plt.ylabel(\"Conteo\")\n",
    "\n",
    "plt.title(\"Distribución de precios\");"
   ]
  },
  {
   "cell_type": "markdown",
   "metadata": {},
   "source": [
    "2. ¿Cuál es la relación entre el precio y la calificación promedio de los productos? "
   ]
  },
  {
   "cell_type": "code",
   "execution_count": 86,
   "metadata": {},
   "outputs": [
    {
     "data": {
      "image/png": "[encoded data removed]",
      "text/plain": [
       "<Figure size 432x288 with 1 Axes>"
      ]
     },
     "metadata": {
      "needs_background": "light"
     },
     "output_type": "display_data"
    }
   ],
   "source": [
    "sns.scatterplot(x = \"price\", y = \"mean_product_ratings_count\", data = df)\n",
    "\n",
    "plt.xlabel(\"Precio\")\n",
    "plt.ylabel(\"Calificación promedio\")\n",
    "\n",
    "plt.title(\"Relación entre el precio y su calificación media\");"
   ]
  },
  {
   "cell_type": "markdown",
   "metadata": {},
   "source": [
    "3. ¿Qué porcentaje de productos tiene el distintivo \"Producto local\"?"
   ]
  },
  {
   "cell_type": "code",
   "execution_count": 63,
   "metadata": {},
   "outputs": [
    {
     "data": {
      "text/html": [
       "<div>\n",
       "<style scoped>\n",
       "    .dataframe tbody tr th:only-of-type {\n",
       "        vertical-align: middle;\n",
       "    }\n",
       "\n",
       "    .dataframe tbody tr th {\n",
       "        vertical-align: top;\n",
       "    }\n",
       "\n",
       "    .dataframe thead th {\n",
       "        text-align: right;\n",
       "    }\n",
       "</style>\n",
       "<table border=\"1\" class=\"dataframe\">\n",
       "  <thead>\n",
       "    <tr style=\"text-align: right;\">\n",
       "      <th></th>\n",
       "      <th>badge_local_product</th>\n",
       "      <th>count</th>\n",
       "    </tr>\n",
       "  </thead>\n",
       "  <tbody>\n",
       "    <tr>\n",
       "      <th>0</th>\n",
       "      <td>No</td>\n",
       "      <td>1168</td>\n",
       "    </tr>\n",
       "    <tr>\n",
       "      <th>1</th>\n",
       "      <td>Si</td>\n",
       "      <td>17</td>\n",
       "    </tr>\n",
       "  </tbody>\n",
       "</table>\n",
       "</div>"
      ],
      "text/plain": [
       "  badge_local_product  count\n",
       "0                  No   1168\n",
       "1                  Si     17"
      ]
     },
     "execution_count": 63,
     "metadata": {},
     "output_type": "execute_result"
    }
   ],
   "source": [
    "porcentaje = df[\"badge_local_product\"].value_counts().reset_index()\n",
    "\n",
    "# Renombramos las columnas\n",
    "porcentaje.columns = [\"badge_local_product\", \"count\"]\n",
    "\n",
    "porcentaje"
   ]
  },
  {
   "cell_type": "code",
   "execution_count": 70,
   "metadata": {},
   "outputs": [
    {
     "data": {
      "image/png": "[encoded data removed]",
      "text/plain": [
       "<Figure size 576x432 with 1 Axes>"
      ]
     },
     "metadata": {},
     "output_type": "display_data"
    }
   ],
   "source": [
    "fig, ax = plt.subplots(figsize=(8, 6))\n",
    "\n",
    "ax.pie(porcentaje[\"count\"], \n",
    "       labels=porcentaje[\"badge_local_product\"], \n",
    "       autopct=\"%1.1f%%\", \n",
    "       colors=[\"pink\", \"purple\"])\n",
    "\n",
    "# Establecemos el fondo en blanco\n",
    "fig.patch.set_facecolor(\"white\");"
   ]
  },
  {
   "cell_type": "markdown",
   "metadata": {},
   "source": [
    "4.  ¿Qué porcentaje de productos tiene el distintivo \"Buena calidad del producto\"."
   ]
  },
  {
   "cell_type": "code",
   "execution_count": 56,
   "metadata": {},
   "outputs": [
    {
     "data": {
      "text/html": [
       "<div>\n",
       "<style scoped>\n",
       "    .dataframe tbody tr th:only-of-type {\n",
       "        vertical-align: middle;\n",
       "    }\n",
       "\n",
       "    .dataframe tbody tr th {\n",
       "        vertical-align: top;\n",
       "    }\n",
       "\n",
       "    .dataframe thead th {\n",
       "        text-align: right;\n",
       "    }\n",
       "</style>\n",
       "<table border=\"1\" class=\"dataframe\">\n",
       "  <thead>\n",
       "    <tr style=\"text-align: right;\">\n",
       "      <th></th>\n",
       "      <th>badge_product_quality</th>\n",
       "      <th>count</th>\n",
       "    </tr>\n",
       "  </thead>\n",
       "  <tbody>\n",
       "    <tr>\n",
       "      <th>0</th>\n",
       "      <td>Buena</td>\n",
       "      <td>1093</td>\n",
       "    </tr>\n",
       "    <tr>\n",
       "      <th>1</th>\n",
       "      <td>Excelente</td>\n",
       "      <td>92</td>\n",
       "    </tr>\n",
       "  </tbody>\n",
       "</table>\n",
       "</div>"
      ],
      "text/plain": [
       "  badge_product_quality  count\n",
       "0                 Buena   1093\n",
       "1             Excelente     92"
      ]
     },
     "execution_count": 56,
     "metadata": {},
     "output_type": "execute_result"
    }
   ],
   "source": [
    "calidad = df[\"badge_product_quality\"].value_counts().reset_index()\n",
    "calidad.columns = [\"badge_product_quality\", \"count\"]\n",
    "\n",
    "calidad"
   ]
  },
  {
   "cell_type": "code",
   "execution_count": 61,
   "metadata": {},
   "outputs": [
    {
     "data": {
      "image/png": "[encoded data removed]",
      "text/plain": [
       "<Figure size 576x432 with 1 Axes>"
      ]
     },
     "metadata": {},
     "output_type": "display_data"
    }
   ],
   "source": [
    "fig, ax = plt.subplots(figsize=(8, 6))\n",
    "\n",
    "plt.pie(calidad[\"count\"], \n",
    "        labels = calidad[\"badge_product_quality\"], \n",
    "        autopct = \"%1.1f%%\", \n",
    "        colors = [\"turquoise\", \"blue\"]);\n",
    "\n",
    "# Establecemos el fondo en blanco\n",
    "fig.patch.set_facecolor(\"white\")"
   ]
  },
  {
   "cell_type": "markdown",
   "metadata": {},
   "source": [
    "5.  ¿Cómo se distribuyen los precios de los productos en función de si se utilizan anuncios promocionales (`uses_ad_boosts`) o no?"
   ]
  },
  {
   "cell_type": "code",
   "execution_count": 85,
   "metadata": {},
   "outputs": [
    {
     "data": {
      "image/png": "[encoded data removed]",
      "text/plain": [
       "<Figure size 432x288 with 1 Axes>"
      ]
     },
     "metadata": {
      "needs_background": "light"
     },
     "output_type": "display_data"
    }
   ],
   "source": [
    "sns.histplot(x = \"price\", hue = \"uses_ad_boosts\", data = df)\n",
    "\n",
    "plt.xlabel(\"Precio\")\n",
    "plt.ylabel(\"Conteo\")\n",
    "\n",
    "plt.title(\"Distribución de los precios en función del uso de anuncios publicitarios\");"
   ]
  },
  {
   "cell_type": "markdown",
   "metadata": {},
   "source": [
    "6. ¿Existe una relación entre el uso de anuncios y las unidades vendidas? "
   ]
  },
  {
   "cell_type": "code",
   "execution_count": 84,
   "metadata": {},
   "outputs": [
    {
     "data": {
      "image/png": "[encoded data removed]",
      "text/plain": [
       "<Figure size 432x288 with 1 Axes>"
      ]
     },
     "metadata": {
      "needs_background": "light"
     },
     "output_type": "display_data"
    }
   ],
   "source": [
    "sns.histplot(x = \"mean_units_sold_per_product\", hue = \"uses_ad_boosts\", data = df, bins = 20)\n",
    "\n",
    "plt.xlabel(\"Precio\")\n",
    "plt.ylabel(\"Conteo\")\n",
    "\n",
    "plt.title(\"Relación entre el uso de anuncios y las unidades vendidas\");"
   ]
  },
  {
   "cell_type": "markdown",
   "metadata": {},
   "source": [
    "7. ¿Cuál es la distribución de las calificaciones de los empleados (`rating_employee`) para los productos que tienen el distintivo \"Buena calidad del producto\" (`badge_product_quality`) y para los que no lo tienen? Haced que las dos gráficas tengan la misma escala en los dos ejes. "
   ]
  },
  {
   "cell_type": "code",
   "execution_count": 74,
   "metadata": {},
   "outputs": [],
   "source": [
    "producto_bueno = df[df[\"badge_product_quality\"] == \"Buena\"]\n",
    "producto_excelente = df[df[\"badge_product_quality\"] == \"Excelente\"]"
   ]
  },
  {
   "cell_type": "code",
   "execution_count": 96,
   "metadata": {},
   "outputs": [
    {
     "data": {
      "image/png": "[encoded data removed]",
      "text/plain": [
       "<Figure size 1440x360 with 2 Axes>"
      ]
     },
     "metadata": {
      "needs_background": "light"
     },
     "output_type": "display_data"
    }
   ],
   "source": [
    "fig, axes = plt.subplots(nrows = 2, ncols = 1, figsize = (20, 5), sharex= True)\n",
    "\n",
    "sns.histplot(x = \"rating_employee\",\n",
    "            data = producto_bueno,\n",
    "            ax = axes[0],\n",
    "            color = \"orange\")\n",
    "\n",
    "sns.histplot(x = \"rating_employee\",\n",
    "            data = producto_excelente,\n",
    "            ax = axes[1],\n",
    "            color = \"green\")\n",
    "\n",
    "axes[1].set_ylim([0, 125])\n",
    "\n",
    "plt.xlabel(\"Calificación de los empleados\")\n",
    "axes[0].set_ylabel(\"Calidad del producto\")\n",
    "axes[1].set_ylabel(\"Calidad del producto\");"
   ]
  },
  {
   "cell_type": "markdown",
   "metadata": {},
   "source": [
    "8. ¿Qué países reciben más productos de este conjunto de datos? Muestra un gráfico de barras horizontales."
   ]
  },
  {
   "cell_type": "code",
   "execution_count": 98,
   "metadata": {},
   "outputs": [
    {
     "data": {
      "image/png": "[encoded data removed]",
      "text/plain": [
       "<Figure size 432x288 with 1 Axes>"
      ]
     },
     "metadata": {
      "needs_background": "light"
     },
     "output_type": "display_data"
    }
   ],
   "source": [
    "sns.countplot(y = \"origin_country\", data = df)\n",
    "\n",
    "plt.xlabel(\"Conteo\");\n",
    "plt.ylabel(\"País de origen\")\n",
    "\n",
    "plt.title(\"Distribución de los productos según el país de origen\");"
   ]
  },
  {
   "cell_type": "markdown",
   "metadata": {},
   "source": [
    "9. ¿Cómo varía el precio promedio de los productos por país de origen?"
   ]
  },
  {
   "cell_type": "code",
   "execution_count": 102,
   "metadata": {},
   "outputs": [
    {
     "data": {
      "image/png": "[encoded data removed]",
      "text/plain": [
       "<Figure size 432x288 with 1 Axes>"
      ]
     },
     "metadata": {
      "needs_background": "light"
     },
     "output_type": "display_data"
    }
   ],
   "source": [
    "promedio_precio = df.groupby(\"origin_country\")[\"price\"].mean().reset_index()\n",
    "\n",
    "sns.scatterplot(x = \"origin_country\",\n",
    "                y = \"price\",\n",
    "                data = promedio_precio,\n",
    "                color = \"red\")\n",
    "\n",
    "plt.xlabel(\"País de origen\");\n",
    "plt.ylabel(\"Precio\")\n",
    "\n",
    "plt.title(\"Relación entre el precio promedio de los productos y el país de origen\");"
   ]
  },
  {
   "cell_type": "markdown",
   "metadata": {},
   "source": [
    "10. ¿Cuál es la relación entre el precio de envío y las unidades vendidas?"
   ]
  },
  {
   "cell_type": "code",
   "execution_count": 106,
   "metadata": {},
   "outputs": [
    {
     "data": {
      "image/png": "[encoded data removed]",
      "text/plain": [
       "<Figure size 432x288 with 1 Axes>"
      ]
     },
     "metadata": {
      "needs_background": "light"
     },
     "output_type": "display_data"
    }
   ],
   "source": [
    "sns.scatterplot(x = \"retail_price\", \n",
    "                y = \"units_sold\", \n",
    "                data = df,\n",
    "                color = \"brown\")\n",
    "\n",
    "plt.xlabel(\"Precio de envío\")\n",
    "plt.ylabel(\"Unidades vendidas\")\n",
    "\n",
    "plt.title(\"Relación entre el precio de envío y las unidades vendidas\");"
   ]
  },
  {
   "cell_type": "markdown",
   "metadata": {},
   "source": [
    "11. Compara diferentes distribuciones de precios de productos en función de si tienen el distintivo \"Producto local\" o \"Buena calidad del producto\". Tendréis que crear dos gráficas en un subplot, en la primera poner los precios de los productos locales (\"badge_local_product\")."
   ]
  },
  {
   "cell_type": "code",
   "execution_count": 118,
   "metadata": {},
   "outputs": [
    {
     "data": {
      "image/png": "[encoded data removed]",
      "text/plain": [
       "<Figure size 864x360 with 2 Axes>"
      ]
     },
     "metadata": {
      "needs_background": "light"
     },
     "output_type": "display_data"
    }
   ],
   "source": [
    "producto_local = df[df[\"badge_local_product\"] == \"Si\"]\n",
    "\n",
    "calidad_producto = df[df[\"badge_product_quality\"] == \"Buena\"]\n",
    "\n",
    "fig, axes = plt.subplots(nrows=1, ncols=2, figsize=(12, 5))\n",
    "\n",
    "axes[0].hist(producto_local[\"price\"],\n",
    "             bins = 20,\n",
    "             color = \"magenta\",\n",
    "             alpha = 0.7)\n",
    "\n",
    "axes[0].set_title(\"Distribución de precios (Producto Local)\")\n",
    "axes[0].set_xlabel(\"Precio\")\n",
    "axes[0].set_ylabel(\"Frecuencia\")\n",
    "\n",
    "axes[1].hist(calidad_producto[\"price\"],\n",
    "             bins = 20,\n",
    "             color = \"coral\",\n",
    "             alpha = 0.7)\n",
    "\n",
    "axes[1].set_title(\"Distribución de precios (Buena Calidad)\")\n",
    "axes[1].set_xlabel(\"Precio\")\n",
    "axes[1].set_ylabel(\"Frecuencia\")\n",
    "\n",
    "plt.suptitle(\"Comparación de distribuciones de precios\");"
   ]
  }
 ],
 "metadata": {
  "kernelspec": {
   "display_name": "base",
   "language": "python",
   "name": "python3"
  },
  "language_info": {
   "codemirror_mode": {
    "name": "ipython",
    "version": 3
   },
   "file_extension": ".py",
   "mimetype": "text/x-python",
   "name": "python",
   "nbconvert_exporter": "python",
   "pygments_lexer": "ipython3",
   "version": "3.9.7"
  }
 },
 "nbformat": 4,
 "nbformat_minor": 2
}
