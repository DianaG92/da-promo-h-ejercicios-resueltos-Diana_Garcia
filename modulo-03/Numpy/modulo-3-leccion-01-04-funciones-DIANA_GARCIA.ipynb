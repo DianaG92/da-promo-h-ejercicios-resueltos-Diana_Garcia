{
 "cells": [
  {
   "cell_type": "markdown",
   "metadata": {},
   "source": [
    "EJERCICIOS DE FUNCIONES"
   ]
  },
  {
   "cell_type": "markdown",
   "metadata": {},
   "source": [
    "1. En este ejercicio vamos a tratar de usar algunos de los métodos aprendidos. Crea un *array*, puede ser bidimensional, con valores entre 0-100."
   ]
  },
  {
   "cell_type": "code",
   "execution_count": 28,
   "metadata": {},
   "outputs": [
    {
     "name": "stdout",
     "output_type": "stream",
     "text": [
      "El array bidimensional que tenemos es: \n",
      "[[43 17 29 59]\n",
      " [20 39 35 78]\n",
      " [95 17 69 12]]\n"
     ]
    }
   ],
   "source": [
    "import numpy as np\n",
    "\n",
    "array_bidimensional = np.random.randint(1, 100, size = (3, 4))\n",
    "\n",
    "print(f\"El array bidimensional que tenemos es: \\n{array_bidimensional}\")"
   ]
  },
  {
   "cell_type": "markdown",
   "metadata": {},
   "source": [
    "##### Calcula:"
   ]
  },
  {
   "cell_type": "markdown",
   "metadata": {},
   "source": [
    "- La media de los elementos."
   ]
  },
  {
   "cell_type": "code",
   "execution_count": 29,
   "metadata": {},
   "outputs": [
    {
     "name": "stdout",
     "output_type": "stream",
     "text": [
      "El cálculo de la media de todos los elementos del array es: \n",
      "42.75\n"
     ]
    }
   ],
   "source": [
    "media = np.mean(array_bidimensional)\n",
    "\n",
    "print(f\"El cálculo de la media de todos los elementos del array es: \\n{media}\")"
   ]
  },
  {
   "cell_type": "markdown",
   "metadata": {},
   "source": [
    "- La media de las columnas y redondéalo a dos decimales."
   ]
  },
  {
   "cell_type": "code",
   "execution_count": 30,
   "metadata": {},
   "outputs": [
    {
     "name": "stdout",
     "output_type": "stream",
     "text": [
      "La media redondeada de cada columnas del array es: \n",
      "[52.67 24.33 44.33 49.67]\n"
     ]
    }
   ],
   "source": [
    "media_columnas = np.mean(array_bidimensional, axis = 0)\n",
    "\n",
    "media_columnas_redondeada = np.round(media_columnas, decimals=2)\n",
    "\n",
    "print(f\"La media redondeada de cada columnas del array es: \\n{media_columnas_redondeada}\")"
   ]
  },
  {
   "cell_type": "markdown",
   "metadata": {},
   "source": [
    "- El valor máximo de cada fila."
   ]
  },
  {
   "cell_type": "code",
   "execution_count": 31,
   "metadata": {},
   "outputs": [
    {
     "name": "stdout",
     "output_type": "stream",
     "text": [
      "El valor maxixmo de cada fila del array es: \n",
      "[59 78 95]\n"
     ]
    }
   ],
   "source": [
    "maximo_fila = np.max(array_bidimensional, axis = 1)\n",
    "\n",
    "print(f\"El valor maxixmo de cada fila del array es: \\n{maximo_fila}\")"
   ]
  },
  {
   "cell_type": "markdown",
   "metadata": {},
   "source": [
    "  - El valor mínimo de cada fila."
   ]
  },
  {
   "cell_type": "code",
   "execution_count": 32,
   "metadata": {},
   "outputs": [
    {
     "name": "stdout",
     "output_type": "stream",
     "text": [
      "El valor minimo de cada fila del array es: \n",
      "[17 20 12]\n"
     ]
    }
   ],
   "source": [
    "minimo_fila = np.min(array_bidimensional, axis = 1)\n",
    "\n",
    "print(f\"El valor minimo de cada fila del array es: \\n{minimo_fila}\")"
   ]
  },
  {
   "cell_type": "markdown",
   "metadata": {},
   "source": [
    "- Hay algun valor que sea mayor que 90 en tu *array*."
   ]
  },
  {
   "cell_type": "code",
   "execution_count": 33,
   "metadata": {},
   "outputs": [
    {
     "name": "stdout",
     "output_type": "stream",
     "text": [
      "Sí, hay valores mayores que 90 en el array.\n"
     ]
    }
   ],
   "source": [
    "array_bidimensional = np.any(array_bidimensional > 90)\n",
    "\n",
    "if array_bidimensional:\n",
    "    print(\"Sí, hay valores mayores que 90 en el array.\")\n",
    "else:\n",
    "    print(\"No, no hay valores mayores que 90 en el array.\")"
   ]
  },
  {
   "cell_type": "markdown",
   "metadata": {},
   "source": [
    "- Donde los podemos encontrar, cuáles son sus índices."
   ]
  },
  {
   "cell_type": "code",
   "execution_count": 34,
   "metadata": {},
   "outputs": [
    {
     "name": "stdout",
     "output_type": "stream",
     "text": [
      "Los valores mayores que 90 se encuentran en los siguientes índices: (array([], dtype=int64),)\n"
     ]
    }
   ],
   "source": [
    "indices = np.where(array_bidimensional > 90)\n",
    "\n",
    "print(\"Los valores mayores que 90 se encuentran en los siguientes índices:\", indices)"
   ]
  },
  {
   "cell_type": "markdown",
   "metadata": {},
   "source": [
    "- Ordena el *array* de mayor a menor."
   ]
  },
  {
   "cell_type": "code",
   "execution_count": 36,
   "metadata": {},
   "outputs": [
    {
     "name": "stdout",
     "output_type": "stream",
     "text": [
      "El array ordenado por CADA FILA de mayor a menor es: \n",
      " [[85 85 79 30]\n",
      " [68 49 48 32]\n",
      " [69 60 41 28]]\n"
     ]
    }
   ],
   "source": [
    "array_bidimensional = np.random.randint(1, 100, size = (3, 4))\n",
    "\n",
    "array_ordenado_filas = np.sort(array_bidimensional, axis = 1)\n",
    "\n",
    "array_ordenado_filas = array_ordenado_filas[:, ::-1]\n",
    "\n",
    "print(\"El array ordenado por CADA FILA de mayor a menor es: \\n\", array_ordenado_filas)"
   ]
  },
  {
   "cell_type": "code",
   "execution_count": 37,
   "metadata": {},
   "outputs": [
    {
     "name": "stdout",
     "output_type": "stream",
     "text": [
      "El array ordenado por CADA COLUMNA de mayor a menor es: \n",
      " [[83 52 44 85]\n",
      " [78 17 34 40]\n",
      " [77 13 32  5]]\n"
     ]
    }
   ],
   "source": [
    "array_bidimensional = np.random.randint(1, 100, size = (3, 4))\n",
    "\n",
    "array_ordenado_columnas = np.sort(array_bidimensional, axis = 0)\n",
    "\n",
    "array_ordenado_columnas = array_ordenado_columnas[::-1, :]\n",
    "\n",
    "print(\"El array ordenado por CADA COLUMNA de mayor a menor es: \\n\", array_ordenado_columnas)"
   ]
  },
  {
   "cell_type": "markdown",
   "metadata": {},
   "source": [
    "📝 **NOTA** En este ejercicio os hemos pedido algunos de los métodos, pero sentíos libres de practicar otros para ir asentando los conocimientos. "
   ]
  }
 ],
 "metadata": {
  "kernelspec": {
   "display_name": "base",
   "language": "python",
   "name": "python3"
  },
  "language_info": {
   "codemirror_mode": {
    "name": "ipython",
    "version": 3
   },
   "file_extension": ".py",
   "mimetype": "text/x-python",
   "name": "python",
   "nbconvert_exporter": "python",
   "pygments_lexer": "ipython3",
   "version": "3.9.7"
  }
 },
 "nbformat": 4,
 "nbformat_minor": 2
}
