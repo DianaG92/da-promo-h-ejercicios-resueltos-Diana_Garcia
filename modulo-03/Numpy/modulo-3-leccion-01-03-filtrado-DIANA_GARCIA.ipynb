{
 "cells": [
  {
   "cell_type": "markdown",
   "metadata": {},
   "source": [
    "EJERCICIOS DE FILTRADO"
   ]
  },
  {
   "cell_type": "markdown",
   "metadata": {},
   "source": [
    "1. Crea un *array* bidimensional con 20 elementos aleatrorios entre 0 y 50 con el método que prefieras."
   ]
  },
  {
   "cell_type": "code",
   "execution_count": 54,
   "metadata": {},
   "outputs": [
    {
     "name": "stdout",
     "output_type": "stream",
     "text": [
      "El array bidimensional que tenemos es: \n",
      "[[49 37 14 38 11]\n",
      " [16 40 26 15 34]\n",
      " [39 12 33  4  3]\n",
      " [22 11 30  6 41]]\n"
     ]
    }
   ],
   "source": [
    "import numpy as np\n",
    "array1 = np.random.randint(0, 50, size = 20)\n",
    "\n",
    "array_bidimensional = array1.reshape(4, 5)\n",
    "\n",
    "print(f\"El array bidimensional que tenemos es: \\n{array_bidimensional}\")"
   ]
  },
  {
   "cell_type": "markdown",
   "metadata": {},
   "source": [
    "- Crea una mascara o filtro donde los valores mayores a 30 y menores a 10 se reemplace por \"objetivo\" y el resto por \"no es mi objetivo\"."
   ]
  },
  {
   "cell_type": "code",
   "execution_count": 55,
   "metadata": {},
   "outputs": [
    {
     "name": "stdout",
     "output_type": "stream",
     "text": [
      "El resultado del np.where() es: \n",
      " [['objetivo' 'objetivo' 'no es mi objetivo' 'objetivo'\n",
      "  'no es mi objetivo']\n",
      " ['no es mi objetivo' 'objetivo' 'no es mi objetivo' 'no es mi objetivo'\n",
      "  'objetivo']\n",
      " ['objetivo' 'no es mi objetivo' 'objetivo' 'objetivo' 'objetivo']\n",
      " ['no es mi objetivo' 'no es mi objetivo' 'no es mi objetivo' 'objetivo'\n",
      "  'objetivo']]\n"
     ]
    }
   ],
   "source": [
    "resultado_where = np.where((array_bidimensional > 30) | (array_bidimensional < 10), \"objetivo\", \"no es mi objetivo\")\n",
    "\n",
    "print(\"El resultado del np.where() es: \\n\", resultado_where)"
   ]
  },
  {
   "cell_type": "markdown",
   "metadata": {},
   "source": [
    "- Los valores de mi array bidimensional multiplicalos por el escalar 10."
   ]
  },
  {
   "cell_type": "code",
   "execution_count": 56,
   "metadata": {},
   "outputs": [
    {
     "name": "stdout",
     "output_type": "stream",
     "text": [
      "El resultado de la multiplicacion es:\n",
      " [[490 370 140 380 110]\n",
      " [160 400 260 150 340]\n",
      " [390 120 330  40  30]\n",
      " [220 110 300  60 410]]\n"
     ]
    }
   ],
   "source": [
    "escalar = 10\n",
    "\n",
    "multiplicacion = array_bidimensional * escalar\n",
    "\n",
    "print(\"El resultado de la multiplicacion es:\\n\", multiplicacion)"
   ]
  },
  {
   "cell_type": "markdown",
   "metadata": {},
   "source": [
    "2. Crea un nuevo *array* de dos dimensiones con la misma forma que el anterior y con el método que prefieras."
   ]
  },
  {
   "cell_type": "code",
   "execution_count": 57,
   "metadata": {},
   "outputs": [
    {
     "name": "stdout",
     "output_type": "stream",
     "text": [
      "El array bidimensional que tenemos es: \n",
      "[[2 3 3 3 2]\n",
      " [1 2 4 1 4]\n",
      " [4 3 4 1 2]\n",
      " [3 1 3 4 2]]\n"
     ]
    }
   ],
   "source": [
    "array2 = np.random.randint(1, 5, size = 20)\n",
    "\n",
    "array_bidimensional = array2.reshape(4, 5)\n",
    "\n",
    "print(f\"El array bidimensional que tenemos es: \\n{array_bidimensional}\")"
   ]
  },
  {
   "cell_type": "markdown",
   "metadata": {},
   "source": [
    "- Suma el primer array con el segundo."
   ]
  },
  {
   "cell_type": "code",
   "execution_count": 58,
   "metadata": {},
   "outputs": [
    {
     "name": "stdout",
     "output_type": "stream",
     "text": [
      "[49 37 14 38 11 16 40 26 15 34 39 12 33  4  3 22 11 30  6 41]\n",
      "[2 3 3 3 2 1 2 4 1 4 4 3 4 1 2 3 1 3 4 2]\n",
      "-------------------------------------------------------------\n",
      "El resultado de la suma de los dos arrays es:\n",
      " [51 40 17 41 13 17 42 30 16 38 43 15 37  5  5 25 12 33 10 43]\n"
     ]
    }
   ],
   "source": [
    "suma = np.add(array1, array2)\n",
    "\n",
    "print(array1)\n",
    "print(array2)\n",
    "\n",
    "print(\"-------------------------------------------------------------\")\n",
    "print(\"El resultado de la suma de los dos arrays es:\\n\", suma)"
   ]
  },
  {
   "cell_type": "markdown",
   "metadata": {},
   "source": [
    "- Aplicar la potencia para el primer array elevado al segundo."
   ]
  },
  {
   "cell_type": "code",
   "execution_count": 59,
   "metadata": {},
   "outputs": [
    {
     "name": "stdout",
     "output_type": "stream",
     "text": [
      "[49 37 14 38 11 16 40 26 15 34 39 12 33  4  3 22 11 30  6 41]\n",
      "[2 3 3 3 2 1 2 4 1 4 4 3 4 1 2 3 1 3 4 2]\n",
      "-------------------------------------------------------------\n",
      "El resultado de la potencia es:\n",
      " [   2401   50653    2744   54872     121      16    1600  456976      15\n",
      " 1336336 2313441    1728 1185921       4       9   10648      11   27000\n",
      "    1296    1681]\n"
     ]
    }
   ],
   "source": [
    "potencia = np.power(array1, array2)\n",
    "\n",
    "print(array1)\n",
    "print(array2)\n",
    "\n",
    "print(\"-------------------------------------------------------------\")\n",
    "print(\"El resultado de la potencia es:\\n\", potencia)"
   ]
  }
 ],
 "metadata": {
  "kernelspec": {
   "display_name": "base",
   "language": "python",
   "name": "python3"
  },
  "language_info": {
   "codemirror_mode": {
    "name": "ipython",
    "version": 3
   },
   "file_extension": ".py",
   "mimetype": "text/x-python",
   "name": "python",
   "nbconvert_exporter": "python",
   "pygments_lexer": "ipython3",
   "version": "3.9.7"
  }
 },
 "nbformat": 4,
 "nbformat_minor": 2
}
