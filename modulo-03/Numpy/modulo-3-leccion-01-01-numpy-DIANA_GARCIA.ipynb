{
 "cells": [
  {
   "cell_type": "markdown",
   "metadata": {},
   "source": [
    "EJERCICIOS DE NUMPY"
   ]
  },
  {
   "cell_type": "code",
   "execution_count": 18,
   "metadata": {},
   "outputs": [
    {
     "name": "stdout",
     "output_type": "stream",
     "text": [
      "Requirement already satisfied: numpy in /home/admin_diana/anaconda3/lib/python3.9/site-packages (1.20.3)\n"
     ]
    }
   ],
   "source": [
    "!pip install numpy"
   ]
  },
  {
   "cell_type": "markdown",
   "metadata": {},
   "source": [
    "1.  Genera un *array* bidimensional de 4 x 3 con valores aleatorios enteros entre el 34 y el 98. Una vez creado cada array comprueba las dimensiones y los tipos de datos que tenemos en el array."
   ]
  },
  {
   "cell_type": "code",
   "execution_count": 2,
   "metadata": {},
   "outputs": [],
   "source": [
    "import numpy as np"
   ]
  },
  {
   "cell_type": "code",
   "execution_count": 27,
   "metadata": {},
   "outputs": [
    {
     "name": "stdout",
     "output_type": "stream",
     "text": [
      "Array:\n",
      "[[53 88 44]\n",
      " [53 45 80]\n",
      " [86 42 35]\n",
      " [60 54 93]]\n",
      "\n",
      "Dimensiones del array: (4, 3)\n",
      "Tipo de datos de los elementos del array: int64\n"
     ]
    }
   ],
   "source": [
    "array = np.random.randint(34, 98, size = (4, 3))\n",
    "\n",
    "dimensiones = array.shape\n",
    "\n",
    "tipo_dato = array.dtype\n",
    "\n",
    "print(\"Array:\")\n",
    "print(array)\n",
    "print(\"\\nDimensiones del array:\", dimensiones)\n",
    "print(\"Tipo de datos de los elementos del array:\", tipo_dato)"
   ]
  },
  {
   "cell_type": "markdown",
   "metadata": {},
   "source": [
    "2. Crea dos *arrays* (unidimensional, bidimensional) usando el método `np.array()`. \n",
    "\n",
    "    Las listas para crear los *arrays* son las siguientes\n",
    "\n",
    "    ```python\n",
    "    lista1 = [34,56,71,98, 10]\n",
    "    lista2 = [[23,45,89, 56], [12,43,82,44]]\n",
    "    ```"
   ]
  },
  {
   "cell_type": "code",
   "execution_count": 5,
   "metadata": {},
   "outputs": [
    {
     "name": "stdout",
     "output_type": "stream",
     "text": [
      "El array unidimensional creado a partir de la lista es: [34 56 71 98 10]\n"
     ]
    }
   ],
   "source": [
    "lista1 = [34,56,71,98, 10]\n",
    "\n",
    "array_unidimensional = np.array(lista1)\n",
    "\n",
    "print(f\"El array unidimensional creado a partir de la lista es: {array_unidimensional}\")"
   ]
  },
  {
   "cell_type": "code",
   "execution_count": 8,
   "metadata": {},
   "outputs": [
    {
     "name": "stdout",
     "output_type": "stream",
     "text": [
      "El array bidimensional creado a partir de la lista es: \n",
      " [[23 45 89 56]\n",
      " [12 43 82 44]]\n"
     ]
    }
   ],
   "source": [
    "lista2 = [[23,45,89, 56], [12,43,82,44]]\n",
    "\n",
    "array_bidimensional = np.array(lista2)\n",
    "\n",
    "print(f\"El array bidimensional creado a partir de la lista es: \\n {array_bidimensional}\")"
   ]
  },
  {
   "cell_type": "markdown",
   "metadata": {},
   "source": [
    "**Bonus**\n",
    "\n",
    "Haz una pequeña descripción de cada *array* usando los métodos de exploración de *arrays* que hemos aprendido."
   ]
  },
  {
   "cell_type": "code",
   "execution_count": 16,
   "metadata": {},
   "outputs": [
    {
     "name": "stdout",
     "output_type": "stream",
     "text": [
      "-------------ARRAY UNIDIMENSIONAL--------------\n",
      "El array unidimensional es: \n",
      " [34 56 71 98 10]\n",
      "La forma del array unidimensional es: (5,)\n",
      "El número de dimensiones del array unidimensional es: 1\n",
      "El número de elementos del array unidimensional es: 5\n",
      "El tipo de dato que tenemos en el array unidimensional es: int64\n"
     ]
    }
   ],
   "source": [
    "print(\"-------------ARRAY UNIDIMENSIONAL--------------\")\n",
    "print(f\"El array unidimensional es: \\n {array_unidimensional}\")\n",
    "print(f\"La forma del array unidimensional es: {array_unidimensional.shape}\")\n",
    "print(f\"El número de dimensiones del array unidimensional es: {array_unidimensional.ndim}\")\n",
    "print(f\"El número de elementos del array unidimensional es: {array_unidimensional.size}\")\n",
    "print(f\"El tipo de dato que tenemos en el array unidimensional es: {array_unidimensional.dtype}\")"
   ]
  },
  {
   "cell_type": "code",
   "execution_count": 15,
   "metadata": {},
   "outputs": [
    {
     "name": "stdout",
     "output_type": "stream",
     "text": [
      "-------------ARRAY BIDIMENSIONAL--------------\n",
      "El array bidimensional es: \n",
      " [[23 45 89 56]\n",
      " [12 43 82 44]]\n",
      "La forma del array biidimensional es: (2, 4)\n",
      "El número de dimensiones del array bidimensional es: 2\n",
      "El número de elementos del array bidimensional es: 8\n",
      "El tipo de dato que tenemos en el array bidimensional es: int64\n"
     ]
    }
   ],
   "source": [
    "print(\"-------------ARRAY BIDIMENSIONAL--------------\")\n",
    "print(f\"El array bidimensional es: \\n {array_bidimensional}\")\n",
    "print(f\"La forma del array biidimensional es: {array_bidimensional.shape}\")\n",
    "print(f\"El número de dimensiones del array bidimensional es: {array_bidimensional.ndim}\")\n",
    "print(f\"El número de elementos del array bidimensional es: {array_bidimensional.size}\")\n",
    "print(f\"El tipo de dato que tenemos en el array bidimensional es: {array_bidimensional.dtype}\")"
   ]
  }
 ],
 "metadata": {
  "kernelspec": {
   "display_name": "base",
   "language": "python",
   "name": "python3"
  },
  "language_info": {
   "codemirror_mode": {
    "name": "ipython",
    "version": 3
   },
   "file_extension": ".py",
   "mimetype": "text/x-python",
   "name": "python",
   "nbconvert_exporter": "python",
   "pygments_lexer": "ipython3",
   "version": "3.9.7"
  }
 },
 "nbformat": 4,
 "nbformat_minor": 2
}
