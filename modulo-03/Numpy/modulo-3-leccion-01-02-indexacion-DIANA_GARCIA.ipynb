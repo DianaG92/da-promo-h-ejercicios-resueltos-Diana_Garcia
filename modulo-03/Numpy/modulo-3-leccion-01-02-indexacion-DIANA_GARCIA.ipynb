{
 "cells": [
  {
   "cell_type": "markdown",
   "metadata": {},
   "source": [
    "EJERCICIOS DE INDEXACIÓN"
   ]
  },
  {
   "cell_type": "markdown",
   "metadata": {},
   "source": [
    "1. Crea un *array* unidimensional con 50 elementos con el método que prefieras y extrae:"
   ]
  },
  {
   "cell_type": "code",
   "execution_count": 34,
   "metadata": {},
   "outputs": [
    {
     "name": "stdout",
     "output_type": "stream",
     "text": [
      "El array unidimensional que tenemos es: \n",
      "[0.35445272 0.61452214 0.4563662  0.60794883 0.52892002 0.01835817\n",
      " 0.80112615 0.05910644 0.92162246 0.4842857  0.54674923 0.7562068\n",
      " 0.94814109 0.95304919 0.47470592 0.29048055 0.64414137 0.88396775\n",
      " 0.84555933 0.20598173 0.70042114 0.84655937 0.62623105 0.80641319\n",
      " 0.90132818 0.86215255 0.44084193 0.5382111  0.34567683 0.94330549\n",
      " 0.91805056 0.73022422 0.50961613 0.64702061 0.43363217 0.82142765\n",
      " 0.88017356 0.95969502 0.44318558 0.99509397 0.36178289 0.64190789\n",
      " 0.85150927 0.61970088 0.20025588 0.35576821 0.21921281 0.37780647\n",
      " 0.08316431 0.93636764]\n"
     ]
    }
   ],
   "source": [
    "import numpy as np\n",
    "\n",
    "array_unidimensional = np.random.random(50)\n",
    "\n",
    "print(f\"El array unidimensional que tenemos es: \\n{array_unidimensional}\")"
   ]
  },
  {
   "cell_type": "markdown",
   "metadata": {},
   "source": [
    " - El primer elemento."
   ]
  },
  {
   "cell_type": "code",
   "execution_count": 35,
   "metadata": {},
   "outputs": [
    {
     "data": {
      "text/plain": [
       "0.35445272152547236"
      ]
     },
     "execution_count": 35,
     "metadata": {},
     "output_type": "execute_result"
    }
   ],
   "source": [
    "array_unidimensional[0]"
   ]
  },
  {
   "cell_type": "markdown",
   "metadata": {},
   "source": [
    "- Los elementos que están en posición impar."
   ]
  },
  {
   "cell_type": "code",
   "execution_count": 36,
   "metadata": {},
   "outputs": [
    {
     "name": "stdout",
     "output_type": "stream",
     "text": [
      "Los elementos que están en posición impar en el array son: \n",
      "[0.61452214 0.60794883 0.01835817 0.05910644 0.4842857  0.7562068\n",
      " 0.95304919 0.29048055 0.88396775 0.20598173 0.84655937 0.80641319\n",
      " 0.86215255 0.5382111  0.94330549 0.73022422 0.64702061 0.82142765\n",
      " 0.95969502 0.99509397 0.64190789 0.61970088 0.35576821 0.37780647\n",
      " 0.93636764]\n"
     ]
    }
   ],
   "source": [
    "array_unidimensional[1::2]\n",
    "\n",
    "print(f\"Los elementos que están en posición impar en el array son: \\n{array_unidimensional[1::2]}\")"
   ]
  },
  {
   "cell_type": "markdown",
   "metadata": {},
   "source": [
    "- Los cuatro primeros elementos."
   ]
  },
  {
   "cell_type": "code",
   "execution_count": 37,
   "metadata": {},
   "outputs": [
    {
     "name": "stdout",
     "output_type": "stream",
     "text": [
      "Los cuatro primeros elementos del array son: \n",
      "[0.35445272 0.61452214 0.4563662  0.60794883]\n"
     ]
    }
   ],
   "source": [
    "array_unidimensional[:4]\n",
    "\n",
    "print(f\"Los cuatro primeros elementos del array son: \\n{array_unidimensional[:4]}\")"
   ]
  },
  {
   "cell_type": "markdown",
   "metadata": {},
   "source": [
    "- Los últimos tres elementos."
   ]
  },
  {
   "cell_type": "code",
   "execution_count": 38,
   "metadata": {},
   "outputs": [
    {
     "name": "stdout",
     "output_type": "stream",
     "text": [
      "Los tres últimos elementos del array son: \n",
      "[0.37780647 0.08316431 0.93636764]\n"
     ]
    }
   ],
   "source": [
    "array_unidimensional[-3:]\n",
    "\n",
    "print(f\"Los tres últimos elementos del array son: \\n{array_unidimensional[-3:]}\")"
   ]
  },
  {
   "cell_type": "markdown",
   "metadata": {},
   "source": [
    "- Los elementos entre el 4 y el 8 (incluido). "
   ]
  },
  {
   "cell_type": "code",
   "execution_count": 39,
   "metadata": {},
   "outputs": [
    {
     "name": "stdout",
     "output_type": "stream",
     "text": [
      "Los elementos entre el 4 y el 8 (incluido) del array son: \n",
      "[0.52892002 0.01835817 0.80112615 0.05910644 0.92162246]\n"
     ]
    }
   ],
   "source": [
    "array_unidimensional[4:9]\n",
    "\n",
    "print(f\"Los elementos entre el 4 y el 8 (incluido) del array son: \\n{array_unidimensional[4:9]}\")"
   ]
  },
  {
   "cell_type": "markdown",
   "metadata": {},
   "source": [
    "2. Crea un *array* de dos dimensiones de 4 x 5 con el método que prefieras y extrae:"
   ]
  },
  {
   "cell_type": "code",
   "execution_count": 53,
   "metadata": {},
   "outputs": [
    {
     "data": {
      "text/plain": [
       "array([[0.87635216, 0.73721872, 0.98291056, 0.52959183, 0.03210455],\n",
       "       [0.04630443, 0.55459345, 0.48236194, 0.06607767, 0.5373123 ],\n",
       "       [0.42428142, 0.02796122, 0.35801492, 0.48471008, 0.15060218],\n",
       "       [0.0282212 , 0.13968513, 0.52139043, 0.68109644, 0.8750587 ]])"
      ]
     },
     "execution_count": 53,
     "metadata": {},
     "output_type": "execute_result"
    }
   ],
   "source": [
    "array_bidimensional = np.random.random((4, 5))\n",
    "\n",
    "array_bidimensional"
   ]
  },
  {
   "cell_type": "markdown",
   "metadata": {},
   "source": [
    "- La primera fila y todas las columnas."
   ]
  },
  {
   "cell_type": "code",
   "execution_count": 71,
   "metadata": {},
   "outputs": [
    {
     "name": "stdout",
     "output_type": "stream",
     "text": [
      "La primera fila del array y todas las columnas son: \n",
      "[0.87635216 0.73721872 0.98291056 0.52959183 0.03210455]\n"
     ]
    }
   ],
   "source": [
    "array_bidimensional[0,:]\n",
    "\n",
    "print(f\"La primera fila del array y todas las columnas son: \\n{array_bidimensional[0,:]}\")"
   ]
  },
  {
   "cell_type": "markdown",
   "metadata": {},
   "source": [
    "- Todas las filas pares."
   ]
  },
  {
   "cell_type": "code",
   "execution_count": 72,
   "metadata": {},
   "outputs": [
    {
     "name": "stdout",
     "output_type": "stream",
     "text": [
      "Las filas pares del array son: \n",
      "[[0.87635216 0.73721872 0.98291056 0.52959183 0.03210455]\n",
      " [0.42428142 0.02796122 0.35801492 0.48471008 0.15060218]]\n"
     ]
    }
   ],
   "source": [
    "array_bidimensional[0:2]\n",
    "\n",
    "print(f\"Las filas pares del array son: \\n{array_bidimensional[0::2]}\")"
   ]
  },
  {
   "cell_type": "markdown",
   "metadata": {},
   "source": [
    "- La primera columna y todas las filas."
   ]
  },
  {
   "cell_type": "code",
   "execution_count": 73,
   "metadata": {},
   "outputs": [
    {
     "name": "stdout",
     "output_type": "stream",
     "text": [
      "La primera columna y todas las filas del array son: \n",
      "[0.87635216 0.04630443 0.42428142 0.0282212 ]\n"
     ]
    }
   ],
   "source": [
    "array_bidimensional[:,0]\n",
    "\n",
    "print(f\"La primera columna y todas las filas del array son: \\n{array_bidimensional[:,0]}\")"
   ]
  }
 ],
 "metadata": {
  "kernelspec": {
   "display_name": "base",
   "language": "python",
   "name": "python3"
  },
  "language_info": {
   "codemirror_mode": {
    "name": "ipython",
    "version": 3
   },
   "file_extension": ".py",
   "mimetype": "text/x-python",
   "name": "python",
   "nbconvert_exporter": "python",
   "pygments_lexer": "ipython3",
   "version": "3.9.7"
  }
 },
 "nbformat": 4,
 "nbformat_minor": 2
}
