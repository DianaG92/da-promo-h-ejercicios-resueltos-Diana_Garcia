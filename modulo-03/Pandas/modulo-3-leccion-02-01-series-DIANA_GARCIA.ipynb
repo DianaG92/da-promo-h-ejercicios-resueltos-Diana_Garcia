{
 "cells": [
  {
   "cell_type": "markdown",
   "metadata": {},
   "source": [
    "EJERCICIOS DE SERIES"
   ]
  },
  {
   "cell_type": "markdown",
   "metadata": {},
   "source": [
    "1. Crea una serie con numeros correlativos entre 1 y 12 inclusive (puedes hacerlo como lista o diccionario): "
   ]
  },
  {
   "cell_type": "code",
   "execution_count": 33,
   "metadata": {},
   "outputs": [
    {
     "data": {
      "text/plain": [
       "0      1\n",
       "1      2\n",
       "2      3\n",
       "3      4\n",
       "4      5\n",
       "5      6\n",
       "6      7\n",
       "7      8\n",
       "8      9\n",
       "9     10\n",
       "10    11\n",
       "11    12\n",
       "dtype: int64"
      ]
     },
     "execution_count": 33,
     "metadata": {},
     "output_type": "execute_result"
    }
   ],
   "source": [
    "import pandas as pd\n",
    "\n",
    "lista = [1, 2, 3, 4, 5, 6, 7, 8, 9, 10, 11, 12,]\n",
    "\n",
    "serie = pd.Series(lista)\n",
    "\n",
    "serie"
   ]
  },
  {
   "cell_type": "markdown",
   "metadata": {},
   "source": [
    "- Cambia el indice de la serie anteriormente creada para que comience con el numero 20."
   ]
  },
  {
   "cell_type": "code",
   "execution_count": 26,
   "metadata": {},
   "outputs": [
    {
     "data": {
      "text/plain": [
       "20     1\n",
       "21     2\n",
       "22     3\n",
       "23     4\n",
       "24     5\n",
       "25     6\n",
       "26     7\n",
       "27     8\n",
       "28     9\n",
       "29    10\n",
       "30    11\n",
       "31    12\n",
       "dtype: int64"
      ]
     },
     "execution_count": 26,
     "metadata": {},
     "output_type": "execute_result"
    }
   ],
   "source": [
    "serie_indice = pd.Series(lista, index = [20, 21, 22, 23, 24, 25, 26, 27, 28, 29, 30, 31])\n",
    "\n",
    "serie_indice"
   ]
  },
  {
   "cell_type": "markdown",
   "metadata": {},
   "source": [
    "- Nuevamente cambia el indice de la serie, esta vez con una lista que haga referencia a los meses del año (tenemos 12 elementos como la cantidad de meses del año)."
   ]
  },
  {
   "cell_type": "code",
   "execution_count": 40,
   "metadata": {},
   "outputs": [
    {
     "data": {
      "text/plain": [
       "Enero          1\n",
       "Febrero        2\n",
       "Marzo          3\n",
       "Abril          4\n",
       "Mayo           5\n",
       "Junio          6\n",
       "Julio          7\n",
       "Agosto         8\n",
       "Septiembre     9\n",
       "Octubre       10\n",
       "Noviembre     11\n",
       "Diciembre     12\n",
       "dtype: int64"
      ]
     },
     "execution_count": 40,
     "metadata": {},
     "output_type": "execute_result"
    }
   ],
   "source": [
    "serie_meses = pd.Series(lista, index = [\"Enero\", \"Febrero\", \"Marzo\", \"Abril\", \"Mayo\", \"Junio\", \"Julio\", \"Agosto\", \"Septiembre\", \"Octubre\", \"Noviembre\", \"Diciembre\"])\n",
    "\n",
    "serie_meses"
   ]
  },
  {
   "cell_type": "markdown",
   "metadata": {},
   "source": [
    "- Muestra los valores que estan en la posicion 3 y 8 de mi serie."
   ]
  },
  {
   "cell_type": "code",
   "execution_count": 39,
   "metadata": {},
   "outputs": [
    {
     "name": "stdout",
     "output_type": "stream",
     "text": [
      "El valor que está en posición 3 es: 4\n",
      "El valor que está en posición 8 es: 9\n"
     ]
    }
   ],
   "source": [
    "serie.index[3]\n",
    "print(\"El valor que está en posición 3 es:\", serie[3])  \n",
    "\n",
    "serie.index[8]\n",
    "print(\"El valor que está en posición 8 es:\", serie[8])  "
   ]
  },
  {
   "cell_type": "markdown",
   "metadata": {},
   "source": [
    "- Muestra los valores que estan etiquetados en enero y agosto."
   ]
  },
  {
   "cell_type": "code",
   "execution_count": 46,
   "metadata": {},
   "outputs": [
    {
     "name": "stdout",
     "output_type": "stream",
     "text": [
      "El valor que tiene enero como etiqueta es: 1\n",
      "El valor que tiene agosto como etiqueta es: 8\n"
     ]
    }
   ],
   "source": [
    "serie_meses[\"Enero\"]\n",
    "print(\"El valor que tiene enero como etiqueta es:\", serie_meses[\"Enero\"])  \n",
    "\n",
    "serie_meses[\"Agosto\"]\n",
    "print(\"El valor que tiene agosto como etiqueta es:\", serie_meses[\"Agosto\"])  "
   ]
  },
  {
   "cell_type": "markdown",
   "metadata": {},
   "source": [
    "- Muestra sus valores, indices, forma, tamaño y el tipo de elementos de la serie."
   ]
  },
  {
   "cell_type": "code",
   "execution_count": 54,
   "metadata": {},
   "outputs": [
    {
     "name": "stdout",
     "output_type": "stream",
     "text": [
      "Los valores de la serie son: [ 1  2  3  4  5  6  7  8  9 10 11 12]\n",
      "Los indices de la serie son: RangeIndex(start=0, stop=12, step=1)\n",
      "La forma de la serie es: (12,)\n",
      "El tamaño de la serie es: 12\n",
      "El tipo de elementos de la serie es: int64\n"
     ]
    }
   ],
   "source": [
    "serie.values\n",
    "print(f\"Los valores de la serie son:\", serie.values)\n",
    "\n",
    "serie.index\n",
    "print(f\"Los indices de la serie son:\", serie.index)\n",
    "\n",
    "serie.shape\n",
    "print(f\"La forma de la serie es:\", serie.shape)\n",
    "\n",
    "serie.size\n",
    "print(f\"El tamaño de la serie es:\", serie.size)\n",
    "\n",
    "serie.dtype\n",
    "print(f\"El tipo de elementos de la serie es:\", serie.dtype)"
   ]
  }
 ],
 "metadata": {
  "kernelspec": {
   "display_name": "base",
   "language": "python",
   "name": "python3"
  },
  "language_info": {
   "codemirror_mode": {
    "name": "ipython",
    "version": 3
   },
   "file_extension": ".py",
   "mimetype": "text/x-python",
   "name": "python",
   "nbconvert_exporter": "python",
   "pygments_lexer": "ipython3",
   "version": "3.9.7"
  }
 },
 "nbformat": 4,
 "nbformat_minor": 2
}
